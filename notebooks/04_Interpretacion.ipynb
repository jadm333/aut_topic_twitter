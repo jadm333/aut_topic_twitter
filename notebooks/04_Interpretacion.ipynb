{
 "cells": [
  {
   "cell_type": "markdown",
   "metadata": {},
   "source": [
    "# Prev"
   ]
  },
  {
   "cell_type": "code",
   "execution_count": 7,
   "metadata": {},
   "outputs": [
    {
     "name": "stderr",
     "output_type": "stream",
     "text": [
      "/opt/conda/lib/python3.8/site-packages/ipykernel/ipkernel.py:287: DeprecationWarning: `should_run_async` will not call `transform_cell` automatically in the future. Please pass the result to `transformed_cell` argument and any exception that happen during thetransform in `preprocessing_exc_tuple` in IPython 7.17 and above.\n",
      "  and should_run_async(code)\n"
     ]
    }
   ],
   "source": [
    "import warnings\n",
    "warnings.simplefilter('ignore')\n",
    "warnings.filterwarnings('ignore')"
   ]
  },
  {
   "cell_type": "code",
   "execution_count": 1,
   "metadata": {},
   "outputs": [],
   "source": [
    "from gensim.models import AuthorTopicModel\n",
    "from gensim import matutils\n",
    "import pickle\n",
    "import sys\n",
    "import pandas as pd\n",
    "import plotly.express as px\n",
    "import plotly.io as pio\n",
    "from sklearn.manifold import TSNE\n",
    "from sklearn.cluster import KMeans, spectral_clustering\n",
    "import numpy as np\n",
    "sys.path.insert(1, '../')\n",
    "from helpers.AutTop_pyLDAviz import prepare\n",
    "import pyLDAvis \n",
    "import os\n",
    "from ray.tune import Analysis\n",
    "import umap"
   ]
  },
  {
   "cell_type": "markdown",
   "metadata": {},
   "source": [
    "# Mejor Modelo"
   ]
  },
  {
   "cell_type": "code",
   "execution_count": 9,
   "metadata": {},
   "outputs": [],
   "source": [
    "ray_path = os.getcwd().replace(\"/notebooks\", \"\")"
   ]
  },
  {
   "cell_type": "code",
   "execution_count": 10,
   "metadata": {},
   "outputs": [],
   "source": [
    "analysis_114_104 = Analysis(ray_path + \"/ray_results/final_num_topics_111_106\")"
   ]
  },
  {
   "cell_type": "markdown",
   "metadata": {},
   "source": [
    "**Para 104_1114**: **Para 111_106**: Mejor trial 83e4d_00000  \n",
    "**Para 111_106**: ab6ef_00002"
   ]
  },
  {
   "cell_type": "code",
   "execution_count": 11,
   "metadata": {},
   "outputs": [],
   "source": [
    "analysis_df = analysis_114_104.dataframe(metric=\"topic_coherence\", mode=\"max\")\n",
    "best_model_df = analysis_df[analysis_df[\"trial_id\"] == \"ab6ef_00002\"]\n",
    "best_model_path = best_model_df[\"logdir\"].values[0]\n",
    "best_model = AuthorTopicModel.load(best_model_path + '/model.save')\n"
   ]
  },
  {
   "cell_type": "markdown",
   "metadata": {},
   "source": [
    "## Corpus, diccionario"
   ]
  },
  {
   "cell_type": "code",
   "execution_count": 12,
   "metadata": {},
   "outputs": [
    {
     "name": "stdout",
     "output_type": "stream",
     "text": [
      "# de autores: 112\n",
      "# tokens unicos: 17664\n",
      "# de documentos: 23348\n"
     ]
    }
   ],
   "source": [
    "with open(\"pickles/preprocesamiento.pickle\", \"rb\") as f:\n",
    "    (\n",
    "        dictionary,\n",
    "        corpus_train,\n",
    "        corpus_test,\n",
    "        author2doc_train,\n",
    "        author2doc_test,\n",
    "        train_df,\n",
    "        test_df\n",
    "    ) = pickle.load(f) \n",
    "\n",
    "print(f'# de autores: {len(author2doc_train)}')\n",
    "print(f'# tokens unicos: {len(dictionary)}')\n",
    "print(f'# de documentos: {len(corpus_train)}')"
   ]
  },
  {
   "cell_type": "markdown",
   "metadata": {},
   "source": [
    "# Explorando"
   ]
  },
  {
   "cell_type": "markdown",
   "metadata": {},
   "source": [
    "## Topico"
   ]
  },
  {
   "cell_type": "markdown",
   "metadata": {},
   "source": [
    "### Topico"
   ]
  },
  {
   "cell_type": "code",
   "execution_count": 21,
   "metadata": {},
   "outputs": [
    {
     "data": {
      "text/plain": [
       "[('Cup', 5.66123188405797e-05),\n",
       " ('tuitear', 5.66123188405797e-05),\n",
       " ('Portada', 5.66123188405797e-05),\n",
       " ('luisederbez', 5.66123188405797e-05),\n",
       " ('via_Universal', 5.66123188405797e-05),\n",
       " ('our', 5.66123188405797e-05),\n",
       " ('Mexicans', 5.66123188405797e-05),\n",
       " ('Promesas', 5.66123188405797e-05),\n",
       " ('difusin', 5.66123188405797e-05),\n",
       " ('than', 5.66123188405797e-05)]"
      ]
     },
     "execution_count": 21,
     "metadata": {},
     "output_type": "execute_result"
    }
   ],
   "source": [
    "best_model.show_topic(34)"
   ]
  },
  {
   "cell_type": "markdown",
   "metadata": {},
   "source": [
    "### Topicos"
   ]
  },
  {
   "cell_type": "code",
   "execution_count": null,
   "metadata": {},
   "outputs": [],
   "source": []
  },
  {
   "cell_type": "code",
   "execution_count": 22,
   "metadata": {},
   "outputs": [
    {
     "data": {
      "text/plain": [
       "[(0,\n",
       "  [('Va ElFinanciero_Mx', 0.023754263454925036),\n",
       "   ('DAS', 0.01782582703770117),\n",
       "   ('CORRUPTOS', 0.01782582703770117)]),\n",
       " (1,\n",
       "  [('via_Universal', 5.661231884057971e-05),\n",
       "   ('luisederbez', 5.661231884057971e-05),\n",
       "   ('our', 5.661231884057971e-05)]),\n",
       " (2,\n",
       "  [('Y', 0.058487576970645),\n",
       "   ('Gracias', 0.04966682972231222),\n",
       "   ('segundo', 0.041335620033310205)]),\n",
       " (3,\n",
       "  [('pontifex', 0.18681070131047942),\n",
       "   ('Pontifex', 0.05319721654886422),\n",
       "   ('Huntington', 0.022890054677797315)]),\n",
       " (4,\n",
       "  [('via_Universal', 5.661231884057971e-05),\n",
       "   ('luisederbez', 5.661231884057971e-05),\n",
       "   ('our', 5.661231884057971e-05)]),\n",
       " (5,\n",
       "  [('via_Universal', 5.661231884057971e-05),\n",
       "   ('luisederbez', 5.661231884057971e-05),\n",
       "   ('our', 5.661231884057971e-05)]),\n",
       " (6,\n",
       "  [('via_Universal', 5.661231884057971e-05),\n",
       "   ('luisederbez', 5.661231884057971e-05),\n",
       "   ('our', 5.661231884057971e-05)]),\n",
       " (7,\n",
       "  [('ALAIRE', 0.0731157918866082),\n",
       "   ('Imagen Radio', 0.0372900866522267),\n",
       "   ('MsGrandeQueNunca', 0.028690972198214183)]),\n",
       " (8,\n",
       "  [('via_Universal', 5.661231884057971e-05),\n",
       "   ('luisederbez', 5.661231884057971e-05),\n",
       "   ('our', 5.661231884057971e-05)]),\n",
       " (9,\n",
       "  [('via_Universal', 5.661231884057971e-05),\n",
       "   ('luisederbez', 5.661231884057971e-05),\n",
       "   ('our', 5.661231884057971e-05)]),\n",
       " (10,\n",
       "  [('via_Universal', 5.661231884057971e-05),\n",
       "   ('luisederbez', 5.661231884057971e-05),\n",
       "   ('our', 5.661231884057971e-05)]),\n",
       " (11,\n",
       "  [('Vaticano', 0.013320873590243013),\n",
       "   ('EnLaRed', 0.011987654313885238),\n",
       "   ('audiencia', 0.009733353751123103)]),\n",
       " (12,\n",
       "  [('jorgeacast', 0.025999132243634458),\n",
       "   ('carloselizondom', 0.018581714457712402),\n",
       "   ('maguimartinez fer_cota maluflores', 0.014873005564751372)]),\n",
       " (13,\n",
       "  [('verne', 0.030320077436700035),\n",
       "   ('Lomsvisto', 0.025993821232743658),\n",
       "   ('En icon_elpais', 0.01734130882483091)]),\n",
       " (14,\n",
       "  [('SiNoLoViste', 0.03678073785679137),\n",
       "   ('CentenarioInformador', 0.02208077147334129),\n",
       "   ('Compartimos', 0.021976361503255198)]),\n",
       " (15,\n",
       "  [('EnfoqueNoticias', 0.12092821718554553),\n",
       "   ('Entrevista', 0.05226700956106289),\n",
       "   ('travs_FM', 0.022086834970800755)]),\n",
       " (16,\n",
       "  [('via_Universal', 5.661231884057971e-05),\n",
       "   ('luisederbez', 5.661231884057971e-05),\n",
       "   ('our', 5.661231884057971e-05)]),\n",
       " (17,\n",
       "  [('DjenseAh', 0.05106057266648094),\n",
       "   ('korno', 0.029947058931366052),\n",
       "   ('CharrosVsGangsters', 0.023230048334944187)]),\n",
       " (18,\n",
       "  [('enPunto', 0.07475522826442606),\n",
       "   ('AtandoCabos', 0.050326982839659314),\n",
       "   ('Chcalo', 0.03202271565817066)]),\n",
       " (19,\n",
       "  [('via_Universal', 5.661231884057971e-05),\n",
       "   ('luisederbez', 5.661231884057971e-05),\n",
       "   ('our', 5.661231884057971e-05)]),\n",
       " (20,\n",
       "  [('soysaverio', 0.02205325077736725),\n",
       "   ('tostalejandro', 0.013292850569295998),\n",
       "   ('aclaratorio', 0.013292850569295998)]),\n",
       " (21,\n",
       "  [('via_Universal', 5.661231884057971e-05),\n",
       "   ('luisederbez', 5.661231884057971e-05),\n",
       "   ('our', 5.661231884057971e-05)]),\n",
       " (22,\n",
       "  [('via_Universal', 5.661231884057971e-05),\n",
       "   ('luisederbez', 5.661231884057971e-05),\n",
       "   ('our', 5.661231884057971e-05)]),\n",
       " (23,\n",
       "  [('Afirma', 0.015028437448982562),\n",
       "   ('Iniciativas', 0.009770524755558762),\n",
       "   ('chispo', 0.009770524755558759)]),\n",
       " (24,\n",
       "  [('via_Universal', 5.661231884057971e-05),\n",
       "   ('luisederbez', 5.661231884057971e-05),\n",
       "   ('our', 5.661231884057971e-05)]),\n",
       " (25,\n",
       "  [('MarthaDebayleEnW', 0.07784821712233646),\n",
       "   ('InformacinW', 0.05689737504502421),\n",
       "   ('AsSopitas', 0.035946532967711976)]),\n",
       " (26,\n",
       "  [('via_Universal', 5.661231884057971e-05),\n",
       "   ('luisederbez', 5.661231884057971e-05),\n",
       "   ('our', 5.661231884057971e-05)]),\n",
       " (27,\n",
       "  [('PRI', 0.011980222648106187),\n",
       "   ('Duarte', 0.011501772786626903),\n",
       "   ('Edomex', 0.01097475140802235)]),\n",
       " (28,\n",
       "  [('via_Universal', 5.661231884057971e-05),\n",
       "   ('luisederbez', 5.661231884057971e-05),\n",
       "   ('our', 5.661231884057971e-05)]),\n",
       " (29,\n",
       "  [('Columna', 0.22847827797857967),\n",
       "   ('TodoPersonal', 0.0808576417606575),\n",
       "   ('ColumnaDeHoy', 0.048282465797336284)]),\n",
       " (30,\n",
       "  [('escribir', 0.018480854521496233),\n",
       "   ('historia', 0.014107968829776796),\n",
       "   ('aos', 0.011286996814787582)]),\n",
       " (31,\n",
       "  [('via_Universal', 5.661231884057971e-05),\n",
       "   ('luisederbez', 5.661231884057971e-05),\n",
       "   ('our', 5.661231884057971e-05)]),\n",
       " (32,\n",
       "  [('Universal', 0.15311988121641715),\n",
       "   ('El Universal', 0.10730982049051138),\n",
       "   ('artculo_Universal', 0.0703964292192512)]),\n",
       " (33,\n",
       "  [('leonardocurzio', 0.05345597065243826),\n",
       "   ('CeciliaBrockman', 0.042796575357205165),\n",
       "   ('Cecilia', 0.03210154760671736)]),\n",
       " (34,\n",
       "  [('via_Universal', 5.661231884057971e-05),\n",
       "   ('luisederbez', 5.661231884057971e-05),\n",
       "   ('our', 5.661231884057971e-05)]),\n",
       " (35,\n",
       "  [('JEPardinas', 0.022312967588704165),\n",
       "   ('NoticiasMVS', 0.020215126537337848),\n",
       "   ('LuisCardenasMx', 0.018293976250753113)]),\n",
       " (36,\n",
       "  [('Escribe', 0.029325483247777784),\n",
       "   ('ItinerarioPoltico', 0.026959917608142255),\n",
       "   ('GilGamesX', 0.023418415473500563)]),\n",
       " (37,\n",
       "  [('via_Universal', 5.661231884057971e-05),\n",
       "   ('luisederbez', 5.661231884057971e-05),\n",
       "   ('our', 5.661231884057971e-05)]),\n",
       " (38,\n",
       "  [('lt', 0.03961125100256128),\n",
       "   ('EmpezarA', 0.033891878821561264),\n",
       "   ('Paxton', 0.033891878821561264)]),\n",
       " (39,\n",
       "  [('TeconectaFm', 0.07120447822224668),\n",
       "   ('OnceNoticias', 0.024346988370336217),\n",
       "   ('Escuchamos', 0.023445882796261034)]),\n",
       " (40,\n",
       "  [('aire_ImagenTVMex', 0.06159938922596059),\n",
       "   ('Detalles', 0.04215558987549889),\n",
       "   ('Detalles a las hrs', 0.019293494490116442)]),\n",
       " (41,\n",
       "  [('LasNoticiasConKarlaIberia', 0.1849930835149202),\n",
       "   ('AlAireConPaola', 0.0298328153719667),\n",
       "   ('LasNoticiasConDanielle', 0.02047486590017648)]),\n",
       " (42,\n",
       "  [('columna', 0.026421349772192283),\n",
       "   ('AMLO', 0.018733232582296925),\n",
       "   ('Donald', 0.010323516924277387)]),\n",
       " (43,\n",
       "  [('via_Universal', 5.661231884057971e-05),\n",
       "   ('luisederbez', 5.661231884057971e-05),\n",
       "   ('our', 5.661231884057971e-05)]),\n",
       " (44,\n",
       "  [('via_Universal', 5.661231884057971e-05),\n",
       "   ('luisederbez', 5.661231884057971e-05),\n",
       "   ('our', 5.661231884057971e-05)]),\n",
       " (45,\n",
       "  [('immigrants', 0.02342530443628093),\n",
       "   ('column', 0.013670316777644648),\n",
       "   ('those', 0.011719319245917388)]),\n",
       " (46,\n",
       "  [('Escuchar', 0.010965543955554347),\n",
       "   ('ira', 0.009471426682864393),\n",
       "   ('fayamca', 0.009451896965795771)]),\n",
       " (47,\n",
       "  [('Atlante', 0.03622421518084833),\n",
       "   ('nación', 0.022503517020505112),\n",
       "   ('Nissan', 0.021049575967351526)]),\n",
       " (48,\n",
       "  [('via_Universal', 5.661231884057971e-05),\n",
       "   ('luisederbez', 5.661231884057971e-05),\n",
       "   ('our', 5.661231884057971e-05)]),\n",
       " (49,\n",
       "  [('Coincides', 0.02388113795411118),\n",
       "   ('Criminal', 0.02388113795411118),\n",
       "   ('MHcesac', 0.017869544259816537)]),\n",
       " (50,\n",
       "  [('VIDEO', 0.01526475799791945),\n",
       "   ('Papa', 0.013950316326140862),\n",
       "   ('aos', 0.009445595099787733)]),\n",
       " (51,\n",
       "  [('AbriendoLaConversacin', 0.04895683772495117),\n",
       "   ('TeleFrmula', 0.023645358813089257),\n",
       "   ('plaqueta', 0.015552626233315575)]),\n",
       " (52,\n",
       "  [('CDMX', 0.012700235799329574),\n",
       "   ('dejar', 0.010491811083089258),\n",
       "   ('mil', 0.007528351874415512)]),\n",
       " (53,\n",
       "  [('Sheldon', 0.032229818784508),\n",
       "   ('NotimexTV', 0.03202382418557259),\n",
       "   ('Morty', 0.030705999387384393)]),\n",
       " (54,\n",
       "  [('apontedavid', 0.04101051262537346),\n",
       "   ('Xurrutia', 0.030980351069419258),\n",
       "   ('IVANDIABLITO', 0.020667982232628987)]),\n",
       " (55,\n",
       "  [('EspecialesCrnica', 0.021370889357127727),\n",
       "   ('Clooney', 0.020018387514904274),\n",
       "   ('George Clooney', 0.020018387514904274)]),\n",
       " (56,\n",
       "  [('LoMsYI', 0.11776857775788209),\n",
       "   ('COLUMNA', 0.05210294458532761),\n",
       "   ('PrimerasPlanas', 0.02719529062332419)]),\n",
       " (57,\n",
       "  [('invalidatuvoto', 0.04365522233842155),\n",
       "   ('Jaspelazuli', 0.018729212776532084),\n",
       "   ('Agenda Pblica', 0.018729212776532084)]),\n",
       " (58,\n",
       "  [('Engntate', 0.02616549755853122),\n",
       "   ('NotiMinutoSeguridad', 0.020359090702901976),\n",
       "   ('VisitaGuiada', 0.020359090702901976)]),\n",
       " (59,\n",
       "  [('MaggieHegyi', 0.03326873621474959),\n",
       "   ('OpininUNO', 0.029641429044795747),\n",
       "   ('TrucosParaTi', 0.025975112116192748)]),\n",
       " (60,\n",
       "  [('via_Universal', 5.661231884057971e-05),\n",
       "   ('luisederbez', 5.661231884057971e-05),\n",
       "   ('our', 5.661231884057971e-05)]),\n",
       " (61,\n",
       "  [('juanmapregunta', 0.02917598562923775),\n",
       "   ('MarcaClaroMVS', 0.0185814634660936),\n",
       "   ('MesaParaTodos', 0.018556828703478877)]),\n",
       " (62,\n",
       "  [('Columna', 0.057840630424097476),\n",
       "   ('Destaca', 0.011275088021703638),\n",
       "   ('sombrilla', 0.007717475515499073)]),\n",
       " (63,\n",
       "  [('dganlo', 0.029901984743553423),\n",
       "   ('tenerla', 0.029901984743553423),\n",
       "   ('Yunque', 0.015581899785299872)]),\n",
       " (64,\n",
       "  [('via_Universal', 5.661231884057971e-05),\n",
       "   ('luisederbez', 5.661231884057971e-05),\n",
       "   ('our', 5.661231884057971e-05)]),\n",
       " (65,\n",
       "  [('SrBustosD Carvallo_MX UNAM_MX', 0.011442821805468774),\n",
       "   ('cc', 0.011434152482588682),\n",
       "   ('iOS', 0.009522544602404238)]),\n",
       " (66,\n",
       "  [('via_Universal', 5.661231884057971e-05),\n",
       "   ('luisederbez', 5.661231884057971e-05),\n",
       "   ('our', 5.661231884057971e-05)]),\n",
       " (67,\n",
       "  [('via_Universal', 5.661231884057971e-05),\n",
       "   ('luisederbez', 5.661231884057971e-05),\n",
       "   ('our', 5.661231884057971e-05)]),\n",
       " (68,\n",
       "  [('via_Universal', 5.661231884057971e-05),\n",
       "   ('luisederbez', 5.661231884057971e-05),\n",
       "   ('our', 5.661231884057971e-05)]),\n",
       " (69,\n",
       "  [('via_Universal', 5.661231884057971e-05),\n",
       "   ('luisederbez', 5.661231884057971e-05),\n",
       "   ('our', 5.661231884057971e-05)]),\n",
       " (70,\n",
       "  [('PeaNieto', 0.0373963125261411),\n",
       "   ('beber', 0.015919792539291586),\n",
       "   ('BastaDeImpunidad', 0.012475390367560844)]),\n",
       " (71,\n",
       "  [('semana', 0.021335639422891586),\n",
       "   ('aqu', 0.014869809114531927),\n",
       "   ('compartir', 0.013444222920959049)]),\n",
       " (72,\n",
       "  [('Nochixtlan', 0.023898674777101295),\n",
       "   ('Emiliano', 0.018541217032659908),\n",
       "   ('NiUnFraudeMasMX', 0.01670537139952691)]),\n",
       " (73,\n",
       "  [('capos', 0.026758034091859825),\n",
       "   ('muchsimos', 0.023281082859996072),\n",
       "   ('ngulo', 0.02126833072083476)]),\n",
       " (74,\n",
       "  [('via_Universal', 5.661231884057971e-05),\n",
       "   ('luisederbez', 5.661231884057971e-05),\n",
       "   ('our', 5.661231884057971e-05)]),\n",
       " (75,\n",
       "  [('Astillero', 0.0583054774745941),\n",
       "   ('MonerosLaJornada', 0.04240892201362298),\n",
       "   ('JornadaSanLuis', 0.02386294064249)]),\n",
       " (76,\n",
       "  [('IndicadorPolitico', 0.17468916799880538),\n",
       "   ('Columna IndicadorPolitico', 0.05277256737042156),\n",
       "   ('Columna_IndicadorPolitico', 0.04386018365446095)]),\n",
       " (77,\n",
       "  [('via_Universal', 5.661231884057971e-05),\n",
       "   ('luisederbez', 5.661231884057971e-05),\n",
       "   ('our', 5.661231884057971e-05)]),\n",
       " (78,\n",
       "  [('via_Universal', 5.661231884057971e-05),\n",
       "   ('luisederbez', 5.661231884057971e-05),\n",
       "   ('our', 5.661231884057971e-05)]),\n",
       " (79,\n",
       "  [('ForoGlobal', 0.06710537355972251),\n",
       "   ('PM', 0.02756203043332554),\n",
       "   ('SinFiltroTV', 0.020764298672268103)]),\n",
       " (80,\n",
       "  [('via_Universal', 5.661231884057971e-05),\n",
       "   ('luisederbez', 5.661231884057971e-05),\n",
       "   ('our', 5.661231884057971e-05)]),\n",
       " (81,\n",
       "  [('reformaopinion', 0.16765496549697373),\n",
       "   ('fpaolib', 0.06814056231245957),\n",
       "   ('alfsebastian', 0.029211659379149723)]),\n",
       " (82,\n",
       "  [('nayaroldan', 0.028951513621974862),\n",
       "   ('Xochitl', 0.021850642526639843),\n",
       "   ('obobadilla', 0.010944029720695091)]),\n",
       " (83,\n",
       "  [('asilascosasw', 0.2977397191624186),\n",
       "   ('MisCoordenadas', 0.04880536331484906),\n",
       "   ('MisCoordenadas_ElFinancieroTv', 0.0427901868123051)]),\n",
       " (84,\n",
       "  [('tuitero', 0.03000055863376269),\n",
       "   ('Dije', 0.02187300921420862),\n",
       "   ('panaclo', 0.021873009214208615)]),\n",
       " (85,\n",
       "  [('tringulo', 0.012875685396415284),\n",
       "   ('Carlos Salinas de Gortari', 0.0029591714766267056),\n",
       "   ('Fugas', 0.002959154333705526)]),\n",
       " (86,\n",
       "  [('via_Universal', 5.661231884057971e-05),\n",
       "   ('luisederbez', 5.661231884057971e-05),\n",
       "   ('our', 5.661231884057971e-05)]),\n",
       " (87,\n",
       "  [('ElFinanciero_Mx Buen', 0.12137325157837157),\n",
       "   ('LaFeria', 0.10873353029749387),\n",
       "   ('ElFinanciero_mx Buen', 0.03036725835605228)]),\n",
       " (88,\n",
       "  [('Genial', 0.026503965909072072),\n",
       "   ('MonerosLaJornada', 0.015936285177300898),\n",
       "   ('MexicaliResiste', 0.015936285177300898)]),\n",
       " (89,\n",
       "  [('via_Universal', 5.661231884057971e-05),\n",
       "   ('luisederbez', 5.661231884057971e-05),\n",
       "   ('our', 5.661231884057971e-05)]),\n",
       " (90,\n",
       "  [('LuisCardenasMVS', 0.12091239839827973),\n",
       "   ('LaPrimeraMVS', 0.060920040853449674),\n",
       "   ('LuisCrdenasMVS', 0.03919061025684299)]),\n",
       " (91,\n",
       "  [('LaOtraOpinion', 0.07448747021809572),\n",
       "   ('LaOtraOpinin', 0.055340458499283866),\n",
       "   ('FansDeMiyagi', 0.040598544508569596)]),\n",
       " (92,\n",
       "  [('RMXradio', 0.08905317263187822),\n",
       "   ('ExclsiorTv', 0.05981183214643268),\n",
       "   ('karinarmx', 0.02746140068920484)]),\n",
       " (93,\n",
       "  [('FM', 0.010340873062491361),\n",
       "   ('informacin', 0.009271281165640567),\n",
       "   ('periodista', 0.007260280596726788)]),\n",
       " (94,\n",
       "  [('via_Universal', 5.661231884057971e-05),\n",
       "   ('luisederbez', 5.661231884057971e-05),\n",
       "   ('our', 5.661231884057971e-05)]),\n",
       " (95,\n",
       "  [('aguadiana', 0.017112509124732368),\n",
       "   ('Axtel', 0.015713253803198702),\n",
       "   ('Totalplay', 0.015713253803198702)]),\n",
       " (96,\n",
       "  [('via_Universal', 5.661231884057971e-05),\n",
       "   ('luisederbez', 5.661231884057971e-05),\n",
       "   ('our', 5.661231884057971e-05)]),\n",
       " (97,\n",
       "  [('mileniotv', 0.19726424365426815),\n",
       "   ('relevante', 0.10161844001183291),\n",
       "   ('MilenioNoticias', 0.06113655083374325)]),\n",
       " (98,\n",
       "  [('EPN', 0.009596802085904995),\n",
       "   ('abrazar', 0.008488932733114171),\n",
       "   ('Aqu', 0.008244443105568084)]),\n",
       " (99,\n",
       "  [('OpininLSR', 0.059585209587668796),\n",
       "   ('OJO As', 0.016277419548273615),\n",
       "   ('plumavertical', 0.016277419548273612)]),\n",
       " (100,\n",
       "  [('Leyendo', 0.12668903838157208),\n",
       "   ('Francisco Garfias', 0.025360381188402007),\n",
       "   ('jalar', 0.015227515469084997)]),\n",
       " (101,\n",
       "  [('via_Universal', 5.661231884057971e-05),\n",
       "   ('luisederbez', 5.661231884057971e-05),\n",
       "   ('our', 5.661231884057971e-05)]),\n",
       " (102,\n",
       "  [('sdpnoticias', 0.08876636929540163),\n",
       "   ('Captan', 0.023046982495770654),\n",
       "   ('YoSoiTu', 0.01137680739760734)]),\n",
       " (103,\n",
       "  [('ESTRICTAMENTE', 0.057180533232836235),\n",
       "   ('Maana_ESTRICTAMENTE', 0.057180533232836235),\n",
       "   ('PERSONAL', 0.057180533232836235)]),\n",
       " (104,\n",
       "  [('VerVideo', 0.13999755265327168),\n",
       "   ('DeLasQueMeGustan', 0.016696589892329822),\n",
       "   ('holograma', 0.013364131439331392)]),\n",
       " (105,\n",
       "  [('LopezDoriga', 0.04072202774512743),\n",
       "   ('Leicester', 0.026818513511844846),\n",
       "   ('TeleFormula', 0.024621581723216927)]),\n",
       " (106,\n",
       "  [('EnLaRed GilGamesX', 0.05994254963126787),\n",
       "   ('EnLaRed JorgeGCastaneda', 0.03996911573046932),\n",
       "   ('EnLaRed leozuckermann', 0.0319797421701499)]),\n",
       " (107,\n",
       "  [('via_Universal', 5.661231884057971e-05),\n",
       "   ('luisederbez', 5.661231884057971e-05),\n",
       "   ('our', 5.661231884057971e-05)]),\n",
       " (108,\n",
       "  [('Enfoque', 0.12451411319378909),\n",
       "   ('Enfoque_Noticias', 0.11906414961202816),\n",
       "   ('Enfoque Noticias', 0.09107133072582098)]),\n",
       " (109,\n",
       "  [('via_Universal', 5.661231884057971e-05),\n",
       "   ('luisederbez', 5.661231884057971e-05),\n",
       "   ('our', 5.661231884057971e-05)]),\n",
       " (110,\n",
       "  [('the', 0.03702313144697673),\n",
       "   ('to', 0.022303262249595883),\n",
       "   ('via', 0.021541637555233424)])]"
      ]
     },
     "execution_count": 22,
     "metadata": {},
     "output_type": "execute_result"
    }
   ],
   "source": [
    "topicos_sample = best_model.show_topics(num_topics=112, num_words=3, log=False, formatted=False)\n",
    "# topicos_sample"
   ]
  },
  {
   "cell_type": "code",
   "execution_count": 27,
   "metadata": {},
   "outputs": [
    {
     "name": "stdout",
     "output_type": "stream",
     "text": [
      "\\begin{subtable}{0.4\\textwidth}\n",
      "\t\\begin{tabular}{ |c|c| }\n",
      "\t\\hline\n",
      "\tPalabra & Probabilidad \\tabularnewline\n",
      "\t\\hline\n",
      "\t\\hline\n",
      "\tvia\\_Universal & 5.66e-05 \\tabularnewline\n",
      "\tluisederbez & 5.66e-05 \\tabularnewline\n",
      "\tour & 5.66e-05 \\tabularnewline\n",
      "\t\\hline\n",
      "\t\\end{tabular}\n",
      "\\caption{Tópico \\#10}\n",
      "\\end{subtable}\n",
      "\n",
      "\\begin{subtable}{0.4\\textwidth}\n",
      "\t\\begin{tabular}{ |c|c| }\n",
      "\t\\hline\n",
      "\tPalabra & Probabilidad \\tabularnewline\n",
      "\t\\hline\n",
      "\t\\hline\n",
      "\tVaticano & 0.013 \\tabularnewline\n",
      "\tEnLaRed & 0.012 \\tabularnewline\n",
      "\taudiencia & 9.73e-03 \\tabularnewline\n",
      "\t\\hline\n",
      "\t\\end{tabular}\n",
      "\\caption{Tópico \\#11}\n",
      "\\end{subtable}\n",
      "\n",
      "\\hfil\n",
      "\n",
      "\\begin{subtable}{0.4\\textwidth}\n",
      "\t\\begin{tabular}{ |c|c| }\n",
      "\t\\hline\n",
      "\tPalabra & Probabilidad \\tabularnewline\n",
      "\t\\hline\n",
      "\t\\hline\n",
      "\tColumna & 0.228 \\tabularnewline\n",
      "\tTodoPersonal & 0.081 \\tabularnewline\n",
      "\tColumnaDeHoy & 0.048 \\tabularnewline\n",
      "\t\\hline\n",
      "\t\\end{tabular}\n",
      "\\caption{Tópico \\#29}\n",
      "\\end{subtable}\n",
      "\n",
      "\\begin{subtable}{0.4\\textwidth}\n",
      "\t\\begin{tabular}{ |c|c| }\n",
      "\t\\hline\n",
      "\tPalabra & Probabilidad \\tabularnewline\n",
      "\t\\hline\n",
      "\t\\hline\n",
      "\tEscribe & 0.029 \\tabularnewline\n",
      "\tItinerarioPoltico & 0.027 \\tabularnewline\n",
      "\tGilGamesX & 0.023 \\tabularnewline\n",
      "\t\\hline\n",
      "\t\\end{tabular}\n",
      "\\caption{Tópico \\#36}\n",
      "\\end{subtable}\n",
      "\n",
      "\\hfil\n",
      "\n",
      "\\begin{subtable}{0.4\\textwidth}\n",
      "\t\\begin{tabular}{ |c|c| }\n",
      "\t\\hline\n",
      "\tPalabra & Probabilidad \\tabularnewline\n",
      "\t\\hline\n",
      "\t\\hline\n",
      "\tcolumna & 0.026 \\tabularnewline\n",
      "\tAMLO & 0.019 \\tabularnewline\n",
      "\tDonald & 0.010 \\tabularnewline\n",
      "\t\\hline\n",
      "\t\\end{tabular}\n",
      "\\caption{Tópico \\#42}\n",
      "\\end{subtable}\n",
      "\n",
      "\\begin{subtable}{0.4\\textwidth}\n",
      "\t\\begin{tabular}{ |c|c| }\n",
      "\t\\hline\n",
      "\tPalabra & Probabilidad \\tabularnewline\n",
      "\t\\hline\n",
      "\t\\hline\n",
      "\timmigrants & 0.023 \\tabularnewline\n",
      "\tcolumn & 0.014 \\tabularnewline\n",
      "\tthose & 0.012 \\tabularnewline\n",
      "\t\\hline\n",
      "\t\\end{tabular}\n",
      "\\caption{Tópico \\#45}\n",
      "\\end{subtable}\n",
      "\n",
      "\\hfil\n",
      "\n",
      "\\begin{subtable}{0.4\\textwidth}\n",
      "\t\\begin{tabular}{ |c|c| }\n",
      "\t\\hline\n",
      "\tPalabra & Probabilidad \\tabularnewline\n",
      "\t\\hline\n",
      "\t\\hline\n",
      "\tSheldon & 0.032 \\tabularnewline\n",
      "\tNotimexTV & 0.032 \\tabularnewline\n",
      "\tMorty & 0.031 \\tabularnewline\n",
      "\t\\hline\n",
      "\t\\end{tabular}\n",
      "\\caption{Tópico \\#53}\n",
      "\\end{subtable}\n",
      "\n",
      "\\begin{subtable}{0.4\\textwidth}\n",
      "\t\\begin{tabular}{ |c|c| }\n",
      "\t\\hline\n",
      "\tPalabra & Probabilidad \\tabularnewline\n",
      "\t\\hline\n",
      "\t\\hline\n",
      "\tNochixtlan & 0.024 \\tabularnewline\n",
      "\tEmiliano & 0.019 \\tabularnewline\n",
      "\tNiUnFraudeMasMX & 0.017 \\tabularnewline\n",
      "\t\\hline\n",
      "\t\\end{tabular}\n",
      "\\caption{Tópico \\#72}\n",
      "\\end{subtable}\n",
      "\n",
      "\\hfil\n",
      "\n",
      "\\begin{subtable}{0.4\\textwidth}\n",
      "\t\\begin{tabular}{ |c|c| }\n",
      "\t\\hline\n",
      "\tPalabra & Probabilidad \\tabularnewline\n",
      "\t\\hline\n",
      "\t\\hline\n",
      "\tAstillero & 0.058 \\tabularnewline\n",
      "\tMonerosLaJornada & 0.042 \\tabularnewline\n",
      "\tJornadaSanLuis & 0.024 \\tabularnewline\n",
      "\t\\hline\n",
      "\t\\end{tabular}\n",
      "\\caption{Tópico \\#75}\n",
      "\\end{subtable}\n",
      "\n",
      "\\begin{subtable}{0.4\\textwidth}\n",
      "\t\\begin{tabular}{ |c|c| }\n",
      "\t\\hline\n",
      "\tPalabra & Probabilidad \\tabularnewline\n",
      "\t\\hline\n",
      "\t\\hline\n",
      "\tEnLaRed GilGamesX & 0.060 \\tabularnewline\n",
      "\tEnLaRed JorgeGCastaneda & 0.040 \\tabularnewline\n",
      "\tEnLaRed leozuckermann & 0.032 \\tabularnewline\n",
      "\t\\hline\n",
      "\t\\end{tabular}\n",
      "\\caption{Tópico \\#106}\n",
      "\\end{subtable}\n",
      "\n",
      "\\hfil\n",
      "\n"
     ]
    }
   ],
   "source": [
    "table_per_row = 2\n",
    "topicos_seleccionados = [10, 36, 42, 53, 72, 106, 45, 29, 75, 11]\n",
    "for topico in topicos_sample:\n",
    "    n_topico = topico[0]\n",
    "    if n_topico in topicos_seleccionados:\n",
    "        print(\"\\\\begin{subtable}{0.4\\\\textwidth}\")\n",
    "    #     print(\"\\t\\\\raggedright\")\n",
    "        print(\"\\t\\\\begin{tabular}{ |c|c| }\")\n",
    "        print(\"\\t\\\\hline\")\n",
    "        print(\"\\tPalabra & Probabilidad \\\\tabularnewline\")\n",
    "        print(\"\\t\\\\hline\")\n",
    "        print(\"\\t\\\\hline\")\n",
    "\n",
    "        palabras_prob = topico[1]\n",
    "        for palab, prob in palabras_prob:\n",
    "            palab_clean = palab.replace('_', '\\\\_')\n",
    "            if prob < 0.01:\n",
    "                print(f\"\\t{palab_clean} & {prob:.2e} \\\\tabularnewline\")\n",
    "            else:\n",
    "                print(f\"\\t{palab_clean} & {prob:.3f} \\\\tabularnewline\")\n",
    "        print(\"\\t\\\\hline\")\n",
    "        print(\"\\t\\\\end{tabular}\")\n",
    "        print(f\"\\\\caption{{Tópico \\\\#{n_topico}}}\")\n",
    "        print(\"\\\\end{subtable}\")\n",
    "        table_per_row -= 1\n",
    "        if table_per_row == 0:\n",
    "            print(\"\\\\hfil\")\n",
    "            table_per_row = 2"
   ]
  },
  {
   "cell_type": "code",
   "execution_count": null,
   "metadata": {},
   "outputs": [],
   "source": [
    "topico"
   ]
  },
  {
   "cell_type": "code",
   "execution_count": null,
   "metadata": {},
   "outputs": [],
   "source": []
  },
  {
   "cell_type": "code",
   "execution_count": null,
   "metadata": {},
   "outputs": [],
   "source": []
  },
  {
   "cell_type": "markdown",
   "metadata": {},
   "source": [
    "### Top topics"
   ]
  },
  {
   "cell_type": "code",
   "execution_count": null,
   "metadata": {},
   "outputs": [],
   "source": [
    "top_topics = best_model.top_topics(best_model.corpus,topn=4)\n",
    "top_topics"
   ]
  },
  {
   "cell_type": "code",
   "execution_count": null,
   "metadata": {},
   "outputs": [],
   "source": [
    "for topic in top_topics:\n",
    "    pass"
   ]
  },
  {
   "cell_type": "code",
   "execution_count": null,
   "metadata": {},
   "outputs": [],
   "source": [
    "topic"
   ]
  },
  {
   "cell_type": "markdown",
   "metadata": {},
   "source": [
    "### pyLDAviz\n",
    "Fixing complex error: https://github.com/bmabey/pyLDAvis/pull/158/commits/bc11c729a03b2c2903644d0cb738bd4c06b98057"
   ]
  },
  {
   "cell_type": "code",
   "execution_count": null,
   "metadata": {},
   "outputs": [],
   "source": [
    "vis_data_tsne = prepare(best_model, corpus_train, dictionary, mds='tsne')\n",
    "pyLDAvis.save_html(vis_data_tsne, \"figures/LDA_viz_tsne.html\")"
   ]
  },
  {
   "cell_type": "code",
   "execution_count": null,
   "metadata": {},
   "outputs": [],
   "source": [
    "pyLDAvis.__file__"
   ]
  },
  {
   "cell_type": "code",
   "execution_count": null,
   "metadata": {},
   "outputs": [],
   "source": [
    "# Dimension reduction via Jensen-Shannon Divergence & Principal Coordinate Analysis\n",
    "vis_data_pcoa = prepare(best_model, corpus_train, dictionary)\n",
    "pyLDAvis.save_html(vis_data_pcoa, \"figures/LDA_viz_pcoa.html\")"
   ]
  },
  {
   "cell_type": "markdown",
   "metadata": {},
   "source": [
    "# Autores"
   ]
  },
  {
   "cell_type": "code",
   "execution_count": 18,
   "metadata": {},
   "outputs": [],
   "source": [
    "author2doc_train_len = {key:len(value) for key, value in author2doc_train.items()}"
   ]
  },
  {
   "cell_type": "code",
   "execution_count": 19,
   "metadata": {},
   "outputs": [
    {
     "data": {
      "text/html": [
       "<div>\n",
       "<style scoped>\n",
       "    .dataframe tbody tr th:only-of-type {\n",
       "        vertical-align: middle;\n",
       "    }\n",
       "\n",
       "    .dataframe tbody tr th {\n",
       "        vertical-align: top;\n",
       "    }\n",
       "\n",
       "    .dataframe thead th {\n",
       "        text-align: right;\n",
       "    }\n",
       "</style>\n",
       "<table border=\"1\" class=\"dataframe\">\n",
       "  <thead>\n",
       "    <tr style=\"text-align: right;\">\n",
       "      <th></th>\n",
       "      <th>0</th>\n",
       "    </tr>\n",
       "  </thead>\n",
       "  <tbody>\n",
       "    <tr>\n",
       "      <th>count</th>\n",
       "      <td>112.000000</td>\n",
       "    </tr>\n",
       "    <tr>\n",
       "      <th>mean</th>\n",
       "      <td>208.464286</td>\n",
       "    </tr>\n",
       "    <tr>\n",
       "      <th>std</th>\n",
       "      <td>36.990120</td>\n",
       "    </tr>\n",
       "    <tr>\n",
       "      <th>min</th>\n",
       "      <td>48.000000</td>\n",
       "    </tr>\n",
       "    <tr>\n",
       "      <th>25%</th>\n",
       "      <td>192.500000</td>\n",
       "    </tr>\n",
       "    <tr>\n",
       "      <th>50%</th>\n",
       "      <td>223.000000</td>\n",
       "    </tr>\n",
       "    <tr>\n",
       "      <th>75%</th>\n",
       "      <td>235.000000</td>\n",
       "    </tr>\n",
       "    <tr>\n",
       "      <th>max</th>\n",
       "      <td>240.000000</td>\n",
       "    </tr>\n",
       "  </tbody>\n",
       "</table>\n",
       "</div>"
      ],
      "text/plain": [
       "                0\n",
       "count  112.000000\n",
       "mean   208.464286\n",
       "std     36.990120\n",
       "min     48.000000\n",
       "25%    192.500000\n",
       "50%    223.000000\n",
       "75%    235.000000\n",
       "max    240.000000"
      ]
     },
     "execution_count": 19,
     "metadata": {},
     "output_type": "execute_result"
    }
   ],
   "source": [
    "pd.DataFrame.from_dict(author2doc_train_len, \"index\").describe()"
   ]
  },
  {
   "cell_type": "code",
   "execution_count": 20,
   "metadata": {},
   "outputs": [],
   "source": [
    "smallest_author = 0  # Ignore authors with documents less than this.\n",
    "authors = [best_model.author2id[a] for a in best_model.author2id.keys() if len(best_model.author2doc[a]) >= smallest_author]\n",
    "author_names = [best_model.id2author[a] for a in authors]"
   ]
  },
  {
   "cell_type": "code",
   "execution_count": 21,
   "metadata": {},
   "outputs": [
    {
     "data": {
      "text/plain": [
       "['ADNPolitico',\n",
       " 'ActualidadRT',\n",
       " 'Adela_Micha',\n",
       " 'Amsalazar',\n",
       " 'AnaPOrdorica',\n",
       " 'AristeguiOnline',\n",
       " 'AztecaNoticias',\n",
       " 'Canal22',\n",
       " 'CanalOnceTV',\n",
       " 'CarlosLoret',\n",
       " 'CiroGomezL',\n",
       " 'DeniseDresserG',\n",
       " 'DeniseMaerker',\n",
       " 'DiegoEOsorno',\n",
       " 'E_Q_',\n",
       " 'EfektoNoticias',\n",
       " 'EjeCentral',\n",
       " 'ElFinanciero_Mx',\n",
       " 'ElHuffPost',\n",
       " 'El_Universal_Mx',\n",
       " 'EnfoqueNoticias',\n",
       " 'Excelsior',\n",
       " 'ExpansionMx',\n",
       " 'FedericoArreola',\n",
       " 'FernandoDworak',\n",
       " 'Foro_TV',\n",
       " 'Imagen_Mx',\n",
       " 'J_Fdz_Menendez',\n",
       " 'JavierSolorzano',\n",
       " 'JohnMAckerman',\n",
       " 'JoseCardenas1',\n",
       " 'LaRazon_mx',\n",
       " 'LeonKrauze',\n",
       " 'LeonardoCurzio',\n",
       " 'LuisCardenasMx',\n",
       " 'MarioBeteta',\n",
       " 'Milenio',\n",
       " 'NTelevisa_com',\n",
       " 'NoticiasMVS',\n",
       " 'Notimex',\n",
       " 'PPmerino',\n",
       " 'PabloHiriart',\n",
       " 'Pajaropolitico',\n",
       " 'PaolaRojas',\n",
       " 'PedroFerriz',\n",
       " 'Pizu',\n",
       " 'PublimetroMX',\n",
       " 'Radio_Formula',\n",
       " 'Reforma',\n",
       " 'Reporte_Indigo',\n",
       " 'RicardoAlemanMx',\n",
       " 'RoyCampos',\n",
       " 'SGarciaSoto',\n",
       " 'SalCamarena',\n",
       " 'SanjuanaMtz',\n",
       " 'SergioSarmiento',\n",
       " 'SinEmbargoMX',\n",
       " 'TapiaFernanda',\n",
       " 'UnoNoticias',\n",
       " 'VILLALVAZO13',\n",
       " 'WRADIOMexico',\n",
       " 'Yoinfluyo',\n",
       " 'YuririaSierra',\n",
       " 'aguilarcamin',\n",
       " 'ahope71',\n",
       " 'alvaro_delgado',\n",
       " 'andreslajous',\n",
       " 'arturoangel20',\n",
       " 'beltrandelrio',\n",
       " 'carloselizondom',\n",
       " 'carlosramirezh',\n",
       " 'diario24horas',\n",
       " 'dmorenochavez',\n",
       " 'el_pais',\n",
       " 'eleconomista',\n",
       " 'elsolde_mexico',\n",
       " 'epigmenioibarra',\n",
       " 'esquivelgerardo',\n",
       " 'estarc62',\n",
       " 'genarolozano',\n",
       " 'hdemauleon',\n",
       " 'informador',\n",
       " 'jairocalixto',\n",
       " 'javieraparicio',\n",
       " 'jenarovillamil',\n",
       " 'jorgeramosnews',\n",
       " 'jrisco',\n",
       " 'jshm00',\n",
       " 'julioastillero',\n",
       " 'karlaiberia',\n",
       " 'kdartigues',\n",
       " 'lacronicadehoy',\n",
       " 'lajornadaonline',\n",
       " 'lasillarota',\n",
       " 'lopezdoriga',\n",
       " 'lydiacachosi',\n",
       " 'macariomx',\n",
       " 'mariocampos',\n",
       " 'maurimm',\n",
       " 'mileniotv',\n",
       " 'nacholozano',\n",
       " 'nexosmexico',\n",
       " 'panchogarfias',\n",
       " 'politicomx',\n",
       " 'puigcarlos',\n",
       " 'revistaproceso',\n",
       " 'rivapa',\n",
       " 'sacroprofano',\n",
       " 'sdpnoticias',\n",
       " 'sergioaguayo',\n",
       " 'sopitas',\n",
       " 'warkentin']"
      ]
     },
     "execution_count": 21,
     "metadata": {},
     "output_type": "execute_result"
    }
   ],
   "source": [
    "author_names"
   ]
  },
  {
   "cell_type": "markdown",
   "metadata": {},
   "source": [
    "## Clustering Autores"
   ]
  },
  {
   "cell_type": "markdown",
   "metadata": {},
   "source": [
    "$$ \\Theta =\n",
    "\\begin{pmatrix}\n",
    "\\theta_{a_1t_1} & \\theta_{a_1t_2} & \\cdots & \\theta_{a_1t_k} \\\\ \n",
    "\\theta_{a_2t_1} & \\theta_{a_1t_2} & \\cdots & \\theta_{a_2t_k} \\\\ \n",
    "\\vdots          & \\vdots          & \\ddots & \\vdots          \\\\ \n",
    "\\theta_{a_nt_1} & \\theta_{a_1t_2} & \\cdots & \\theta_{a_nt_k}\n",
    "\\end{pmatrix}\n",
    "$$\n",
    "\n",
    "donde:\n",
    "- $a$:Autor\n",
    "- $t$: Topico\n",
    "- $\\theta_{a_it_j}$: Probabilidad que el Autor $i$ genere el Topico $j$"
   ]
  },
  {
   "cell_type": "code",
   "execution_count": 22,
   "metadata": {},
   "outputs": [],
   "source": [
    "matriz_posterior = best_model.state.gamma[authors, :]\n",
    "\n",
    "matriz_theta = matriz_posterior / matriz_posterior.sum(axis=1, keepdims=1)"
   ]
  },
  {
   "cell_type": "markdown",
   "metadata": {},
   "source": [
    "### K-means"
   ]
  },
  {
   "cell_type": "code",
   "execution_count": 17,
   "metadata": {},
   "outputs": [],
   "source": [
    "kmeans = KMeans(init='k-means++', n_clusters=4, n_init=10000,max_iter=300, n_jobs=-1)\n",
    "\n",
    "kmeans.fit(matriz_posterior)\n",
    "\n",
    "kmeans.n_iter_\n",
    "\n",
    "cluster_label = kmeans.labels_\n",
    "\n",
    "aut_clusters = {aut:label for aut, label in zip(author_names,cluster_label)}"
   ]
  },
  {
   "cell_type": "code",
   "execution_count": 18,
   "metadata": {},
   "outputs": [
    {
     "data": {
      "text/plain": [
       "2"
      ]
     },
     "execution_count": 18,
     "metadata": {},
     "output_type": "execute_result"
    }
   ],
   "source": [
    "kmeans.n_iter_"
   ]
  },
  {
   "cell_type": "markdown",
   "metadata": {},
   "source": [
    "### TSNE"
   ]
  },
  {
   "cell_type": "markdown",
   "metadata": {},
   "source": [
    "#### 2D"
   ]
  },
  {
   "cell_type": "code",
   "execution_count": null,
   "metadata": {},
   "outputs": [],
   "source": [
    "tsne2 = TSNE(n_components=2, n_iter=100000, n_jobs=-1, perplexity=5, learning_rate=300)\n",
    "\n",
    "_ = tsne2.fit_transform(matriz_theta)  # Result stored in tsne.embedding_\n",
    "print(tsne2.n_iter_)\n",
    "x2 = tsne2.embedding_[:, 0]\n",
    "y2 = tsne2.embedding_[:, 1]\n",
    "\n",
    "df = pd.DataFrame({\n",
    "    \"x\": x2, \n",
    "    \"y\": y2, \n",
    "    \"group\": [str(values) for _, values in aut_clusters.items()], \n",
    "    \"author_name\":author_names, \n",
    "    \"size\": 0.1\n",
    "})\n",
    "\n",
    "fig = (\n",
    "    px\n",
    "    .scatter(df, x='x', y='y', color='group',  hover_name=\"author_name\", size = \"size\")\n",
    "#     .update_traces(marker=dict(size=3))\n",
    ")\n",
    "fig.show()"
   ]
  },
  {
   "cell_type": "code",
   "execution_count": null,
   "metadata": {},
   "outputs": [],
   "source": [
    "df.to_csv(\"../graphics/data/kmeans_tsne.csv\", index=False)"
   ]
  },
  {
   "cell_type": "markdown",
   "metadata": {},
   "source": [
    "## Consultas de similitud"
   ]
  },
  {
   "cell_type": "code",
   "execution_count": 23,
   "metadata": {},
   "outputs": [],
   "source": [
    "author_vecs = [best_model.get_author_topics(author) for author in best_model.id2author.values()]"
   ]
  },
  {
   "cell_type": "code",
   "execution_count": 24,
   "metadata": {},
   "outputs": [],
   "source": [
    "def similarity(vec1, vec2, model):\n",
    "    '''Get similarity between two vectors'''\n",
    "    dist = matutils.hellinger(matutils.sparse2full(vec1, model.num_topics), \\\n",
    "                              matutils.sparse2full(vec2, model.num_topics))\n",
    "    sim = 1.0 / (1.0 + dist)\n",
    "    return sim\n",
    "\n",
    "def get_sims(vec, model):\n",
    "    '''Get similarity of vector to all authors.'''\n",
    "    sims = [similarity(vec, vec2, model) for vec2 in author_vecs]\n",
    "    return sims\n",
    "\n",
    "def get_table(name, model,top_n=10):\n",
    "    '''\n",
    "    Get table with similarities, author names, and author sizes.\n",
    "    Return `top_n` authors as a dataframe.\n",
    "    \n",
    "    '''\n",
    "    \n",
    "    # Get similarities.\n",
    "    sims = get_sims(model.get_author_topics(name), model)\n",
    "\n",
    "    # Arrange author names, similarities, and author sizes in a list of tuples.\n",
    "    table = []\n",
    "    for elem in enumerate(sims):\n",
    "        author_name = model.id2author[elem[0]]\n",
    "        sim = elem[1]\n",
    "        table.append((author_name, sim))\n",
    "            \n",
    "    # Make dataframe and retrieve top authors.\n",
    "    df = pd.DataFrame(table, columns=['autor', name])\n",
    "    df = df.sort_values(name, ascending=False)[:top_n]\n",
    "    \n",
    "    return df.set_index(\"autor\")"
   ]
  },
  {
   "cell_type": "code",
   "execution_count": 25,
   "metadata": {},
   "outputs": [],
   "source": [
    "aut_queries_list = []\n",
    "for autor in author_names:\n",
    "    aut_queries_list.append(get_table(autor, best_model, 112))"
   ]
  },
  {
   "cell_type": "code",
   "execution_count": 26,
   "metadata": {},
   "outputs": [],
   "source": [
    "aut_queries_df = pd.concat(aut_queries_list, axis=1).sort_index()"
   ]
  },
  {
   "cell_type": "code",
   "execution_count": 27,
   "metadata": {},
   "outputs": [],
   "source": [
    "aut_queries_df.to_csv(\"../graphics/data/similarity_matrix.csv\")"
   ]
  },
  {
   "cell_type": "code",
   "execution_count": 28,
   "metadata": {},
   "outputs": [
    {
     "data": {
      "text/html": [
       "<div>\n",
       "<style scoped>\n",
       "    .dataframe tbody tr th:only-of-type {\n",
       "        vertical-align: middle;\n",
       "    }\n",
       "\n",
       "    .dataframe tbody tr th {\n",
       "        vertical-align: top;\n",
       "    }\n",
       "\n",
       "    .dataframe thead th {\n",
       "        text-align: right;\n",
       "    }\n",
       "</style>\n",
       "<table border=\"1\" class=\"dataframe\">\n",
       "  <thead>\n",
       "    <tr style=\"text-align: right;\">\n",
       "      <th></th>\n",
       "      <th>ADNPolitico</th>\n",
       "      <th>ActualidadRT</th>\n",
       "      <th>Adela_Micha</th>\n",
       "      <th>Amsalazar</th>\n",
       "      <th>AnaPOrdorica</th>\n",
       "      <th>AristeguiOnline</th>\n",
       "      <th>AztecaNoticias</th>\n",
       "      <th>Canal22</th>\n",
       "      <th>CanalOnceTV</th>\n",
       "      <th>CarlosLoret</th>\n",
       "      <th>...</th>\n",
       "      <th>panchogarfias</th>\n",
       "      <th>politicomx</th>\n",
       "      <th>puigcarlos</th>\n",
       "      <th>revistaproceso</th>\n",
       "      <th>rivapa</th>\n",
       "      <th>sacroprofano</th>\n",
       "      <th>sdpnoticias</th>\n",
       "      <th>sergioaguayo</th>\n",
       "      <th>sopitas</th>\n",
       "      <th>warkentin</th>\n",
       "    </tr>\n",
       "  </thead>\n",
       "  <tbody>\n",
       "    <tr>\n",
       "      <th>ADNPolitico</th>\n",
       "      <td>1.00</td>\n",
       "      <td>0.50</td>\n",
       "      <td>0.50</td>\n",
       "      <td>0.50</td>\n",
       "      <td>0.50</td>\n",
       "      <td>0.50</td>\n",
       "      <td>0.50</td>\n",
       "      <td>0.50</td>\n",
       "      <td>0.50</td>\n",
       "      <td>0.50</td>\n",
       "      <td>...</td>\n",
       "      <td>0.60</td>\n",
       "      <td>0.59</td>\n",
       "      <td>0.57</td>\n",
       "      <td>0.56</td>\n",
       "      <td>0.54</td>\n",
       "      <td>0.52</td>\n",
       "      <td>0.55</td>\n",
       "      <td>0.56</td>\n",
       "      <td>0.56</td>\n",
       "      <td>0.53</td>\n",
       "    </tr>\n",
       "    <tr>\n",
       "      <th>ActualidadRT</th>\n",
       "      <td>0.50</td>\n",
       "      <td>1.00</td>\n",
       "      <td>0.50</td>\n",
       "      <td>0.50</td>\n",
       "      <td>0.50</td>\n",
       "      <td>0.50</td>\n",
       "      <td>0.50</td>\n",
       "      <td>0.50</td>\n",
       "      <td>0.50</td>\n",
       "      <td>0.50</td>\n",
       "      <td>...</td>\n",
       "      <td>0.54</td>\n",
       "      <td>0.54</td>\n",
       "      <td>0.55</td>\n",
       "      <td>0.55</td>\n",
       "      <td>0.53</td>\n",
       "      <td>0.58</td>\n",
       "      <td>0.55</td>\n",
       "      <td>0.50</td>\n",
       "      <td>0.55</td>\n",
       "      <td>0.53</td>\n",
       "    </tr>\n",
       "    <tr>\n",
       "      <th>Adela_Micha</th>\n",
       "      <td>0.50</td>\n",
       "      <td>0.50</td>\n",
       "      <td>1.00</td>\n",
       "      <td>0.50</td>\n",
       "      <td>0.50</td>\n",
       "      <td>0.50</td>\n",
       "      <td>0.50</td>\n",
       "      <td>0.50</td>\n",
       "      <td>0.50</td>\n",
       "      <td>0.50</td>\n",
       "      <td>...</td>\n",
       "      <td>0.54</td>\n",
       "      <td>0.53</td>\n",
       "      <td>0.50</td>\n",
       "      <td>0.50</td>\n",
       "      <td>0.52</td>\n",
       "      <td>0.52</td>\n",
       "      <td>0.50</td>\n",
       "      <td>0.56</td>\n",
       "      <td>0.56</td>\n",
       "      <td>0.55</td>\n",
       "    </tr>\n",
       "    <tr>\n",
       "      <th>Amsalazar</th>\n",
       "      <td>0.50</td>\n",
       "      <td>0.50</td>\n",
       "      <td>0.50</td>\n",
       "      <td>1.00</td>\n",
       "      <td>0.50</td>\n",
       "      <td>0.50</td>\n",
       "      <td>0.50</td>\n",
       "      <td>0.50</td>\n",
       "      <td>0.50</td>\n",
       "      <td>0.50</td>\n",
       "      <td>...</td>\n",
       "      <td>0.50</td>\n",
       "      <td>0.50</td>\n",
       "      <td>0.52</td>\n",
       "      <td>0.50</td>\n",
       "      <td>0.63</td>\n",
       "      <td>0.53</td>\n",
       "      <td>0.52</td>\n",
       "      <td>0.51</td>\n",
       "      <td>0.52</td>\n",
       "      <td>0.54</td>\n",
       "    </tr>\n",
       "    <tr>\n",
       "      <th>AnaPOrdorica</th>\n",
       "      <td>0.50</td>\n",
       "      <td>0.50</td>\n",
       "      <td>0.50</td>\n",
       "      <td>0.50</td>\n",
       "      <td>1.00</td>\n",
       "      <td>0.50</td>\n",
       "      <td>0.50</td>\n",
       "      <td>0.50</td>\n",
       "      <td>0.50</td>\n",
       "      <td>0.50</td>\n",
       "      <td>...</td>\n",
       "      <td>0.52</td>\n",
       "      <td>0.55</td>\n",
       "      <td>0.58</td>\n",
       "      <td>0.56</td>\n",
       "      <td>0.53</td>\n",
       "      <td>0.53</td>\n",
       "      <td>0.56</td>\n",
       "      <td>0.56</td>\n",
       "      <td>0.53</td>\n",
       "      <td>0.52</td>\n",
       "    </tr>\n",
       "    <tr>\n",
       "      <th>...</th>\n",
       "      <td>...</td>\n",
       "      <td>...</td>\n",
       "      <td>...</td>\n",
       "      <td>...</td>\n",
       "      <td>...</td>\n",
       "      <td>...</td>\n",
       "      <td>...</td>\n",
       "      <td>...</td>\n",
       "      <td>...</td>\n",
       "      <td>...</td>\n",
       "      <td>...</td>\n",
       "      <td>...</td>\n",
       "      <td>...</td>\n",
       "      <td>...</td>\n",
       "      <td>...</td>\n",
       "      <td>...</td>\n",
       "      <td>...</td>\n",
       "      <td>...</td>\n",
       "      <td>...</td>\n",
       "      <td>...</td>\n",
       "      <td>...</td>\n",
       "    </tr>\n",
       "    <tr>\n",
       "      <th>sacroprofano</th>\n",
       "      <td>0.52</td>\n",
       "      <td>0.58</td>\n",
       "      <td>0.52</td>\n",
       "      <td>0.53</td>\n",
       "      <td>0.53</td>\n",
       "      <td>0.54</td>\n",
       "      <td>0.54</td>\n",
       "      <td>0.53</td>\n",
       "      <td>0.54</td>\n",
       "      <td>0.56</td>\n",
       "      <td>...</td>\n",
       "      <td>0.67</td>\n",
       "      <td>0.68</td>\n",
       "      <td>0.68</td>\n",
       "      <td>0.69</td>\n",
       "      <td>0.64</td>\n",
       "      <td>1.00</td>\n",
       "      <td>0.71</td>\n",
       "      <td>0.63</td>\n",
       "      <td>0.69</td>\n",
       "      <td>0.69</td>\n",
       "    </tr>\n",
       "    <tr>\n",
       "      <th>sdpnoticias</th>\n",
       "      <td>0.55</td>\n",
       "      <td>0.55</td>\n",
       "      <td>0.50</td>\n",
       "      <td>0.52</td>\n",
       "      <td>0.56</td>\n",
       "      <td>0.56</td>\n",
       "      <td>0.57</td>\n",
       "      <td>0.53</td>\n",
       "      <td>0.54</td>\n",
       "      <td>0.53</td>\n",
       "      <td>...</td>\n",
       "      <td>0.72</td>\n",
       "      <td>0.78</td>\n",
       "      <td>0.79</td>\n",
       "      <td>0.81</td>\n",
       "      <td>0.66</td>\n",
       "      <td>0.71</td>\n",
       "      <td>1.00</td>\n",
       "      <td>0.69</td>\n",
       "      <td>0.73</td>\n",
       "      <td>0.70</td>\n",
       "    </tr>\n",
       "    <tr>\n",
       "      <th>sergioaguayo</th>\n",
       "      <td>0.56</td>\n",
       "      <td>0.50</td>\n",
       "      <td>0.56</td>\n",
       "      <td>0.51</td>\n",
       "      <td>0.56</td>\n",
       "      <td>0.58</td>\n",
       "      <td>0.53</td>\n",
       "      <td>0.53</td>\n",
       "      <td>0.56</td>\n",
       "      <td>0.52</td>\n",
       "      <td>...</td>\n",
       "      <td>0.69</td>\n",
       "      <td>0.72</td>\n",
       "      <td>0.70</td>\n",
       "      <td>0.67</td>\n",
       "      <td>0.64</td>\n",
       "      <td>0.63</td>\n",
       "      <td>0.69</td>\n",
       "      <td>1.00</td>\n",
       "      <td>0.69</td>\n",
       "      <td>0.73</td>\n",
       "    </tr>\n",
       "    <tr>\n",
       "      <th>sopitas</th>\n",
       "      <td>0.56</td>\n",
       "      <td>0.55</td>\n",
       "      <td>0.56</td>\n",
       "      <td>0.52</td>\n",
       "      <td>0.53</td>\n",
       "      <td>0.53</td>\n",
       "      <td>0.56</td>\n",
       "      <td>0.54</td>\n",
       "      <td>0.52</td>\n",
       "      <td>0.54</td>\n",
       "      <td>...</td>\n",
       "      <td>0.76</td>\n",
       "      <td>0.75</td>\n",
       "      <td>0.70</td>\n",
       "      <td>0.71</td>\n",
       "      <td>0.64</td>\n",
       "      <td>0.69</td>\n",
       "      <td>0.73</td>\n",
       "      <td>0.69</td>\n",
       "      <td>1.00</td>\n",
       "      <td>0.72</td>\n",
       "    </tr>\n",
       "    <tr>\n",
       "      <th>warkentin</th>\n",
       "      <td>0.53</td>\n",
       "      <td>0.53</td>\n",
       "      <td>0.55</td>\n",
       "      <td>0.54</td>\n",
       "      <td>0.52</td>\n",
       "      <td>0.58</td>\n",
       "      <td>0.52</td>\n",
       "      <td>0.54</td>\n",
       "      <td>0.56</td>\n",
       "      <td>0.55</td>\n",
       "      <td>...</td>\n",
       "      <td>0.70</td>\n",
       "      <td>0.71</td>\n",
       "      <td>0.69</td>\n",
       "      <td>0.68</td>\n",
       "      <td>0.70</td>\n",
       "      <td>0.69</td>\n",
       "      <td>0.70</td>\n",
       "      <td>0.73</td>\n",
       "      <td>0.72</td>\n",
       "      <td>1.00</td>\n",
       "    </tr>\n",
       "  </tbody>\n",
       "</table>\n",
       "<p>112 rows × 112 columns</p>\n",
       "</div>"
      ],
      "text/plain": [
       "              ADNPolitico  ActualidadRT  Adela_Micha  Amsalazar  AnaPOrdorica  \\\n",
       "ADNPolitico          1.00          0.50         0.50       0.50          0.50   \n",
       "ActualidadRT         0.50          1.00         0.50       0.50          0.50   \n",
       "Adela_Micha          0.50          0.50         1.00       0.50          0.50   \n",
       "Amsalazar            0.50          0.50         0.50       1.00          0.50   \n",
       "AnaPOrdorica         0.50          0.50         0.50       0.50          1.00   \n",
       "...                   ...           ...          ...        ...           ...   \n",
       "sacroprofano         0.52          0.58         0.52       0.53          0.53   \n",
       "sdpnoticias          0.55          0.55         0.50       0.52          0.56   \n",
       "sergioaguayo         0.56          0.50         0.56       0.51          0.56   \n",
       "sopitas              0.56          0.55         0.56       0.52          0.53   \n",
       "warkentin            0.53          0.53         0.55       0.54          0.52   \n",
       "\n",
       "              AristeguiOnline  AztecaNoticias  Canal22  CanalOnceTV  \\\n",
       "ADNPolitico              0.50            0.50     0.50         0.50   \n",
       "ActualidadRT             0.50            0.50     0.50         0.50   \n",
       "Adela_Micha              0.50            0.50     0.50         0.50   \n",
       "Amsalazar                0.50            0.50     0.50         0.50   \n",
       "AnaPOrdorica             0.50            0.50     0.50         0.50   \n",
       "...                       ...             ...      ...          ...   \n",
       "sacroprofano             0.54            0.54     0.53         0.54   \n",
       "sdpnoticias              0.56            0.57     0.53         0.54   \n",
       "sergioaguayo             0.58            0.53     0.53         0.56   \n",
       "sopitas                  0.53            0.56     0.54         0.52   \n",
       "warkentin                0.58            0.52     0.54         0.56   \n",
       "\n",
       "              CarlosLoret  ...  panchogarfias  politicomx  puigcarlos  \\\n",
       "ADNPolitico          0.50  ...           0.60        0.59        0.57   \n",
       "ActualidadRT         0.50  ...           0.54        0.54        0.55   \n",
       "Adela_Micha          0.50  ...           0.54        0.53        0.50   \n",
       "Amsalazar            0.50  ...           0.50        0.50        0.52   \n",
       "AnaPOrdorica         0.50  ...           0.52        0.55        0.58   \n",
       "...                   ...  ...            ...         ...         ...   \n",
       "sacroprofano         0.56  ...           0.67        0.68        0.68   \n",
       "sdpnoticias          0.53  ...           0.72        0.78        0.79   \n",
       "sergioaguayo         0.52  ...           0.69        0.72        0.70   \n",
       "sopitas              0.54  ...           0.76        0.75        0.70   \n",
       "warkentin            0.55  ...           0.70        0.71        0.69   \n",
       "\n",
       "              revistaproceso  rivapa  sacroprofano  sdpnoticias  sergioaguayo  \\\n",
       "ADNPolitico             0.56    0.54          0.52         0.55          0.56   \n",
       "ActualidadRT            0.55    0.53          0.58         0.55          0.50   \n",
       "Adela_Micha             0.50    0.52          0.52         0.50          0.56   \n",
       "Amsalazar               0.50    0.63          0.53         0.52          0.51   \n",
       "AnaPOrdorica            0.56    0.53          0.53         0.56          0.56   \n",
       "...                      ...     ...           ...          ...           ...   \n",
       "sacroprofano            0.69    0.64          1.00         0.71          0.63   \n",
       "sdpnoticias             0.81    0.66          0.71         1.00          0.69   \n",
       "sergioaguayo            0.67    0.64          0.63         0.69          1.00   \n",
       "sopitas                 0.71    0.64          0.69         0.73          0.69   \n",
       "warkentin               0.68    0.70          0.69         0.70          0.73   \n",
       "\n",
       "              sopitas  warkentin  \n",
       "ADNPolitico      0.56       0.53  \n",
       "ActualidadRT     0.55       0.53  \n",
       "Adela_Micha      0.56       0.55  \n",
       "Amsalazar        0.52       0.54  \n",
       "AnaPOrdorica     0.53       0.52  \n",
       "...               ...        ...  \n",
       "sacroprofano     0.69       0.69  \n",
       "sdpnoticias      0.73       0.70  \n",
       "sergioaguayo     0.69       0.73  \n",
       "sopitas          1.00       0.72  \n",
       "warkentin        0.72       1.00  \n",
       "\n",
       "[112 rows x 112 columns]"
      ]
     },
     "execution_count": 28,
     "metadata": {},
     "output_type": "execute_result"
    }
   ],
   "source": [
    "aut_queries_df.applymap(lambda x: round(x,2))"
   ]
  },
  {
   "cell_type": "markdown",
   "metadata": {},
   "source": [
    "$$ Q =\n",
    "\\begin{pmatrix}\n",
    "1 & q_{a_1a_2} & \\cdots & q_{a_1a_k} \\\\ \n",
    "q_{a_2a_1} & 1 & \\cdots & q_{a_2a_k} \\\\ \n",
    "\\vdots          & \\vdots          & \\ddots & \\vdots          \\\\ \n",
    "q_{a_na_1} & q_{a_1a_2} & \\cdots & 1\n",
    "\\end{pmatrix}\n",
    "$$\n",
    "\n",
    "donde:\n",
    "- $a_i$: Autor $i$\n",
    "- $q_{a_ia_j}$: Similitud(distancia) entre el autor $i$ y el autor $j$"
   ]
  },
  {
   "cell_type": "code",
   "execution_count": 29,
   "metadata": {},
   "outputs": [],
   "source": [
    "# fig = px.imshow(aut_queries_df)\n",
    "# fig.show()"
   ]
  },
  {
   "cell_type": "markdown",
   "metadata": {},
   "source": [
    "### Spectral clustering"
   ]
  },
  {
   "cell_type": "code",
   "execution_count": 30,
   "metadata": {},
   "outputs": [],
   "source": [
    "labels = spectral_clustering(aut_queries_df.to_numpy(), n_clusters=4, affinity=\"precomputed\")"
   ]
  },
  {
   "cell_type": "markdown",
   "metadata": {},
   "source": [
    "#### Clusters"
   ]
  },
  {
   "cell_type": "code",
   "execution_count": 51,
   "metadata": {},
   "outputs": [],
   "source": [
    "grupos = aut_queries_df.reset_index().assign(grupo=labels).rename(columns={\"index\": \"Autor\"}).sort_values(by=['Autor'])"
   ]
  },
  {
   "cell_type": "code",
   "execution_count": 60,
   "metadata": {},
   "outputs": [
    {
     "name": "stdout",
     "output_type": "stream",
     "text": [
      "\\begin{tabular}{l}\n",
      "\\toprule\n",
      "           Autor \\\\\n",
      "\\midrule\n",
      "  javieraparicio \\\\\n",
      "  jenarovillamil \\\\\n",
      "    jairocalixto \\\\\n",
      "      politicomx \\\\\n",
      "   panchogarfias \\\\\n",
      "          jrisco \\\\\n",
      "         maurimm \\\\\n",
      "     mariocampos \\\\\n",
      "  julioastillero \\\\\n",
      "      kdartigues \\\\\n",
      "    sergioaguayo \\\\\n",
      "    lydiacachosi \\\\\n",
      " SergioSarmiento \\\\\n",
      "    genarolozano \\\\\n",
      "      ElHuffPost \\\\\n",
      "  FernandoDworak \\\\\n",
      "  J\\_Fdz\\_Menendez \\\\\n",
      "     MarioBeteta \\\\\n",
      "     NoticiasMVS \\\\\n",
      "        PPmerino \\\\\n",
      "    PabloHiriart \\\\\n",
      "      PaolaRojas \\\\\n",
      "     PedroFerriz \\\\\n",
      " RicardoAlemanMx \\\\\n",
      "       RoyCampos \\\\\n",
      "     SGarciaSoto \\\\\n",
      "     SalCamarena \\\\\n",
      "     SanjuanaMtz \\\\\n",
      "         sopitas \\\\\n",
      "   TapiaFernanda \\\\\n",
      "    VILLALVAZO13 \\\\\n",
      "   YuririaSierra \\\\\n",
      "    aguilarcamin \\\\\n",
      "    andreslajous \\\\\n",
      "   arturoangel20 \\\\\n",
      "   beltrandelrio \\\\\n",
      " carloselizondom \\\\\n",
      "   dmorenochavez \\\\\n",
      " epigmenioibarra \\\\\n",
      " esquivelgerardo \\\\\n",
      "        estarc62 \\\\\n",
      "      hdemauleon \\\\\n",
      "       warkentin \\\\\n",
      "\\bottomrule\n",
      "\\end{tabular}\n",
      "\n"
     ]
    }
   ],
   "source": [
    "print(grupos.query(\"grupo == 3\").to_latex(columns=[\"Autor\"], index=False))"
   ]
  },
  {
   "cell_type": "markdown",
   "metadata": {},
   "source": [
    "### TSNe"
   ]
  },
  {
   "cell_type": "code",
   "execution_count": 26,
   "metadata": {
    "collapsed": true,
    "jupyter": {
     "outputs_hidden": true
    }
   },
   "outputs": [
    {
     "name": "stdout",
     "output_type": "stream",
     "text": [
      "999\n"
     ]
    },
    {
     "data": {
      "application/vnd.plotly.v1+json": {
       "config": {
        "plotlyServerURL": "https://plot.ly"
       },
       "data": [
        {
         "hovertemplate": "<b>%{hovertext}</b><br><br>group=0<br>x=%{x}<br>y=%{y}<extra></extra>",
         "hovertext": [
          "ADNPolitico",
          "ActualidadRT",
          "Adela_Micha",
          "AnaPOrdorica",
          "AristeguiOnline",
          "AztecaNoticias",
          "Canal22",
          "CanalOnceTV",
          "CarlosLoret",
          "CiroGomezL",
          "DeniseDresserG",
          "E_Q_",
          "carlosramirezh"
         ],
         "legendgroup": "0",
         "marker": {
          "color": "#636efa",
          "symbol": "circle"
         },
         "mode": "markers",
         "name": "0",
         "orientation": "v",
         "showlegend": true,
         "type": "scatter",
         "x": [
          5.241410255432129,
          -6.7707672119140625,
          -31.774770736694336,
          -13.019585609436035,
          -15.919703483581543,
          11.356552124023438,
          13.320097923278809,
          -16.759624481201172,
          -3.898935556411743,
          -10.151041030883789,
          -3.0341687202453613,
          -70.23160552978516,
          0.037250567227602005
         ],
         "xaxis": "x",
         "y": [
          4.99461030960083,
          -10.502440452575684,
          3.9241065979003906,
          19.86982536315918,
          -4.300006866455078,
          -4.61255407333374,
          -19.323720932006836,
          -16.811222076416016,
          0.0830935686826706,
          -36.74253463745117,
          12.613789558410645,
          -7.376642227172852,
          -60.54045867919922
         ],
         "yaxis": "y"
        },
        {
         "hovertemplate": "<b>%{hovertext}</b><br><br>group=3<br>x=%{x}<br>y=%{y}<extra></extra>",
         "hovertext": [
          "Amsalazar",
          "DiegoEOsorno",
          "Imagen_Mx",
          "LeonKrauze",
          "Pizu",
          "ahope71",
          "jorgeramosnews",
          "jshm00",
          "macariomx",
          "nacholozano",
          "rivapa"
         ],
         "legendgroup": "3",
         "marker": {
          "color": "#EF553B",
          "symbol": "circle"
         },
         "mode": "markers",
         "name": "3",
         "orientation": "v",
         "showlegend": true,
         "type": "scatter",
         "x": [
          8.305781364440918,
          16.529525756835938,
          13.427342414855957,
          -25.77123260498047,
          38.53524398803711,
          -44.514583587646484,
          -55.67485046386719,
          3.9494099617004395,
          24.068096160888672,
          -19.932741165161133,
          -34.10538101196289
         ],
         "xaxis": "x",
         "y": [
          20.274032592773438,
          9.016053199768066,
          57.59197235107422,
          12.118486404418945,
          -53.22643280029297,
          -33.88054275512695,
          48.610469818115234,
          -11.020611763000488,
          -3.0750319957733154,
          -68.09467315673828,
          63.120750427246094
         ],
         "yaxis": "y"
        },
        {
         "hovertemplate": "<b>%{hovertext}</b><br><br>group=1<br>x=%{x}<br>y=%{y}<extra></extra>",
         "hovertext": [
          "DeniseMaerker",
          "EfektoNoticias",
          "EjeCentral",
          "ElFinanciero_Mx",
          "El_Universal_Mx",
          "EnfoqueNoticias",
          "Excelsior",
          "ExpansionMx",
          "FedericoArreola",
          "Foro_TV",
          "JohnMAckerman",
          "JoseCardenas1",
          "LaRazon_mx",
          "LeonardoCurzio",
          "LuisCardenasMx",
          "Milenio",
          "NTelevisa_com",
          "Notimex",
          "Pajaropolitico",
          "PublimetroMX",
          "Radio_Formula",
          "Reforma",
          "Reporte_Indigo",
          "SinEmbargoMX",
          "UnoNoticias",
          "WRADIOMexico",
          "Yoinfluyo",
          "alvaro_delgado",
          "diario24horas",
          "el_pais",
          "eleconomista",
          "elsolde_mexico",
          "informador",
          "karlaiberia",
          "lacronicadehoy",
          "lajornadaonline",
          "lasillarota",
          "lopezdoriga",
          "mileniotv",
          "nexosmexico",
          "puigcarlos",
          "revistaproceso",
          "sacroprofano",
          "sdpnoticias"
         ],
         "legendgroup": "1",
         "marker": {
          "color": "#00cc96",
          "symbol": "circle"
         },
         "mode": "markers",
         "name": "1",
         "orientation": "v",
         "showlegend": true,
         "type": "scatter",
         "x": [
          21.8702335357666,
          8.304818153381348,
          39.41084289550781,
          -41.44954299926758,
          -3.283926486968994,
          55.18857955932617,
          -32.44382095336914,
          -52.26074981689453,
          59.223323822021484,
          -114.79623413085938,
          -4.398120403289795,
          49.55705642700195,
          45.382633209228516,
          38.91379165649414,
          -28.395231246948242,
          110.67037963867188,
          17.623456954956055,
          -69.82300567626953,
          1.0180752277374268,
          20.12290382385254,
          -70.091064453125,
          -113.21415710449219,
          -16.345829010009766,
          66.12068939208984,
          26.08500862121582,
          75.17547607421875,
          -62.315879821777344,
          -16.389392852783203,
          94.71299743652344,
          -32.71358871459961,
          83.55411529541016,
          -55.32070541381836,
          -51.69038009643555,
          -13.224061012268066,
          19.573408126831055,
          -49.20397186279297,
          -43.07780838012695,
          -76.41273498535156,
          39.60383224487305,
          34.990562438964844,
          -90.92981719970703,
          -68.82032775878906,
          63.03898620605469,
          20.669803619384766
         ],
         "xaxis": "x",
         "y": [
          -29.191574096679688,
          -29.58332061767578,
          -74.68670654296875,
          -1.085381269454956,
          -23.221240997314453,
          -39.33929443359375,
          24.065296173095703,
          -50.42308807373047,
          29.28706932067871,
          3.8975632190704346,
          111.46585845947266,
          48.44183349609375,
          -19.673145294189453,
          -100.10508728027344,
          -6.427714824676514,
          5.048900127410889,
          -112.9194564819336,
          33.152740478515625,
          72.39254760742188,
          -60.952171325683594,
          -60.46879577636719,
          -68.1478271484375,
          43.82488250732422,
          -21.31193733215332,
          -16.595752716064453,
          48.725242614746094,
          15.28075122833252,
          88.15719604492188,
          -66.5623550415039,
          -88.01793670654297,
          -5.641877174377441,
          0.4302282929420471,
          71.2745361328125,
          6.938372611999512,
          83.90199279785156,
          30.93603515625,
          13.798439025878906,
          67.80774688720703,
          -3.221923351287842,
          65.25468444824219,
          47.576568603515625,
          -35.111122131347656,
          -61.673004150390625,
          24.034053802490234
         ],
         "yaxis": "y"
        },
        {
         "hovertemplate": "<b>%{hovertext}</b><br><br>group=2<br>x=%{x}<br>y=%{y}<extra></extra>",
         "hovertext": [
          "ElHuffPost",
          "FernandoDworak",
          "J_Fdz_Menendez",
          "JavierSolorzano",
          "MarioBeteta",
          "NoticiasMVS",
          "PPmerino",
          "PabloHiriart",
          "PaolaRojas",
          "PedroFerriz",
          "RicardoAlemanMx",
          "RoyCampos",
          "SGarciaSoto",
          "SalCamarena",
          "SanjuanaMtz",
          "SergioSarmiento",
          "TapiaFernanda",
          "VILLALVAZO13",
          "YuririaSierra",
          "aguilarcamin",
          "andreslajous",
          "arturoangel20",
          "beltrandelrio",
          "carloselizondom",
          "dmorenochavez",
          "epigmenioibarra",
          "esquivelgerardo",
          "estarc62",
          "genarolozano",
          "hdemauleon",
          "jairocalixto",
          "javieraparicio",
          "jenarovillamil",
          "jrisco",
          "julioastillero",
          "kdartigues",
          "lydiacachosi",
          "mariocampos",
          "maurimm",
          "panchogarfias",
          "politicomx",
          "sergioaguayo",
          "sopitas",
          "warkentin"
         ],
         "legendgroup": "2",
         "marker": {
          "color": "#ab63fa",
          "symbol": "circle"
         },
         "mode": "markers",
         "name": "2",
         "orientation": "v",
         "showlegend": true,
         "type": "scatter",
         "x": [
          -58.073246002197266,
          -118.03646850585938,
          -42.440635681152344,
          11.328362464904785,
          -90.10333251953125,
          -17.39742660522461,
          -0.03363105282187462,
          47.96293640136719,
          -57.15073013305664,
          -32.913570404052734,
          -113.13251495361328,
          -2.7575745582580566,
          -5.6582465171813965,
          18.13140296936035,
          67.74111938476562,
          -14.880873680114746,
          16.77216911315918,
          77.1436767578125,
          -18.648868560791016,
          -27.811267852783203,
          -86.23208618164062,
          50.398372650146484,
          -15.063380241394043,
          -39.77658462524414,
          102.3513412475586,
          -34.901554107666016,
          26.753713607788086,
          80.40338134765625,
          36.22649383544922,
          -29.7489013671875,
          30.751352310180664,
          -29.513729095458984,
          -90.8355484008789,
          1.632383108139038,
          -47.22396469116211,
          75.8437728881836,
          -69.5347671508789,
          -89.4775619506836,
          97.37105560302734,
          25.65757179260254,
          59.72010040283203,
          37.124202728271484,
          -5.978699207305908,
          -81.86946868896484
         ],
         "xaxis": "x",
         "y": [
          -20.655223846435547,
          -29.011308670043945,
          -16.204736709594727,
          34.79560089111328,
          -3.6434412002563477,
          -26.394237518310547,
          46.1114501953125,
          12.986908912658691,
          -100.29019927978516,
          -55.0320930480957,
          32.90699768066406,
          29.237520217895508,
          -103.48772430419922,
          -44.32694625854492,
          -88.76393127441406,
          -49.263893127441406,
          -81.24846649169922,
          73.61382293701172,
          29.970888137817383,
          -38.8389892578125,
          18.817895889282227,
          84.46406555175781,
          61.60249710083008,
          96.48786926269531,
          -26.79621124267578,
          43.00630187988281,
          44.193809509277344,
          -42.11977005004883,
          -33.81981658935547,
          -22.565399169921875,
          12.256226539611816,
          -116.8548583984375,
          -49.82647705078125,
          -43.484214782714844,
          -71.2911605834961,
          16.489978790283203,
          95.24602508544922,
          -26.717376708984375,
          32.6562385559082,
          108.06244659423828,
          -2.7846131324768066,
          29.5456600189209,
          -81.46622467041016,
          -85.5699462890625
         ],
         "yaxis": "y"
        }
       ],
       "layout": {
        "autosize": true,
        "legend": {
         "title": {
          "text": "group"
         },
         "tracegroupgap": 0
        },
        "margin": {
         "t": 60
        },
        "template": {
         "data": {
          "bar": [
           {
            "error_x": {
             "color": "#2a3f5f"
            },
            "error_y": {
             "color": "#2a3f5f"
            },
            "marker": {
             "line": {
              "color": "#E5ECF6",
              "width": 0.5
             }
            },
            "type": "bar"
           }
          ],
          "barpolar": [
           {
            "marker": {
             "line": {
              "color": "#E5ECF6",
              "width": 0.5
             }
            },
            "type": "barpolar"
           }
          ],
          "carpet": [
           {
            "aaxis": {
             "endlinecolor": "#2a3f5f",
             "gridcolor": "white",
             "linecolor": "white",
             "minorgridcolor": "white",
             "startlinecolor": "#2a3f5f"
            },
            "baxis": {
             "endlinecolor": "#2a3f5f",
             "gridcolor": "white",
             "linecolor": "white",
             "minorgridcolor": "white",
             "startlinecolor": "#2a3f5f"
            },
            "type": "carpet"
           }
          ],
          "choropleth": [
           {
            "colorbar": {
             "outlinewidth": 0,
             "ticks": ""
            },
            "type": "choropleth"
           }
          ],
          "contour": [
           {
            "colorbar": {
             "outlinewidth": 0,
             "ticks": ""
            },
            "colorscale": [
             [
              0,
              "#0d0887"
             ],
             [
              0.1111111111111111,
              "#46039f"
             ],
             [
              0.2222222222222222,
              "#7201a8"
             ],
             [
              0.3333333333333333,
              "#9c179e"
             ],
             [
              0.4444444444444444,
              "#bd3786"
             ],
             [
              0.5555555555555556,
              "#d8576b"
             ],
             [
              0.6666666666666666,
              "#ed7953"
             ],
             [
              0.7777777777777778,
              "#fb9f3a"
             ],
             [
              0.8888888888888888,
              "#fdca26"
             ],
             [
              1,
              "#f0f921"
             ]
            ],
            "type": "contour"
           }
          ],
          "contourcarpet": [
           {
            "colorbar": {
             "outlinewidth": 0,
             "ticks": ""
            },
            "type": "contourcarpet"
           }
          ],
          "heatmap": [
           {
            "colorbar": {
             "outlinewidth": 0,
             "ticks": ""
            },
            "colorscale": [
             [
              0,
              "#0d0887"
             ],
             [
              0.1111111111111111,
              "#46039f"
             ],
             [
              0.2222222222222222,
              "#7201a8"
             ],
             [
              0.3333333333333333,
              "#9c179e"
             ],
             [
              0.4444444444444444,
              "#bd3786"
             ],
             [
              0.5555555555555556,
              "#d8576b"
             ],
             [
              0.6666666666666666,
              "#ed7953"
             ],
             [
              0.7777777777777778,
              "#fb9f3a"
             ],
             [
              0.8888888888888888,
              "#fdca26"
             ],
             [
              1,
              "#f0f921"
             ]
            ],
            "type": "heatmap"
           }
          ],
          "heatmapgl": [
           {
            "colorbar": {
             "outlinewidth": 0,
             "ticks": ""
            },
            "colorscale": [
             [
              0,
              "#0d0887"
             ],
             [
              0.1111111111111111,
              "#46039f"
             ],
             [
              0.2222222222222222,
              "#7201a8"
             ],
             [
              0.3333333333333333,
              "#9c179e"
             ],
             [
              0.4444444444444444,
              "#bd3786"
             ],
             [
              0.5555555555555556,
              "#d8576b"
             ],
             [
              0.6666666666666666,
              "#ed7953"
             ],
             [
              0.7777777777777778,
              "#fb9f3a"
             ],
             [
              0.8888888888888888,
              "#fdca26"
             ],
             [
              1,
              "#f0f921"
             ]
            ],
            "type": "heatmapgl"
           }
          ],
          "histogram": [
           {
            "marker": {
             "colorbar": {
              "outlinewidth": 0,
              "ticks": ""
             }
            },
            "type": "histogram"
           }
          ],
          "histogram2d": [
           {
            "colorbar": {
             "outlinewidth": 0,
             "ticks": ""
            },
            "colorscale": [
             [
              0,
              "#0d0887"
             ],
             [
              0.1111111111111111,
              "#46039f"
             ],
             [
              0.2222222222222222,
              "#7201a8"
             ],
             [
              0.3333333333333333,
              "#9c179e"
             ],
             [
              0.4444444444444444,
              "#bd3786"
             ],
             [
              0.5555555555555556,
              "#d8576b"
             ],
             [
              0.6666666666666666,
              "#ed7953"
             ],
             [
              0.7777777777777778,
              "#fb9f3a"
             ],
             [
              0.8888888888888888,
              "#fdca26"
             ],
             [
              1,
              "#f0f921"
             ]
            ],
            "type": "histogram2d"
           }
          ],
          "histogram2dcontour": [
           {
            "colorbar": {
             "outlinewidth": 0,
             "ticks": ""
            },
            "colorscale": [
             [
              0,
              "#0d0887"
             ],
             [
              0.1111111111111111,
              "#46039f"
             ],
             [
              0.2222222222222222,
              "#7201a8"
             ],
             [
              0.3333333333333333,
              "#9c179e"
             ],
             [
              0.4444444444444444,
              "#bd3786"
             ],
             [
              0.5555555555555556,
              "#d8576b"
             ],
             [
              0.6666666666666666,
              "#ed7953"
             ],
             [
              0.7777777777777778,
              "#fb9f3a"
             ],
             [
              0.8888888888888888,
              "#fdca26"
             ],
             [
              1,
              "#f0f921"
             ]
            ],
            "type": "histogram2dcontour"
           }
          ],
          "mesh3d": [
           {
            "colorbar": {
             "outlinewidth": 0,
             "ticks": ""
            },
            "type": "mesh3d"
           }
          ],
          "parcoords": [
           {
            "line": {
             "colorbar": {
              "outlinewidth": 0,
              "ticks": ""
             }
            },
            "type": "parcoords"
           }
          ],
          "pie": [
           {
            "automargin": true,
            "type": "pie"
           }
          ],
          "scatter": [
           {
            "marker": {
             "colorbar": {
              "outlinewidth": 0,
              "ticks": ""
             }
            },
            "type": "scatter"
           }
          ],
          "scatter3d": [
           {
            "line": {
             "colorbar": {
              "outlinewidth": 0,
              "ticks": ""
             }
            },
            "marker": {
             "colorbar": {
              "outlinewidth": 0,
              "ticks": ""
             }
            },
            "type": "scatter3d"
           }
          ],
          "scattercarpet": [
           {
            "marker": {
             "colorbar": {
              "outlinewidth": 0,
              "ticks": ""
             }
            },
            "type": "scattercarpet"
           }
          ],
          "scattergeo": [
           {
            "marker": {
             "colorbar": {
              "outlinewidth": 0,
              "ticks": ""
             }
            },
            "type": "scattergeo"
           }
          ],
          "scattergl": [
           {
            "marker": {
             "colorbar": {
              "outlinewidth": 0,
              "ticks": ""
             }
            },
            "type": "scattergl"
           }
          ],
          "scattermapbox": [
           {
            "marker": {
             "colorbar": {
              "outlinewidth": 0,
              "ticks": ""
             }
            },
            "type": "scattermapbox"
           }
          ],
          "scatterpolar": [
           {
            "marker": {
             "colorbar": {
              "outlinewidth": 0,
              "ticks": ""
             }
            },
            "type": "scatterpolar"
           }
          ],
          "scatterpolargl": [
           {
            "marker": {
             "colorbar": {
              "outlinewidth": 0,
              "ticks": ""
             }
            },
            "type": "scatterpolargl"
           }
          ],
          "scatterternary": [
           {
            "marker": {
             "colorbar": {
              "outlinewidth": 0,
              "ticks": ""
             }
            },
            "type": "scatterternary"
           }
          ],
          "surface": [
           {
            "colorbar": {
             "outlinewidth": 0,
             "ticks": ""
            },
            "colorscale": [
             [
              0,
              "#0d0887"
             ],
             [
              0.1111111111111111,
              "#46039f"
             ],
             [
              0.2222222222222222,
              "#7201a8"
             ],
             [
              0.3333333333333333,
              "#9c179e"
             ],
             [
              0.4444444444444444,
              "#bd3786"
             ],
             [
              0.5555555555555556,
              "#d8576b"
             ],
             [
              0.6666666666666666,
              "#ed7953"
             ],
             [
              0.7777777777777778,
              "#fb9f3a"
             ],
             [
              0.8888888888888888,
              "#fdca26"
             ],
             [
              1,
              "#f0f921"
             ]
            ],
            "type": "surface"
           }
          ],
          "table": [
           {
            "cells": {
             "fill": {
              "color": "#EBF0F8"
             },
             "line": {
              "color": "white"
             }
            },
            "header": {
             "fill": {
              "color": "#C8D4E3"
             },
             "line": {
              "color": "white"
             }
            },
            "type": "table"
           }
          ]
         },
         "layout": {
          "annotationdefaults": {
           "arrowcolor": "#2a3f5f",
           "arrowhead": 0,
           "arrowwidth": 1
          },
          "coloraxis": {
           "colorbar": {
            "outlinewidth": 0,
            "ticks": ""
           }
          },
          "colorscale": {
           "diverging": [
            [
             0,
             "#8e0152"
            ],
            [
             0.1,
             "#c51b7d"
            ],
            [
             0.2,
             "#de77ae"
            ],
            [
             0.3,
             "#f1b6da"
            ],
            [
             0.4,
             "#fde0ef"
            ],
            [
             0.5,
             "#f7f7f7"
            ],
            [
             0.6,
             "#e6f5d0"
            ],
            [
             0.7,
             "#b8e186"
            ],
            [
             0.8,
             "#7fbc41"
            ],
            [
             0.9,
             "#4d9221"
            ],
            [
             1,
             "#276419"
            ]
           ],
           "sequential": [
            [
             0,
             "#0d0887"
            ],
            [
             0.1111111111111111,
             "#46039f"
            ],
            [
             0.2222222222222222,
             "#7201a8"
            ],
            [
             0.3333333333333333,
             "#9c179e"
            ],
            [
             0.4444444444444444,
             "#bd3786"
            ],
            [
             0.5555555555555556,
             "#d8576b"
            ],
            [
             0.6666666666666666,
             "#ed7953"
            ],
            [
             0.7777777777777778,
             "#fb9f3a"
            ],
            [
             0.8888888888888888,
             "#fdca26"
            ],
            [
             1,
             "#f0f921"
            ]
           ],
           "sequentialminus": [
            [
             0,
             "#0d0887"
            ],
            [
             0.1111111111111111,
             "#46039f"
            ],
            [
             0.2222222222222222,
             "#7201a8"
            ],
            [
             0.3333333333333333,
             "#9c179e"
            ],
            [
             0.4444444444444444,
             "#bd3786"
            ],
            [
             0.5555555555555556,
             "#d8576b"
            ],
            [
             0.6666666666666666,
             "#ed7953"
            ],
            [
             0.7777777777777778,
             "#fb9f3a"
            ],
            [
             0.8888888888888888,
             "#fdca26"
            ],
            [
             1,
             "#f0f921"
            ]
           ]
          },
          "colorway": [
           "#636efa",
           "#EF553B",
           "#00cc96",
           "#ab63fa",
           "#FFA15A",
           "#19d3f3",
           "#FF6692",
           "#B6E880",
           "#FF97FF",
           "#FECB52"
          ],
          "font": {
           "color": "#2a3f5f"
          },
          "geo": {
           "bgcolor": "white",
           "lakecolor": "white",
           "landcolor": "#E5ECF6",
           "showlakes": true,
           "showland": true,
           "subunitcolor": "white"
          },
          "hoverlabel": {
           "align": "left"
          },
          "hovermode": "closest",
          "mapbox": {
           "style": "light"
          },
          "paper_bgcolor": "white",
          "plot_bgcolor": "#E5ECF6",
          "polar": {
           "angularaxis": {
            "gridcolor": "white",
            "linecolor": "white",
            "ticks": ""
           },
           "bgcolor": "#E5ECF6",
           "radialaxis": {
            "gridcolor": "white",
            "linecolor": "white",
            "ticks": ""
           }
          },
          "scene": {
           "xaxis": {
            "backgroundcolor": "#E5ECF6",
            "gridcolor": "white",
            "gridwidth": 2,
            "linecolor": "white",
            "showbackground": true,
            "ticks": "",
            "zerolinecolor": "white"
           },
           "yaxis": {
            "backgroundcolor": "#E5ECF6",
            "gridcolor": "white",
            "gridwidth": 2,
            "linecolor": "white",
            "showbackground": true,
            "ticks": "",
            "zerolinecolor": "white"
           },
           "zaxis": {
            "backgroundcolor": "#E5ECF6",
            "gridcolor": "white",
            "gridwidth": 2,
            "linecolor": "white",
            "showbackground": true,
            "ticks": "",
            "zerolinecolor": "white"
           }
          },
          "shapedefaults": {
           "line": {
            "color": "#2a3f5f"
           }
          },
          "ternary": {
           "aaxis": {
            "gridcolor": "white",
            "linecolor": "white",
            "ticks": ""
           },
           "baxis": {
            "gridcolor": "white",
            "linecolor": "white",
            "ticks": ""
           },
           "bgcolor": "#E5ECF6",
           "caxis": {
            "gridcolor": "white",
            "linecolor": "white",
            "ticks": ""
           }
          },
          "title": {
           "x": 0.05
          },
          "xaxis": {
           "automargin": true,
           "gridcolor": "white",
           "linecolor": "white",
           "ticks": "",
           "title": {
            "standoff": 15
           },
           "zerolinecolor": "white",
           "zerolinewidth": 2
          },
          "yaxis": {
           "automargin": true,
           "gridcolor": "white",
           "linecolor": "white",
           "ticks": "",
           "title": {
            "standoff": 15
           },
           "zerolinecolor": "white",
           "zerolinewidth": 2
          }
         }
        },
        "xaxis": {
         "anchor": "y",
         "autorange": true,
         "domain": [
          0,
          1
         ],
         "range": [
          -131.95712114945576,
          124.59103228226826
         ],
         "title": {
          "text": "x"
         },
         "type": "linear"
        },
        "yaxis": {
         "anchor": "x",
         "autorange": true,
         "domain": [
          0,
          1
         ],
         "range": [
          -133.04334384784732,
          127.6543439088825
         ],
         "title": {
          "text": "y"
         },
         "type": "linear"
        }
       }
      },
      "image/png": "[encoded data removed]",
      "text/html": [
       "<div>                            <div id=\"90399cc5-1e6f-421d-8006-42bb989b9f8c\" class=\"plotly-graph-div\" style=\"height:525px; width:100%;\"></div>            <script type=\"text/javascript\">                require([\"plotly\"], function(Plotly) {                    window.PLOTLYENV=window.PLOTLYENV || {};                                    if (document.getElementById(\"90399cc5-1e6f-421d-8006-42bb989b9f8c\")) {                    Plotly.newPlot(                        \"90399cc5-1e6f-421d-8006-42bb989b9f8c\",                        [{\"hovertemplate\": \"<b>%{hovertext}</b><br><br>group=0<br>x=%{x}<br>y=%{y}<extra></extra>\", \"hovertext\": [\"ADNPolitico\", \"ActualidadRT\", \"Adela_Micha\", \"AnaPOrdorica\", \"AristeguiOnline\", \"AztecaNoticias\", \"Canal22\", \"CanalOnceTV\", \"CarlosLoret\", \"CiroGomezL\", \"DeniseDresserG\", \"E_Q_\", \"carlosramirezh\"], \"legendgroup\": \"0\", \"marker\": {\"color\": \"#636efa\", \"symbol\": \"circle\"}, \"mode\": \"markers\", \"name\": \"0\", \"orientation\": \"v\", \"showlegend\": true, \"type\": \"scatter\", \"x\": [5.241410255432129, -6.7707672119140625, -31.774770736694336, -13.019585609436035, -15.919703483581543, 11.356552124023438, 13.320097923278809, -16.759624481201172, -3.898935556411743, -10.151041030883789, -3.0341687202453613, -70.23160552978516, 0.037250567227602005], \"xaxis\": \"x\", \"y\": [4.99461030960083, -10.502440452575684, 3.9241065979003906, 19.86982536315918, -4.300006866455078, -4.61255407333374, -19.323720932006836, -16.811222076416016, 0.0830935686826706, -36.74253463745117, 12.613789558410645, -7.376642227172852, -60.54045867919922], \"yaxis\": \"y\"}, {\"hovertemplate\": \"<b>%{hovertext}</b><br><br>group=3<br>x=%{x}<br>y=%{y}<extra></extra>\", \"hovertext\": [\"Amsalazar\", \"DiegoEOsorno\", \"Imagen_Mx\", \"LeonKrauze\", \"Pizu\", \"ahope71\", \"jorgeramosnews\", \"jshm00\", \"macariomx\", \"nacholozano\", \"rivapa\"], \"legendgroup\": \"3\", \"marker\": {\"color\": \"#EF553B\", \"symbol\": \"circle\"}, \"mode\": \"markers\", \"name\": \"3\", \"orientation\": \"v\", \"showlegend\": true, \"type\": \"scatter\", \"x\": [8.305781364440918, 16.529525756835938, 13.427342414855957, -25.77123260498047, 38.53524398803711, -44.514583587646484, -55.67485046386719, 3.9494099617004395, 24.068096160888672, -19.932741165161133, -34.10538101196289], \"xaxis\": \"x\", \"y\": [20.274032592773438, 9.016053199768066, 57.59197235107422, 12.118486404418945, -53.22643280029297, -33.88054275512695, 48.610469818115234, -11.020611763000488, -3.0750319957733154, -68.09467315673828, 63.120750427246094], \"yaxis\": \"y\"}, {\"hovertemplate\": \"<b>%{hovertext}</b><br><br>group=1<br>x=%{x}<br>y=%{y}<extra></extra>\", \"hovertext\": [\"DeniseMaerker\", \"EfektoNoticias\", \"EjeCentral\", \"ElFinanciero_Mx\", \"El_Universal_Mx\", \"EnfoqueNoticias\", \"Excelsior\", \"ExpansionMx\", \"FedericoArreola\", \"Foro_TV\", \"JohnMAckerman\", \"JoseCardenas1\", \"LaRazon_mx\", \"LeonardoCurzio\", \"LuisCardenasMx\", \"Milenio\", \"NTelevisa_com\", \"Notimex\", \"Pajaropolitico\", \"PublimetroMX\", \"Radio_Formula\", \"Reforma\", \"Reporte_Indigo\", \"SinEmbargoMX\", \"UnoNoticias\", \"WRADIOMexico\", \"Yoinfluyo\", \"alvaro_delgado\", \"diario24horas\", \"el_pais\", \"eleconomista\", \"elsolde_mexico\", \"informador\", \"karlaiberia\", \"lacronicadehoy\", \"lajornadaonline\", \"lasillarota\", \"lopezdoriga\", \"mileniotv\", \"nexosmexico\", \"puigcarlos\", \"revistaproceso\", \"sacroprofano\", \"sdpnoticias\"], \"legendgroup\": \"1\", \"marker\": {\"color\": \"#00cc96\", \"symbol\": \"circle\"}, \"mode\": \"markers\", \"name\": \"1\", \"orientation\": \"v\", \"showlegend\": true, \"type\": \"scatter\", \"x\": [21.8702335357666, 8.304818153381348, 39.41084289550781, -41.44954299926758, -3.283926486968994, 55.18857955932617, -32.44382095336914, -52.26074981689453, 59.223323822021484, -114.79623413085938, -4.398120403289795, 49.55705642700195, 45.382633209228516, 38.91379165649414, -28.395231246948242, 110.67037963867188, 17.623456954956055, -69.82300567626953, 1.0180752277374268, 20.12290382385254, -70.091064453125, -113.21415710449219, -16.345829010009766, 66.12068939208984, 26.08500862121582, 75.17547607421875, -62.315879821777344, -16.389392852783203, 94.71299743652344, -32.71358871459961, 83.55411529541016, -55.32070541381836, -51.69038009643555, -13.224061012268066, 19.573408126831055, -49.20397186279297, -43.07780838012695, -76.41273498535156, 39.60383224487305, 34.990562438964844, -90.92981719970703, -68.82032775878906, 63.03898620605469, 20.669803619384766], \"xaxis\": \"x\", \"y\": [-29.191574096679688, -29.58332061767578, -74.68670654296875, -1.085381269454956, -23.221240997314453, -39.33929443359375, 24.065296173095703, -50.42308807373047, 29.28706932067871, 3.8975632190704346, 111.46585845947266, 48.44183349609375, -19.673145294189453, -100.10508728027344, -6.427714824676514, 5.048900127410889, -112.9194564819336, 33.152740478515625, 72.39254760742188, -60.952171325683594, -60.46879577636719, -68.1478271484375, 43.82488250732422, -21.31193733215332, -16.595752716064453, 48.725242614746094, 15.28075122833252, 88.15719604492188, -66.5623550415039, -88.01793670654297, -5.641877174377441, 0.4302282929420471, 71.2745361328125, 6.938372611999512, 83.90199279785156, 30.93603515625, 13.798439025878906, 67.80774688720703, -3.221923351287842, 65.25468444824219, 47.576568603515625, -35.111122131347656, -61.673004150390625, 24.034053802490234], \"yaxis\": \"y\"}, {\"hovertemplate\": \"<b>%{hovertext}</b><br><br>group=2<br>x=%{x}<br>y=%{y}<extra></extra>\", \"hovertext\": [\"ElHuffPost\", \"FernandoDworak\", \"J_Fdz_Menendez\", \"JavierSolorzano\", \"MarioBeteta\", \"NoticiasMVS\", \"PPmerino\", \"PabloHiriart\", \"PaolaRojas\", \"PedroFerriz\", \"RicardoAlemanMx\", \"RoyCampos\", \"SGarciaSoto\", \"SalCamarena\", \"SanjuanaMtz\", \"SergioSarmiento\", \"TapiaFernanda\", \"VILLALVAZO13\", \"YuririaSierra\", \"aguilarcamin\", \"andreslajous\", \"arturoangel20\", \"beltrandelrio\", \"carloselizondom\", \"dmorenochavez\", \"epigmenioibarra\", \"esquivelgerardo\", \"estarc62\", \"genarolozano\", \"hdemauleon\", \"jairocalixto\", \"javieraparicio\", \"jenarovillamil\", \"jrisco\", \"julioastillero\", \"kdartigues\", \"lydiacachosi\", \"mariocampos\", \"maurimm\", \"panchogarfias\", \"politicomx\", \"sergioaguayo\", \"sopitas\", \"warkentin\"], \"legendgroup\": \"2\", \"marker\": {\"color\": \"#ab63fa\", \"symbol\": \"circle\"}, \"mode\": \"markers\", \"name\": \"2\", \"orientation\": \"v\", \"showlegend\": true, \"type\": \"scatter\", \"x\": [-58.073246002197266, -118.03646850585938, -42.440635681152344, 11.328362464904785, -90.10333251953125, -17.39742660522461, -0.03363105282187462, 47.96293640136719, -57.15073013305664, -32.913570404052734, -113.13251495361328, -2.7575745582580566, -5.6582465171813965, 18.13140296936035, 67.74111938476562, -14.880873680114746, 16.77216911315918, 77.1436767578125, -18.648868560791016, -27.811267852783203, -86.23208618164062, 50.398372650146484, -15.063380241394043, -39.77658462524414, 102.3513412475586, -34.901554107666016, 26.753713607788086, 80.40338134765625, 36.22649383544922, -29.7489013671875, 30.751352310180664, -29.513729095458984, -90.8355484008789, 1.632383108139038, -47.22396469116211, 75.8437728881836, -69.5347671508789, -89.4775619506836, 97.37105560302734, 25.65757179260254, 59.72010040283203, 37.124202728271484, -5.978699207305908, -81.86946868896484], \"xaxis\": \"x\", \"y\": [-20.655223846435547, -29.011308670043945, -16.204736709594727, 34.79560089111328, -3.6434412002563477, -26.394237518310547, 46.1114501953125, 12.986908912658691, -100.29019927978516, -55.0320930480957, 32.90699768066406, 29.237520217895508, -103.48772430419922, -44.32694625854492, -88.76393127441406, -49.263893127441406, -81.24846649169922, 73.61382293701172, 29.970888137817383, -38.8389892578125, 18.817895889282227, 84.46406555175781, 61.60249710083008, 96.48786926269531, -26.79621124267578, 43.00630187988281, 44.193809509277344, -42.11977005004883, -33.81981658935547, -22.565399169921875, 12.256226539611816, -116.8548583984375, -49.82647705078125, -43.484214782714844, -71.2911605834961, 16.489978790283203, 95.24602508544922, -26.717376708984375, 32.6562385559082, 108.06244659423828, -2.7846131324768066, 29.5456600189209, -81.46622467041016, -85.5699462890625], \"yaxis\": \"y\"}],                        {\"legend\": {\"title\": {\"text\": \"group\"}, \"tracegroupgap\": 0}, \"margin\": {\"t\": 60}, \"template\": {\"data\": {\"bar\": [{\"error_x\": {\"color\": \"#2a3f5f\"}, \"error_y\": {\"color\": \"#2a3f5f\"}, \"marker\": {\"line\": {\"color\": \"#E5ECF6\", \"width\": 0.5}}, \"type\": \"bar\"}], \"barpolar\": [{\"marker\": {\"line\": {\"color\": \"#E5ECF6\", \"width\": 0.5}}, \"type\": \"barpolar\"}], \"carpet\": [{\"aaxis\": {\"endlinecolor\": \"#2a3f5f\", \"gridcolor\": \"white\", \"linecolor\": \"white\", \"minorgridcolor\": \"white\", \"startlinecolor\": \"#2a3f5f\"}, \"baxis\": {\"endlinecolor\": \"#2a3f5f\", \"gridcolor\": \"white\", \"linecolor\": \"white\", \"minorgridcolor\": \"white\", \"startlinecolor\": \"#2a3f5f\"}, \"type\": \"carpet\"}], \"choropleth\": [{\"colorbar\": {\"outlinewidth\": 0, \"ticks\": \"\"}, \"type\": \"choropleth\"}], \"contour\": [{\"colorbar\": {\"outlinewidth\": 0, \"ticks\": \"\"}, \"colorscale\": [[0.0, \"#0d0887\"], [0.1111111111111111, \"#46039f\"], [0.2222222222222222, \"#7201a8\"], [0.3333333333333333, \"#9c179e\"], [0.4444444444444444, \"#bd3786\"], [0.5555555555555556, \"#d8576b\"], [0.6666666666666666, \"#ed7953\"], [0.7777777777777778, \"#fb9f3a\"], [0.8888888888888888, \"#fdca26\"], [1.0, \"#f0f921\"]], \"type\": \"contour\"}], \"contourcarpet\": [{\"colorbar\": {\"outlinewidth\": 0, \"ticks\": \"\"}, \"type\": \"contourcarpet\"}], \"heatmap\": [{\"colorbar\": {\"outlinewidth\": 0, \"ticks\": \"\"}, \"colorscale\": [[0.0, \"#0d0887\"], [0.1111111111111111, \"#46039f\"], [0.2222222222222222, \"#7201a8\"], [0.3333333333333333, \"#9c179e\"], [0.4444444444444444, \"#bd3786\"], [0.5555555555555556, \"#d8576b\"], [0.6666666666666666, \"#ed7953\"], [0.7777777777777778, \"#fb9f3a\"], [0.8888888888888888, \"#fdca26\"], [1.0, \"#f0f921\"]], \"type\": \"heatmap\"}], \"heatmapgl\": [{\"colorbar\": {\"outlinewidth\": 0, \"ticks\": \"\"}, \"colorscale\": [[0.0, \"#0d0887\"], [0.1111111111111111, \"#46039f\"], [0.2222222222222222, \"#7201a8\"], [0.3333333333333333, \"#9c179e\"], [0.4444444444444444, \"#bd3786\"], [0.5555555555555556, \"#d8576b\"], [0.6666666666666666, \"#ed7953\"], [0.7777777777777778, \"#fb9f3a\"], [0.8888888888888888, \"#fdca26\"], [1.0, \"#f0f921\"]], \"type\": \"heatmapgl\"}], \"histogram\": [{\"marker\": {\"colorbar\": {\"outlinewidth\": 0, \"ticks\": \"\"}}, \"type\": \"histogram\"}], \"histogram2d\": [{\"colorbar\": {\"outlinewidth\": 0, \"ticks\": \"\"}, \"colorscale\": [[0.0, \"#0d0887\"], [0.1111111111111111, \"#46039f\"], [0.2222222222222222, \"#7201a8\"], [0.3333333333333333, \"#9c179e\"], [0.4444444444444444, \"#bd3786\"], [0.5555555555555556, \"#d8576b\"], [0.6666666666666666, \"#ed7953\"], [0.7777777777777778, \"#fb9f3a\"], [0.8888888888888888, \"#fdca26\"], [1.0, \"#f0f921\"]], \"type\": \"histogram2d\"}], \"histogram2dcontour\": [{\"colorbar\": {\"outlinewidth\": 0, \"ticks\": \"\"}, \"colorscale\": [[0.0, \"#0d0887\"], [0.1111111111111111, \"#46039f\"], [0.2222222222222222, \"#7201a8\"], [0.3333333333333333, \"#9c179e\"], [0.4444444444444444, \"#bd3786\"], [0.5555555555555556, \"#d8576b\"], [0.6666666666666666, \"#ed7953\"], [0.7777777777777778, \"#fb9f3a\"], [0.8888888888888888, \"#fdca26\"], [1.0, \"#f0f921\"]], \"type\": \"histogram2dcontour\"}], \"mesh3d\": [{\"colorbar\": {\"outlinewidth\": 0, \"ticks\": \"\"}, \"type\": \"mesh3d\"}], \"parcoords\": [{\"line\": {\"colorbar\": {\"outlinewidth\": 0, \"ticks\": \"\"}}, \"type\": \"parcoords\"}], \"pie\": [{\"automargin\": true, \"type\": \"pie\"}], \"scatter\": [{\"marker\": {\"colorbar\": {\"outlinewidth\": 0, \"ticks\": \"\"}}, \"type\": \"scatter\"}], \"scatter3d\": [{\"line\": {\"colorbar\": {\"outlinewidth\": 0, \"ticks\": \"\"}}, \"marker\": {\"colorbar\": {\"outlinewidth\": 0, \"ticks\": \"\"}}, \"type\": \"scatter3d\"}], \"scattercarpet\": [{\"marker\": {\"colorbar\": {\"outlinewidth\": 0, \"ticks\": \"\"}}, \"type\": \"scattercarpet\"}], \"scattergeo\": [{\"marker\": {\"colorbar\": {\"outlinewidth\": 0, \"ticks\": \"\"}}, \"type\": \"scattergeo\"}], \"scattergl\": [{\"marker\": {\"colorbar\": {\"outlinewidth\": 0, \"ticks\": \"\"}}, \"type\": \"scattergl\"}], \"scattermapbox\": [{\"marker\": {\"colorbar\": {\"outlinewidth\": 0, \"ticks\": \"\"}}, \"type\": \"scattermapbox\"}], \"scatterpolar\": [{\"marker\": {\"colorbar\": {\"outlinewidth\": 0, \"ticks\": \"\"}}, \"type\": \"scatterpolar\"}], \"scatterpolargl\": [{\"marker\": {\"colorbar\": {\"outlinewidth\": 0, \"ticks\": \"\"}}, \"type\": \"scatterpolargl\"}], \"scatterternary\": [{\"marker\": {\"colorbar\": {\"outlinewidth\": 0, \"ticks\": \"\"}}, \"type\": \"scatterternary\"}], \"surface\": [{\"colorbar\": {\"outlinewidth\": 0, \"ticks\": \"\"}, \"colorscale\": [[0.0, \"#0d0887\"], [0.1111111111111111, \"#46039f\"], [0.2222222222222222, \"#7201a8\"], [0.3333333333333333, \"#9c179e\"], [0.4444444444444444, \"#bd3786\"], [0.5555555555555556, \"#d8576b\"], [0.6666666666666666, \"#ed7953\"], [0.7777777777777778, \"#fb9f3a\"], [0.8888888888888888, \"#fdca26\"], [1.0, \"#f0f921\"]], \"type\": \"surface\"}], \"table\": [{\"cells\": {\"fill\": {\"color\": \"#EBF0F8\"}, \"line\": {\"color\": \"white\"}}, \"header\": {\"fill\": {\"color\": \"#C8D4E3\"}, \"line\": {\"color\": \"white\"}}, \"type\": \"table\"}]}, \"layout\": {\"annotationdefaults\": {\"arrowcolor\": \"#2a3f5f\", \"arrowhead\": 0, \"arrowwidth\": 1}, \"coloraxis\": {\"colorbar\": {\"outlinewidth\": 0, \"ticks\": \"\"}}, \"colorscale\": {\"diverging\": [[0, \"#8e0152\"], [0.1, \"#c51b7d\"], [0.2, \"#de77ae\"], [0.3, \"#f1b6da\"], [0.4, \"#fde0ef\"], [0.5, \"#f7f7f7\"], [0.6, \"#e6f5d0\"], [0.7, \"#b8e186\"], [0.8, \"#7fbc41\"], [0.9, \"#4d9221\"], [1, \"#276419\"]], \"sequential\": [[0.0, \"#0d0887\"], [0.1111111111111111, \"#46039f\"], [0.2222222222222222, \"#7201a8\"], [0.3333333333333333, \"#9c179e\"], [0.4444444444444444, \"#bd3786\"], [0.5555555555555556, \"#d8576b\"], [0.6666666666666666, \"#ed7953\"], [0.7777777777777778, \"#fb9f3a\"], [0.8888888888888888, \"#fdca26\"], [1.0, \"#f0f921\"]], \"sequentialminus\": [[0.0, \"#0d0887\"], [0.1111111111111111, \"#46039f\"], [0.2222222222222222, \"#7201a8\"], [0.3333333333333333, \"#9c179e\"], [0.4444444444444444, \"#bd3786\"], [0.5555555555555556, \"#d8576b\"], [0.6666666666666666, \"#ed7953\"], [0.7777777777777778, \"#fb9f3a\"], [0.8888888888888888, \"#fdca26\"], [1.0, \"#f0f921\"]]}, \"colorway\": [\"#636efa\", \"#EF553B\", \"#00cc96\", \"#ab63fa\", \"#FFA15A\", \"#19d3f3\", \"#FF6692\", \"#B6E880\", \"#FF97FF\", \"#FECB52\"], \"font\": {\"color\": \"#2a3f5f\"}, \"geo\": {\"bgcolor\": \"white\", \"lakecolor\": \"white\", \"landcolor\": \"#E5ECF6\", \"showlakes\": true, \"showland\": true, \"subunitcolor\": \"white\"}, \"hoverlabel\": {\"align\": \"left\"}, \"hovermode\": \"closest\", \"mapbox\": {\"style\": \"light\"}, \"paper_bgcolor\": \"white\", \"plot_bgcolor\": \"#E5ECF6\", \"polar\": {\"angularaxis\": {\"gridcolor\": \"white\", \"linecolor\": \"white\", \"ticks\": \"\"}, \"bgcolor\": \"#E5ECF6\", \"radialaxis\": {\"gridcolor\": \"white\", \"linecolor\": \"white\", \"ticks\": \"\"}}, \"scene\": {\"xaxis\": {\"backgroundcolor\": \"#E5ECF6\", \"gridcolor\": \"white\", \"gridwidth\": 2, \"linecolor\": \"white\", \"showbackground\": true, \"ticks\": \"\", \"zerolinecolor\": \"white\"}, \"yaxis\": {\"backgroundcolor\": \"#E5ECF6\", \"gridcolor\": \"white\", \"gridwidth\": 2, \"linecolor\": \"white\", \"showbackground\": true, \"ticks\": \"\", \"zerolinecolor\": \"white\"}, \"zaxis\": {\"backgroundcolor\": \"#E5ECF6\", \"gridcolor\": \"white\", \"gridwidth\": 2, \"linecolor\": \"white\", \"showbackground\": true, \"ticks\": \"\", \"zerolinecolor\": \"white\"}}, \"shapedefaults\": {\"line\": {\"color\": \"#2a3f5f\"}}, \"ternary\": {\"aaxis\": {\"gridcolor\": \"white\", \"linecolor\": \"white\", \"ticks\": \"\"}, \"baxis\": {\"gridcolor\": \"white\", \"linecolor\": \"white\", \"ticks\": \"\"}, \"bgcolor\": \"#E5ECF6\", \"caxis\": {\"gridcolor\": \"white\", \"linecolor\": \"white\", \"ticks\": \"\"}}, \"title\": {\"x\": 0.05}, \"xaxis\": {\"automargin\": true, \"gridcolor\": \"white\", \"linecolor\": \"white\", \"ticks\": \"\", \"title\": {\"standoff\": 15}, \"zerolinecolor\": \"white\", \"zerolinewidth\": 2}, \"yaxis\": {\"automargin\": true, \"gridcolor\": \"white\", \"linecolor\": \"white\", \"ticks\": \"\", \"title\": {\"standoff\": 15}, \"zerolinecolor\": \"white\", \"zerolinewidth\": 2}}}, \"xaxis\": {\"anchor\": \"y\", \"domain\": [0.0, 1.0], \"title\": {\"text\": \"x\"}}, \"yaxis\": {\"anchor\": \"x\", \"domain\": [0.0, 1.0], \"title\": {\"text\": \"y\"}}},                        {\"responsive\": true}                    ).then(function(){\n",
       "                            \n",
       "var gd = document.getElementById('90399cc5-1e6f-421d-8006-42bb989b9f8c');\n",
       "var x = new MutationObserver(function (mutations, observer) {{\n",
       "        var display = window.getComputedStyle(gd).display;\n",
       "        if (!display || display === 'none') {{\n",
       "            console.log([gd, 'removed!']);\n",
       "            Plotly.purge(gd);\n",
       "            observer.disconnect();\n",
       "        }}\n",
       "}});\n",
       "\n",
       "// Listen for the removal of the full notebook cells\n",
       "var notebookContainer = gd.closest('#notebook-container');\n",
       "if (notebookContainer) {{\n",
       "    x.observe(notebookContainer, {childList: true});\n",
       "}}\n",
       "\n",
       "// Listen for the clearing of the current output cell\n",
       "var outputEl = gd.closest('.output');\n",
       "if (outputEl) {{\n",
       "    x.observe(outputEl, {childList: true});\n",
       "}}\n",
       "\n",
       "                        })                };                });            </script>        </div>"
      ]
     },
     "metadata": {},
     "output_type": "display_data"
    }
   ],
   "source": [
    "tsne_sq = TSNE(n_components=2, n_iter=1000, n_jobs=-1, metric=\"precomputed\", perplexity=10)\n",
    "\n",
    "_ = tsne_sq.fit_transform(aut_queries_df)  # Result stored in tsne.embedding_\n",
    "print(tsne_sq.n_iter_)\n",
    "x2 = tsne_sq.embedding_[:, 0]\n",
    "y2 = tsne_sq.embedding_[:, 1]\n",
    "\n",
    "df_sq = pd.DataFrame({\n",
    "    \"x\": x2, \n",
    "    \"y\": y2, \n",
    "    \"group\": [str(values) for values in labels], \n",
    "    \"author_name\":author_names\n",
    "})\n",
    "\n",
    "fig = (\n",
    "    px\n",
    "    .scatter(df_sq, x='x', y='y', color='group',  hover_name=\"author_name\")\n",
    ")\n",
    "fig.show()"
   ]
  },
  {
   "cell_type": "code",
   "execution_count": null,
   "metadata": {},
   "outputs": [],
   "source": []
  },
  {
   "cell_type": "markdown",
   "metadata": {},
   "source": [
    "### UMAP"
   ]
  },
  {
   "cell_type": "code",
   "execution_count": null,
   "metadata": {},
   "outputs": [],
   "source": [
    "aut_queries_df"
   ]
  },
  {
   "cell_type": "markdown",
   "metadata": {},
   "source": [
    "### UMAP"
   ]
  },
  {
   "cell_type": "code",
   "execution_count": 25,
   "metadata": {},
   "outputs": [
    {
     "data": {
      "application/vnd.plotly.v1+json": {
       "config": {
        "plotlyServerURL": "https://plot.ly"
       },
       "data": [
        {
         "hovertemplate": "<b>%{hovertext}</b><br><br>group=0<br>x=%{x}<br>y=%{y}<extra></extra>",
         "hovertext": [
          "ADNPolitico",
          "ActualidadRT",
          "Adela_Micha",
          "AnaPOrdorica",
          "AristeguiOnline",
          "AztecaNoticias",
          "Canal22",
          "CanalOnceTV",
          "CarlosLoret",
          "CiroGomezL",
          "DeniseDresserG",
          "E_Q_",
          "carlosramirezh"
         ],
         "legendgroup": "0",
         "marker": {
          "color": "#636efa",
          "symbol": "circle"
         },
         "mode": "markers",
         "name": "0",
         "orientation": "v",
         "showlegend": true,
         "type": "scatter",
         "x": [
          -9.1109619140625,
          -9.255587577819824,
          -9.26977825164795,
          -9.017142295837402,
          -9.564866065979004,
          -9.137918472290039,
          -9.171588897705078,
          -9.416956901550293,
          -9.236332893371582,
          -9.115782737731934,
          -9.346444129943848,
          3.944896936416626,
          3.7998275756835938
         ],
         "xaxis": "x",
         "y": [
          3.203319787979126,
          3.2405245304107666,
          3.9309136867523193,
          3.6297719478607178,
          3.4492738246917725,
          3.315478801727295,
          3.6175241470336914,
          3.715775966644287,
          3.4253692626953125,
          3.3609845638275146,
          3.5444343090057373,
          10.965420722961426,
          11.361823081970215
         ],
         "yaxis": "y"
        },
        {
         "hovertemplate": "<b>%{hovertext}</b><br><br>group=3<br>x=%{x}<br>y=%{y}<extra></extra>",
         "hovertext": [
          "Amsalazar",
          "DiegoEOsorno",
          "Imagen_Mx",
          "LeonKrauze",
          "Pizu",
          "ahope71",
          "jorgeramosnews",
          "jshm00",
          "macariomx",
          "nacholozano",
          "rivapa"
         ],
         "legendgroup": "3",
         "marker": {
          "color": "#EF553B",
          "symbol": "circle"
         },
         "mode": "markers",
         "name": "3",
         "orientation": "v",
         "showlegend": true,
         "type": "scatter",
         "x": [
          -9.445282936096191,
          5.817445755004883,
          4.165358543395996,
          4.15612268447876,
          5.5197296142578125,
          4.324167251586914,
          4.250073432922363,
          3.968315839767456,
          4.90744686126709,
          5.916589260101318,
          4.413980007171631
         ],
         "xaxis": "x",
         "y": [
          3.8558831214904785,
          10.544976234436035,
          10.415279388427734,
          10.141448974609375,
          10.40504264831543,
          10.300711631774902,
          10.595052719116211,
          9.973367691040039,
          10.415696144104004,
          10.636571884155273,
          10.39306354522705
         ],
         "yaxis": "y"
        },
        {
         "hovertemplate": "<b>%{hovertext}</b><br><br>group=1<br>x=%{x}<br>y=%{y}<extra></extra>",
         "hovertext": [
          "DeniseMaerker",
          "EfektoNoticias",
          "EjeCentral",
          "ElFinanciero_Mx",
          "El_Universal_Mx",
          "EnfoqueNoticias",
          "Excelsior",
          "ExpansionMx",
          "FedericoArreola",
          "Foro_TV",
          "JohnMAckerman",
          "JoseCardenas1",
          "LaRazon_mx",
          "LeonardoCurzio",
          "LuisCardenasMx",
          "Milenio",
          "NTelevisa_com",
          "Notimex",
          "Pajaropolitico",
          "PublimetroMX",
          "Radio_Formula",
          "Reforma",
          "Reporte_Indigo",
          "SinEmbargoMX",
          "UnoNoticias",
          "WRADIOMexico",
          "Yoinfluyo",
          "alvaro_delgado",
          "diario24horas",
          "el_pais",
          "eleconomista",
          "elsolde_mexico",
          "informador",
          "karlaiberia",
          "lacronicadehoy",
          "lajornadaonline",
          "lasillarota",
          "lopezdoriga",
          "mileniotv",
          "nexosmexico",
          "puigcarlos",
          "revistaproceso",
          "sacroprofano",
          "sdpnoticias"
         ],
         "legendgroup": "1",
         "marker": {
          "color": "#00cc96",
          "symbol": "circle"
         },
         "mode": "markers",
         "name": "1",
         "orientation": "v",
         "showlegend": true,
         "type": "scatter",
         "x": [
          2.9121503829956055,
          3.0382161140441895,
          3.2915830612182617,
          3.0341267585754395,
          3.427542209625244,
          3.110194444656372,
          2.9984445571899414,
          3.343615770339966,
          3.432319164276123,
          3.5935001373291016,
          4.457845211029053,
          4.115241527557373,
          2.811166524887085,
          2.998931646347046,
          3.0903851985931396,
          3.374831199645996,
          3.972121238708496,
          2.9819624423980713,
          3.8771889209747314,
          3.2971110343933105,
          2.603482246398926,
          3.207651376724243,
          3.894925594329834,
          3.5096545219421387,
          2.843503952026367,
          3.7344980239868164,
          3.2115533351898193,
          4.669407367706299,
          2.664841890335083,
          2.7058889865875244,
          3.635674476623535,
          3.112199306488037,
          3.6333580017089844,
          3.820296287536621,
          3.0620620250701904,
          2.942269802093506,
          2.8715033531188965,
          2.926532745361328,
          3.3050906658172607,
          3.5765092372894287,
          3.8017711639404297,
          3.126413106918335,
          3.961533784866333,
          3.451792001724243
         ],
         "xaxis": "x",
         "y": [
          12.612263679504395,
          12.177083969116211,
          12.345048904418945,
          13.325502395629883,
          13.8145751953125,
          11.708687782287598,
          13.661911964416504,
          15.57193660736084,
          12.53703784942627,
          13.62271785736084,
          14.762290000915527,
          15.774913787841797,
          15.639266014099121,
          12.994551658630371,
          12.740889549255371,
          16.044700622558594,
          15.482416152954102,
          14.238702774047852,
          15.504347801208496,
          14.238466262817383,
          15.178285598754883,
          14.990865707397461,
          15.09860897064209,
          15.96714973449707,
          13.59218692779541,
          13.694910049438477,
          13.208793640136719,
          14.912396430969238,
          15.531364440917969,
          14.676112174987793,
          14.40656566619873,
          15.781856536865234,
          15.16958999633789,
          14.792893409729004,
          15.643997192382812,
          15.195734024047852,
          14.885522842407227,
          14.67813777923584,
          11.94650936126709,
          13.3864107131958,
          16.018980026245117,
          15.549752235412598,
          13.435927391052246,
          15.543473243713379
         ],
         "yaxis": "y"
        },
        {
         "hovertemplate": "<b>%{hovertext}</b><br><br>group=2<br>x=%{x}<br>y=%{y}<extra></extra>",
         "hovertext": [
          "ElHuffPost",
          "FernandoDworak",
          "J_Fdz_Menendez",
          "JavierSolorzano",
          "MarioBeteta",
          "NoticiasMVS",
          "PPmerino",
          "PabloHiriart",
          "PaolaRojas",
          "PedroFerriz",
          "RicardoAlemanMx",
          "RoyCampos",
          "SGarciaSoto",
          "SalCamarena",
          "SanjuanaMtz",
          "SergioSarmiento",
          "TapiaFernanda",
          "VILLALVAZO13",
          "YuririaSierra",
          "aguilarcamin",
          "andreslajous",
          "arturoangel20",
          "beltrandelrio",
          "carloselizondom",
          "dmorenochavez",
          "epigmenioibarra",
          "esquivelgerardo",
          "estarc62",
          "genarolozano",
          "hdemauleon",
          "jairocalixto",
          "javieraparicio",
          "jenarovillamil",
          "jrisco",
          "julioastillero",
          "kdartigues",
          "lydiacachosi",
          "mariocampos",
          "maurimm",
          "panchogarfias",
          "politicomx",
          "sergioaguayo",
          "sopitas",
          "warkentin"
         ],
         "legendgroup": "2",
         "marker": {
          "color": "#ab63fa",
          "symbol": "circle"
         },
         "mode": "markers",
         "name": "2",
         "orientation": "v",
         "showlegend": true,
         "type": "scatter",
         "x": [
          4.963764190673828,
          6.481849670410156,
          3.6914150714874268,
          3.8819568157196045,
          7.146396636962891,
          7.135019302368164,
          6.355048656463623,
          6.094170093536377,
          6.367082118988037,
          6.630155086517334,
          7.006023406982422,
          6.683365821838379,
          6.1045613288879395,
          6.200829982757568,
          5.439347743988037,
          6.1328935623168945,
          5.564062118530273,
          6.11495304107666,
          6.4932684898376465,
          5.930336952209473,
          5.768880844116211,
          7.040647029876709,
          6.463492393493652,
          5.127479553222656,
          6.437814235687256,
          5.1325602531433105,
          5.936305999755859,
          6.327178478240967,
          5.674384593963623,
          6.119496822357178,
          4.97469425201416,
          5.974178791046143,
          5.735055446624756,
          4.559122085571289,
          6.6500396728515625,
          6.20025110244751,
          6.627888202667236,
          6.428326606750488,
          5.347301959991455,
          6.845473766326904,
          5.531630516052246,
          6.309905529022217,
          6.70781946182251,
          5.97567892074585
         ],
         "xaxis": "x",
         "y": [
          10.915929794311523,
          11.585119247436523,
          11.885896682739258,
          12.244449615478516,
          13.310291290283203,
          13.567838668823242,
          11.080038070678711,
          10.948968887329102,
          13.21090030670166,
          11.675363540649414,
          13.588783264160156,
          13.77600383758545,
          13.805001258850098,
          11.5162353515625,
          14.506546020507812,
          14.239466667175293,
          11.067670822143555,
          12.747418403625488,
          12.498403549194336,
          12.950183868408203,
          10.945452690124512,
          13.250130653381348,
          12.829402923583984,
          14.685747146606445,
          13.575368881225586,
          13.42164134979248,
          11.166885375976562,
          13.989969253540039,
          10.880717277526855,
          13.261519432067871,
          10.630317687988281,
          13.791974067687988,
          14.217609405517578,
          10.575149536132812,
          11.786294937133789,
          12.849053382873535,
          12.64059829711914,
          13.3350248336792,
          10.910760879516602,
          13.769739151000977,
          14.670157432556152,
          11.358302116394043,
          13.165099143981934,
          11.688566207885742
         ],
         "yaxis": "y"
        }
       ],
       "layout": {
        "autosize": true,
        "legend": {
         "title": {
          "text": "group"
         },
         "tracegroupgap": 0
        },
        "margin": {
         "t": 60
        },
        "template": {
         "data": {
          "bar": [
           {
            "error_x": {
             "color": "#2a3f5f"
            },
            "error_y": {
             "color": "#2a3f5f"
            },
            "marker": {
             "line": {
              "color": "#E5ECF6",
              "width": 0.5
             }
            },
            "type": "bar"
           }
          ],
          "barpolar": [
           {
            "marker": {
             "line": {
              "color": "#E5ECF6",
              "width": 0.5
             }
            },
            "type": "barpolar"
           }
          ],
          "carpet": [
           {
            "aaxis": {
             "endlinecolor": "#2a3f5f",
             "gridcolor": "white",
             "linecolor": "white",
             "minorgridcolor": "white",
             "startlinecolor": "#2a3f5f"
            },
            "baxis": {
             "endlinecolor": "#2a3f5f",
             "gridcolor": "white",
             "linecolor": "white",
             "minorgridcolor": "white",
             "startlinecolor": "#2a3f5f"
            },
            "type": "carpet"
           }
          ],
          "choropleth": [
           {
            "colorbar": {
             "outlinewidth": 0,
             "ticks": ""
            },
            "type": "choropleth"
           }
          ],
          "contour": [
           {
            "colorbar": {
             "outlinewidth": 0,
             "ticks": ""
            },
            "colorscale": [
             [
              0,
              "#0d0887"
             ],
             [
              0.1111111111111111,
              "#46039f"
             ],
             [
              0.2222222222222222,
              "#7201a8"
             ],
             [
              0.3333333333333333,
              "#9c179e"
             ],
             [
              0.4444444444444444,
              "#bd3786"
             ],
             [
              0.5555555555555556,
              "#d8576b"
             ],
             [
              0.6666666666666666,
              "#ed7953"
             ],
             [
              0.7777777777777778,
              "#fb9f3a"
             ],
             [
              0.8888888888888888,
              "#fdca26"
             ],
             [
              1,
              "#f0f921"
             ]
            ],
            "type": "contour"
           }
          ],
          "contourcarpet": [
           {
            "colorbar": {
             "outlinewidth": 0,
             "ticks": ""
            },
            "type": "contourcarpet"
           }
          ],
          "heatmap": [
           {
            "colorbar": {
             "outlinewidth": 0,
             "ticks": ""
            },
            "colorscale": [
             [
              0,
              "#0d0887"
             ],
             [
              0.1111111111111111,
              "#46039f"
             ],
             [
              0.2222222222222222,
              "#7201a8"
             ],
             [
              0.3333333333333333,
              "#9c179e"
             ],
             [
              0.4444444444444444,
              "#bd3786"
             ],
             [
              0.5555555555555556,
              "#d8576b"
             ],
             [
              0.6666666666666666,
              "#ed7953"
             ],
             [
              0.7777777777777778,
              "#fb9f3a"
             ],
             [
              0.8888888888888888,
              "#fdca26"
             ],
             [
              1,
              "#f0f921"
             ]
            ],
            "type": "heatmap"
           }
          ],
          "heatmapgl": [
           {
            "colorbar": {
             "outlinewidth": 0,
             "ticks": ""
            },
            "colorscale": [
             [
              0,
              "#0d0887"
             ],
             [
              0.1111111111111111,
              "#46039f"
             ],
             [
              0.2222222222222222,
              "#7201a8"
             ],
             [
              0.3333333333333333,
              "#9c179e"
             ],
             [
              0.4444444444444444,
              "#bd3786"
             ],
             [
              0.5555555555555556,
              "#d8576b"
             ],
             [
              0.6666666666666666,
              "#ed7953"
             ],
             [
              0.7777777777777778,
              "#fb9f3a"
             ],
             [
              0.8888888888888888,
              "#fdca26"
             ],
             [
              1,
              "#f0f921"
             ]
            ],
            "type": "heatmapgl"
           }
          ],
          "histogram": [
           {
            "marker": {
             "colorbar": {
              "outlinewidth": 0,
              "ticks": ""
             }
            },
            "type": "histogram"
           }
          ],
          "histogram2d": [
           {
            "colorbar": {
             "outlinewidth": 0,
             "ticks": ""
            },
            "colorscale": [
             [
              0,
              "#0d0887"
             ],
             [
              0.1111111111111111,
              "#46039f"
             ],
             [
              0.2222222222222222,
              "#7201a8"
             ],
             [
              0.3333333333333333,
              "#9c179e"
             ],
             [
              0.4444444444444444,
              "#bd3786"
             ],
             [
              0.5555555555555556,
              "#d8576b"
             ],
             [
              0.6666666666666666,
              "#ed7953"
             ],
             [
              0.7777777777777778,
              "#fb9f3a"
             ],
             [
              0.8888888888888888,
              "#fdca26"
             ],
             [
              1,
              "#f0f921"
             ]
            ],
            "type": "histogram2d"
           }
          ],
          "histogram2dcontour": [
           {
            "colorbar": {
             "outlinewidth": 0,
             "ticks": ""
            },
            "colorscale": [
             [
              0,
              "#0d0887"
             ],
             [
              0.1111111111111111,
              "#46039f"
             ],
             [
              0.2222222222222222,
              "#7201a8"
             ],
             [
              0.3333333333333333,
              "#9c179e"
             ],
             [
              0.4444444444444444,
              "#bd3786"
             ],
             [
              0.5555555555555556,
              "#d8576b"
             ],
             [
              0.6666666666666666,
              "#ed7953"
             ],
             [
              0.7777777777777778,
              "#fb9f3a"
             ],
             [
              0.8888888888888888,
              "#fdca26"
             ],
             [
              1,
              "#f0f921"
             ]
            ],
            "type": "histogram2dcontour"
           }
          ],
          "mesh3d": [
           {
            "colorbar": {
             "outlinewidth": 0,
             "ticks": ""
            },
            "type": "mesh3d"
           }
          ],
          "parcoords": [
           {
            "line": {
             "colorbar": {
              "outlinewidth": 0,
              "ticks": ""
             }
            },
            "type": "parcoords"
           }
          ],
          "pie": [
           {
            "automargin": true,
            "type": "pie"
           }
          ],
          "scatter": [
           {
            "marker": {
             "colorbar": {
              "outlinewidth": 0,
              "ticks": ""
             }
            },
            "type": "scatter"
           }
          ],
          "scatter3d": [
           {
            "line": {
             "colorbar": {
              "outlinewidth": 0,
              "ticks": ""
             }
            },
            "marker": {
             "colorbar": {
              "outlinewidth": 0,
              "ticks": ""
             }
            },
            "type": "scatter3d"
           }
          ],
          "scattercarpet": [
           {
            "marker": {
             "colorbar": {
              "outlinewidth": 0,
              "ticks": ""
             }
            },
            "type": "scattercarpet"
           }
          ],
          "scattergeo": [
           {
            "marker": {
             "colorbar": {
              "outlinewidth": 0,
              "ticks": ""
             }
            },
            "type": "scattergeo"
           }
          ],
          "scattergl": [
           {
            "marker": {
             "colorbar": {
              "outlinewidth": 0,
              "ticks": ""
             }
            },
            "type": "scattergl"
           }
          ],
          "scattermapbox": [
           {
            "marker": {
             "colorbar": {
              "outlinewidth": 0,
              "ticks": ""
             }
            },
            "type": "scattermapbox"
           }
          ],
          "scatterpolar": [
           {
            "marker": {
             "colorbar": {
              "outlinewidth": 0,
              "ticks": ""
             }
            },
            "type": "scatterpolar"
           }
          ],
          "scatterpolargl": [
           {
            "marker": {
             "colorbar": {
              "outlinewidth": 0,
              "ticks": ""
             }
            },
            "type": "scatterpolargl"
           }
          ],
          "scatterternary": [
           {
            "marker": {
             "colorbar": {
              "outlinewidth": 0,
              "ticks": ""
             }
            },
            "type": "scatterternary"
           }
          ],
          "surface": [
           {
            "colorbar": {
             "outlinewidth": 0,
             "ticks": ""
            },
            "colorscale": [
             [
              0,
              "#0d0887"
             ],
             [
              0.1111111111111111,
              "#46039f"
             ],
             [
              0.2222222222222222,
              "#7201a8"
             ],
             [
              0.3333333333333333,
              "#9c179e"
             ],
             [
              0.4444444444444444,
              "#bd3786"
             ],
             [
              0.5555555555555556,
              "#d8576b"
             ],
             [
              0.6666666666666666,
              "#ed7953"
             ],
             [
              0.7777777777777778,
              "#fb9f3a"
             ],
             [
              0.8888888888888888,
              "#fdca26"
             ],
             [
              1,
              "#f0f921"
             ]
            ],
            "type": "surface"
           }
          ],
          "table": [
           {
            "cells": {
             "fill": {
              "color": "#EBF0F8"
             },
             "line": {
              "color": "white"
             }
            },
            "header": {
             "fill": {
              "color": "#C8D4E3"
             },
             "line": {
              "color": "white"
             }
            },
            "type": "table"
           }
          ]
         },
         "layout": {
          "annotationdefaults": {
           "arrowcolor": "#2a3f5f",
           "arrowhead": 0,
           "arrowwidth": 1
          },
          "coloraxis": {
           "colorbar": {
            "outlinewidth": 0,
            "ticks": ""
           }
          },
          "colorscale": {
           "diverging": [
            [
             0,
             "#8e0152"
            ],
            [
             0.1,
             "#c51b7d"
            ],
            [
             0.2,
             "#de77ae"
            ],
            [
             0.3,
             "#f1b6da"
            ],
            [
             0.4,
             "#fde0ef"
            ],
            [
             0.5,
             "#f7f7f7"
            ],
            [
             0.6,
             "#e6f5d0"
            ],
            [
             0.7,
             "#b8e186"
            ],
            [
             0.8,
             "#7fbc41"
            ],
            [
             0.9,
             "#4d9221"
            ],
            [
             1,
             "#276419"
            ]
           ],
           "sequential": [
            [
             0,
             "#0d0887"
            ],
            [
             0.1111111111111111,
             "#46039f"
            ],
            [
             0.2222222222222222,
             "#7201a8"
            ],
            [
             0.3333333333333333,
             "#9c179e"
            ],
            [
             0.4444444444444444,
             "#bd3786"
            ],
            [
             0.5555555555555556,
             "#d8576b"
            ],
            [
             0.6666666666666666,
             "#ed7953"
            ],
            [
             0.7777777777777778,
             "#fb9f3a"
            ],
            [
             0.8888888888888888,
             "#fdca26"
            ],
            [
             1,
             "#f0f921"
            ]
           ],
           "sequentialminus": [
            [
             0,
             "#0d0887"
            ],
            [
             0.1111111111111111,
             "#46039f"
            ],
            [
             0.2222222222222222,
             "#7201a8"
            ],
            [
             0.3333333333333333,
             "#9c179e"
            ],
            [
             0.4444444444444444,
             "#bd3786"
            ],
            [
             0.5555555555555556,
             "#d8576b"
            ],
            [
             0.6666666666666666,
             "#ed7953"
            ],
            [
             0.7777777777777778,
             "#fb9f3a"
            ],
            [
             0.8888888888888888,
             "#fdca26"
            ],
            [
             1,
             "#f0f921"
            ]
           ]
          },
          "colorway": [
           "#636efa",
           "#EF553B",
           "#00cc96",
           "#ab63fa",
           "#FFA15A",
           "#19d3f3",
           "#FF6692",
           "#B6E880",
           "#FF97FF",
           "#FECB52"
          ],
          "font": {
           "color": "#2a3f5f"
          },
          "geo": {
           "bgcolor": "white",
           "lakecolor": "white",
           "landcolor": "#E5ECF6",
           "showlakes": true,
           "showland": true,
           "subunitcolor": "white"
          },
          "hoverlabel": {
           "align": "left"
          },
          "hovermode": "closest",
          "mapbox": {
           "style": "light"
          },
          "paper_bgcolor": "white",
          "plot_bgcolor": "#E5ECF6",
          "polar": {
           "angularaxis": {
            "gridcolor": "white",
            "linecolor": "white",
            "ticks": ""
           },
           "bgcolor": "#E5ECF6",
           "radialaxis": {
            "gridcolor": "white",
            "linecolor": "white",
            "ticks": ""
           }
          },
          "scene": {
           "xaxis": {
            "backgroundcolor": "#E5ECF6",
            "gridcolor": "white",
            "gridwidth": 2,
            "linecolor": "white",
            "showbackground": true,
            "ticks": "",
            "zerolinecolor": "white"
           },
           "yaxis": {
            "backgroundcolor": "#E5ECF6",
            "gridcolor": "white",
            "gridwidth": 2,
            "linecolor": "white",
            "showbackground": true,
            "ticks": "",
            "zerolinecolor": "white"
           },
           "zaxis": {
            "backgroundcolor": "#E5ECF6",
            "gridcolor": "white",
            "gridwidth": 2,
            "linecolor": "white",
            "showbackground": true,
            "ticks": "",
            "zerolinecolor": "white"
           }
          },
          "shapedefaults": {
           "line": {
            "color": "#2a3f5f"
           }
          },
          "ternary": {
           "aaxis": {
            "gridcolor": "white",
            "linecolor": "white",
            "ticks": ""
           },
           "baxis": {
            "gridcolor": "white",
            "linecolor": "white",
            "ticks": ""
           },
           "bgcolor": "#E5ECF6",
           "caxis": {
            "gridcolor": "white",
            "linecolor": "white",
            "ticks": ""
           }
          },
          "title": {
           "x": 0.05
          },
          "xaxis": {
           "automargin": true,
           "gridcolor": "white",
           "linecolor": "white",
           "ticks": "",
           "title": {
            "standoff": 15
           },
           "zerolinecolor": "white",
           "zerolinewidth": 2
          },
          "yaxis": {
           "automargin": true,
           "gridcolor": "white",
           "linecolor": "white",
           "ticks": "",
           "title": {
            "standoff": 15
           },
           "zerolinecolor": "white",
           "zerolinewidth": 2
          }
         }
        },
        "xaxis": {
         "anchor": "y",
         "autorange": true,
         "domain": [
          0,
          1
         ],
         "range": [
          -10.582027052678145,
          8.163557623662031
         ],
         "title": {
          "text": "x"
         },
         "type": "linear"
        },
        "yaxis": {
         "anchor": "x",
         "autorange": true,
         "domain": [
          0,
          1
         ],
         "range": [
          2.2928351431700844,
          16.955185267367636
         ],
         "title": {
          "text": "y"
         },
         "type": "linear"
        }
       }
      },
      "image/png": "[encoded data removed]",
      "text/html": [
       "<div>                            <div id=\"b4505b09-0b10-469a-ae68-c785ac84bc93\" class=\"plotly-graph-div\" style=\"height:525px; width:100%;\"></div>            <script type=\"text/javascript\">                require([\"plotly\"], function(Plotly) {                    window.PLOTLYENV=window.PLOTLYENV || {};                                    if (document.getElementById(\"b4505b09-0b10-469a-ae68-c785ac84bc93\")) {                    Plotly.newPlot(                        \"b4505b09-0b10-469a-ae68-c785ac84bc93\",                        [{\"hovertemplate\": \"<b>%{hovertext}</b><br><br>group=0<br>x=%{x}<br>y=%{y}<extra></extra>\", \"hovertext\": [\"ADNPolitico\", \"ActualidadRT\", \"Adela_Micha\", \"AnaPOrdorica\", \"AristeguiOnline\", \"AztecaNoticias\", \"Canal22\", \"CanalOnceTV\", \"CarlosLoret\", \"CiroGomezL\", \"DeniseDresserG\", \"E_Q_\", \"carlosramirezh\"], \"legendgroup\": \"0\", \"marker\": {\"color\": \"#636efa\", \"symbol\": \"circle\"}, \"mode\": \"markers\", \"name\": \"0\", \"orientation\": \"v\", \"showlegend\": true, \"type\": \"scatter\", \"x\": [-9.1109619140625, -9.255587577819824, -9.26977825164795, -9.017142295837402, -9.564866065979004, -9.137918472290039, -9.171588897705078, -9.416956901550293, -9.236332893371582, -9.115782737731934, -9.346444129943848, 3.944896936416626, 3.7998275756835938], \"xaxis\": \"x\", \"y\": [3.203319787979126, 3.2405245304107666, 3.9309136867523193, 3.6297719478607178, 3.4492738246917725, 3.315478801727295, 3.6175241470336914, 3.715775966644287, 3.4253692626953125, 3.3609845638275146, 3.5444343090057373, 10.965420722961426, 11.361823081970215], \"yaxis\": \"y\"}, {\"hovertemplate\": \"<b>%{hovertext}</b><br><br>group=3<br>x=%{x}<br>y=%{y}<extra></extra>\", \"hovertext\": [\"Amsalazar\", \"DiegoEOsorno\", \"Imagen_Mx\", \"LeonKrauze\", \"Pizu\", \"ahope71\", \"jorgeramosnews\", \"jshm00\", \"macariomx\", \"nacholozano\", \"rivapa\"], \"legendgroup\": \"3\", \"marker\": {\"color\": \"#EF553B\", \"symbol\": \"circle\"}, \"mode\": \"markers\", \"name\": \"3\", \"orientation\": \"v\", \"showlegend\": true, \"type\": \"scatter\", \"x\": [-9.445282936096191, 5.817445755004883, 4.165358543395996, 4.15612268447876, 5.5197296142578125, 4.324167251586914, 4.250073432922363, 3.968315839767456, 4.90744686126709, 5.916589260101318, 4.413980007171631], \"xaxis\": \"x\", \"y\": [3.8558831214904785, 10.544976234436035, 10.415279388427734, 10.141448974609375, 10.40504264831543, 10.300711631774902, 10.595052719116211, 9.973367691040039, 10.415696144104004, 10.636571884155273, 10.39306354522705], \"yaxis\": \"y\"}, {\"hovertemplate\": \"<b>%{hovertext}</b><br><br>group=1<br>x=%{x}<br>y=%{y}<extra></extra>\", \"hovertext\": [\"DeniseMaerker\", \"EfektoNoticias\", \"EjeCentral\", \"ElFinanciero_Mx\", \"El_Universal_Mx\", \"EnfoqueNoticias\", \"Excelsior\", \"ExpansionMx\", \"FedericoArreola\", \"Foro_TV\", \"JohnMAckerman\", \"JoseCardenas1\", \"LaRazon_mx\", \"LeonardoCurzio\", \"LuisCardenasMx\", \"Milenio\", \"NTelevisa_com\", \"Notimex\", \"Pajaropolitico\", \"PublimetroMX\", \"Radio_Formula\", \"Reforma\", \"Reporte_Indigo\", \"SinEmbargoMX\", \"UnoNoticias\", \"WRADIOMexico\", \"Yoinfluyo\", \"alvaro_delgado\", \"diario24horas\", \"el_pais\", \"eleconomista\", \"elsolde_mexico\", \"informador\", \"karlaiberia\", \"lacronicadehoy\", \"lajornadaonline\", \"lasillarota\", \"lopezdoriga\", \"mileniotv\", \"nexosmexico\", \"puigcarlos\", \"revistaproceso\", \"sacroprofano\", \"sdpnoticias\"], \"legendgroup\": \"1\", \"marker\": {\"color\": \"#00cc96\", \"symbol\": \"circle\"}, \"mode\": \"markers\", \"name\": \"1\", \"orientation\": \"v\", \"showlegend\": true, \"type\": \"scatter\", \"x\": [2.9121503829956055, 3.0382161140441895, 3.2915830612182617, 3.0341267585754395, 3.427542209625244, 3.110194444656372, 2.9984445571899414, 3.343615770339966, 3.432319164276123, 3.5935001373291016, 4.457845211029053, 4.115241527557373, 2.811166524887085, 2.998931646347046, 3.0903851985931396, 3.374831199645996, 3.972121238708496, 2.9819624423980713, 3.8771889209747314, 3.2971110343933105, 2.603482246398926, 3.207651376724243, 3.894925594329834, 3.5096545219421387, 2.843503952026367, 3.7344980239868164, 3.2115533351898193, 4.669407367706299, 2.664841890335083, 2.7058889865875244, 3.635674476623535, 3.112199306488037, 3.6333580017089844, 3.820296287536621, 3.0620620250701904, 2.942269802093506, 2.8715033531188965, 2.926532745361328, 3.3050906658172607, 3.5765092372894287, 3.8017711639404297, 3.126413106918335, 3.961533784866333, 3.451792001724243], \"xaxis\": \"x\", \"y\": [12.612263679504395, 12.177083969116211, 12.345048904418945, 13.325502395629883, 13.8145751953125, 11.708687782287598, 13.661911964416504, 15.57193660736084, 12.53703784942627, 13.62271785736084, 14.762290000915527, 15.774913787841797, 15.639266014099121, 12.994551658630371, 12.740889549255371, 16.044700622558594, 15.482416152954102, 14.238702774047852, 15.504347801208496, 14.238466262817383, 15.178285598754883, 14.990865707397461, 15.09860897064209, 15.96714973449707, 13.59218692779541, 13.694910049438477, 13.208793640136719, 14.912396430969238, 15.531364440917969, 14.676112174987793, 14.40656566619873, 15.781856536865234, 15.16958999633789, 14.792893409729004, 15.643997192382812, 15.195734024047852, 14.885522842407227, 14.67813777923584, 11.94650936126709, 13.3864107131958, 16.018980026245117, 15.549752235412598, 13.435927391052246, 15.543473243713379], \"yaxis\": \"y\"}, {\"hovertemplate\": \"<b>%{hovertext}</b><br><br>group=2<br>x=%{x}<br>y=%{y}<extra></extra>\", \"hovertext\": [\"ElHuffPost\", \"FernandoDworak\", \"J_Fdz_Menendez\", \"JavierSolorzano\", \"MarioBeteta\", \"NoticiasMVS\", \"PPmerino\", \"PabloHiriart\", \"PaolaRojas\", \"PedroFerriz\", \"RicardoAlemanMx\", \"RoyCampos\", \"SGarciaSoto\", \"SalCamarena\", \"SanjuanaMtz\", \"SergioSarmiento\", \"TapiaFernanda\", \"VILLALVAZO13\", \"YuririaSierra\", \"aguilarcamin\", \"andreslajous\", \"arturoangel20\", \"beltrandelrio\", \"carloselizondom\", \"dmorenochavez\", \"epigmenioibarra\", \"esquivelgerardo\", \"estarc62\", \"genarolozano\", \"hdemauleon\", \"jairocalixto\", \"javieraparicio\", \"jenarovillamil\", \"jrisco\", \"julioastillero\", \"kdartigues\", \"lydiacachosi\", \"mariocampos\", \"maurimm\", \"panchogarfias\", \"politicomx\", \"sergioaguayo\", \"sopitas\", \"warkentin\"], \"legendgroup\": \"2\", \"marker\": {\"color\": \"#ab63fa\", \"symbol\": \"circle\"}, \"mode\": \"markers\", \"name\": \"2\", \"orientation\": \"v\", \"showlegend\": true, \"type\": \"scatter\", \"x\": [4.963764190673828, 6.481849670410156, 3.6914150714874268, 3.8819568157196045, 7.146396636962891, 7.135019302368164, 6.355048656463623, 6.094170093536377, 6.367082118988037, 6.630155086517334, 7.006023406982422, 6.683365821838379, 6.1045613288879395, 6.200829982757568, 5.439347743988037, 6.1328935623168945, 5.564062118530273, 6.11495304107666, 6.4932684898376465, 5.930336952209473, 5.768880844116211, 7.040647029876709, 6.463492393493652, 5.127479553222656, 6.437814235687256, 5.1325602531433105, 5.936305999755859, 6.327178478240967, 5.674384593963623, 6.119496822357178, 4.97469425201416, 5.974178791046143, 5.735055446624756, 4.559122085571289, 6.6500396728515625, 6.20025110244751, 6.627888202667236, 6.428326606750488, 5.347301959991455, 6.845473766326904, 5.531630516052246, 6.309905529022217, 6.70781946182251, 5.97567892074585], \"xaxis\": \"x\", \"y\": [10.915929794311523, 11.585119247436523, 11.885896682739258, 12.244449615478516, 13.310291290283203, 13.567838668823242, 11.080038070678711, 10.948968887329102, 13.21090030670166, 11.675363540649414, 13.588783264160156, 13.77600383758545, 13.805001258850098, 11.5162353515625, 14.506546020507812, 14.239466667175293, 11.067670822143555, 12.747418403625488, 12.498403549194336, 12.950183868408203, 10.945452690124512, 13.250130653381348, 12.829402923583984, 14.685747146606445, 13.575368881225586, 13.42164134979248, 11.166885375976562, 13.989969253540039, 10.880717277526855, 13.261519432067871, 10.630317687988281, 13.791974067687988, 14.217609405517578, 10.575149536132812, 11.786294937133789, 12.849053382873535, 12.64059829711914, 13.3350248336792, 10.910760879516602, 13.769739151000977, 14.670157432556152, 11.358302116394043, 13.165099143981934, 11.688566207885742], \"yaxis\": \"y\"}],                        {\"legend\": {\"title\": {\"text\": \"group\"}, \"tracegroupgap\": 0}, \"margin\": {\"t\": 60}, \"template\": {\"data\": {\"bar\": [{\"error_x\": {\"color\": \"#2a3f5f\"}, \"error_y\": {\"color\": \"#2a3f5f\"}, \"marker\": {\"line\": {\"color\": \"#E5ECF6\", \"width\": 0.5}}, \"type\": \"bar\"}], \"barpolar\": [{\"marker\": {\"line\": {\"color\": \"#E5ECF6\", \"width\": 0.5}}, \"type\": \"barpolar\"}], \"carpet\": [{\"aaxis\": {\"endlinecolor\": \"#2a3f5f\", \"gridcolor\": \"white\", \"linecolor\": \"white\", \"minorgridcolor\": \"white\", \"startlinecolor\": \"#2a3f5f\"}, \"baxis\": {\"endlinecolor\": \"#2a3f5f\", \"gridcolor\": \"white\", \"linecolor\": \"white\", \"minorgridcolor\": \"white\", \"startlinecolor\": \"#2a3f5f\"}, \"type\": \"carpet\"}], \"choropleth\": [{\"colorbar\": {\"outlinewidth\": 0, \"ticks\": \"\"}, \"type\": \"choropleth\"}], \"contour\": [{\"colorbar\": {\"outlinewidth\": 0, \"ticks\": \"\"}, \"colorscale\": [[0.0, \"#0d0887\"], [0.1111111111111111, \"#46039f\"], [0.2222222222222222, \"#7201a8\"], [0.3333333333333333, \"#9c179e\"], [0.4444444444444444, \"#bd3786\"], [0.5555555555555556, \"#d8576b\"], [0.6666666666666666, \"#ed7953\"], [0.7777777777777778, \"#fb9f3a\"], [0.8888888888888888, \"#fdca26\"], [1.0, \"#f0f921\"]], \"type\": \"contour\"}], \"contourcarpet\": [{\"colorbar\": {\"outlinewidth\": 0, \"ticks\": \"\"}, \"type\": \"contourcarpet\"}], \"heatmap\": [{\"colorbar\": {\"outlinewidth\": 0, \"ticks\": \"\"}, \"colorscale\": [[0.0, \"#0d0887\"], [0.1111111111111111, \"#46039f\"], [0.2222222222222222, \"#7201a8\"], [0.3333333333333333, \"#9c179e\"], [0.4444444444444444, \"#bd3786\"], [0.5555555555555556, \"#d8576b\"], [0.6666666666666666, \"#ed7953\"], [0.7777777777777778, \"#fb9f3a\"], [0.8888888888888888, \"#fdca26\"], [1.0, \"#f0f921\"]], \"type\": \"heatmap\"}], \"heatmapgl\": [{\"colorbar\": {\"outlinewidth\": 0, \"ticks\": \"\"}, \"colorscale\": [[0.0, \"#0d0887\"], [0.1111111111111111, \"#46039f\"], [0.2222222222222222, \"#7201a8\"], [0.3333333333333333, \"#9c179e\"], [0.4444444444444444, \"#bd3786\"], [0.5555555555555556, \"#d8576b\"], [0.6666666666666666, \"#ed7953\"], [0.7777777777777778, \"#fb9f3a\"], [0.8888888888888888, \"#fdca26\"], [1.0, \"#f0f921\"]], \"type\": \"heatmapgl\"}], \"histogram\": [{\"marker\": {\"colorbar\": {\"outlinewidth\": 0, \"ticks\": \"\"}}, \"type\": \"histogram\"}], \"histogram2d\": [{\"colorbar\": {\"outlinewidth\": 0, \"ticks\": \"\"}, \"colorscale\": [[0.0, \"#0d0887\"], [0.1111111111111111, \"#46039f\"], [0.2222222222222222, \"#7201a8\"], [0.3333333333333333, \"#9c179e\"], [0.4444444444444444, \"#bd3786\"], [0.5555555555555556, \"#d8576b\"], [0.6666666666666666, \"#ed7953\"], [0.7777777777777778, \"#fb9f3a\"], [0.8888888888888888, \"#fdca26\"], [1.0, \"#f0f921\"]], \"type\": \"histogram2d\"}], \"histogram2dcontour\": [{\"colorbar\": {\"outlinewidth\": 0, \"ticks\": \"\"}, \"colorscale\": [[0.0, \"#0d0887\"], [0.1111111111111111, \"#46039f\"], [0.2222222222222222, \"#7201a8\"], [0.3333333333333333, \"#9c179e\"], [0.4444444444444444, \"#bd3786\"], [0.5555555555555556, \"#d8576b\"], [0.6666666666666666, \"#ed7953\"], [0.7777777777777778, \"#fb9f3a\"], [0.8888888888888888, \"#fdca26\"], [1.0, \"#f0f921\"]], \"type\": \"histogram2dcontour\"}], \"mesh3d\": [{\"colorbar\": {\"outlinewidth\": 0, \"ticks\": \"\"}, \"type\": \"mesh3d\"}], \"parcoords\": [{\"line\": {\"colorbar\": {\"outlinewidth\": 0, \"ticks\": \"\"}}, \"type\": \"parcoords\"}], \"pie\": [{\"automargin\": true, \"type\": \"pie\"}], \"scatter\": [{\"marker\": {\"colorbar\": {\"outlinewidth\": 0, \"ticks\": \"\"}}, \"type\": \"scatter\"}], \"scatter3d\": [{\"line\": {\"colorbar\": {\"outlinewidth\": 0, \"ticks\": \"\"}}, \"marker\": {\"colorbar\": {\"outlinewidth\": 0, \"ticks\": \"\"}}, \"type\": \"scatter3d\"}], \"scattercarpet\": [{\"marker\": {\"colorbar\": {\"outlinewidth\": 0, \"ticks\": \"\"}}, \"type\": \"scattercarpet\"}], \"scattergeo\": [{\"marker\": {\"colorbar\": {\"outlinewidth\": 0, \"ticks\": \"\"}}, \"type\": \"scattergeo\"}], \"scattergl\": [{\"marker\": {\"colorbar\": {\"outlinewidth\": 0, \"ticks\": \"\"}}, \"type\": \"scattergl\"}], \"scattermapbox\": [{\"marker\": {\"colorbar\": {\"outlinewidth\": 0, \"ticks\": \"\"}}, \"type\": \"scattermapbox\"}], \"scatterpolar\": [{\"marker\": {\"colorbar\": {\"outlinewidth\": 0, \"ticks\": \"\"}}, \"type\": \"scatterpolar\"}], \"scatterpolargl\": [{\"marker\": {\"colorbar\": {\"outlinewidth\": 0, \"ticks\": \"\"}}, \"type\": \"scatterpolargl\"}], \"scatterternary\": [{\"marker\": {\"colorbar\": {\"outlinewidth\": 0, \"ticks\": \"\"}}, \"type\": \"scatterternary\"}], \"surface\": [{\"colorbar\": {\"outlinewidth\": 0, \"ticks\": \"\"}, \"colorscale\": [[0.0, \"#0d0887\"], [0.1111111111111111, \"#46039f\"], [0.2222222222222222, \"#7201a8\"], [0.3333333333333333, \"#9c179e\"], [0.4444444444444444, \"#bd3786\"], [0.5555555555555556, \"#d8576b\"], [0.6666666666666666, \"#ed7953\"], [0.7777777777777778, \"#fb9f3a\"], [0.8888888888888888, \"#fdca26\"], [1.0, \"#f0f921\"]], \"type\": \"surface\"}], \"table\": [{\"cells\": {\"fill\": {\"color\": \"#EBF0F8\"}, \"line\": {\"color\": \"white\"}}, \"header\": {\"fill\": {\"color\": \"#C8D4E3\"}, \"line\": {\"color\": \"white\"}}, \"type\": \"table\"}]}, \"layout\": {\"annotationdefaults\": {\"arrowcolor\": \"#2a3f5f\", \"arrowhead\": 0, \"arrowwidth\": 1}, \"coloraxis\": {\"colorbar\": {\"outlinewidth\": 0, \"ticks\": \"\"}}, \"colorscale\": {\"diverging\": [[0, \"#8e0152\"], [0.1, \"#c51b7d\"], [0.2, \"#de77ae\"], [0.3, \"#f1b6da\"], [0.4, \"#fde0ef\"], [0.5, \"#f7f7f7\"], [0.6, \"#e6f5d0\"], [0.7, \"#b8e186\"], [0.8, \"#7fbc41\"], [0.9, \"#4d9221\"], [1, \"#276419\"]], \"sequential\": [[0.0, \"#0d0887\"], [0.1111111111111111, \"#46039f\"], [0.2222222222222222, \"#7201a8\"], [0.3333333333333333, \"#9c179e\"], [0.4444444444444444, \"#bd3786\"], [0.5555555555555556, \"#d8576b\"], [0.6666666666666666, \"#ed7953\"], [0.7777777777777778, \"#fb9f3a\"], [0.8888888888888888, \"#fdca26\"], [1.0, \"#f0f921\"]], \"sequentialminus\": [[0.0, \"#0d0887\"], [0.1111111111111111, \"#46039f\"], [0.2222222222222222, \"#7201a8\"], [0.3333333333333333, \"#9c179e\"], [0.4444444444444444, \"#bd3786\"], [0.5555555555555556, \"#d8576b\"], [0.6666666666666666, \"#ed7953\"], [0.7777777777777778, \"#fb9f3a\"], [0.8888888888888888, \"#fdca26\"], [1.0, \"#f0f921\"]]}, \"colorway\": [\"#636efa\", \"#EF553B\", \"#00cc96\", \"#ab63fa\", \"#FFA15A\", \"#19d3f3\", \"#FF6692\", \"#B6E880\", \"#FF97FF\", \"#FECB52\"], \"font\": {\"color\": \"#2a3f5f\"}, \"geo\": {\"bgcolor\": \"white\", \"lakecolor\": \"white\", \"landcolor\": \"#E5ECF6\", \"showlakes\": true, \"showland\": true, \"subunitcolor\": \"white\"}, \"hoverlabel\": {\"align\": \"left\"}, \"hovermode\": \"closest\", \"mapbox\": {\"style\": \"light\"}, \"paper_bgcolor\": \"white\", \"plot_bgcolor\": \"#E5ECF6\", \"polar\": {\"angularaxis\": {\"gridcolor\": \"white\", \"linecolor\": \"white\", \"ticks\": \"\"}, \"bgcolor\": \"#E5ECF6\", \"radialaxis\": {\"gridcolor\": \"white\", \"linecolor\": \"white\", \"ticks\": \"\"}}, \"scene\": {\"xaxis\": {\"backgroundcolor\": \"#E5ECF6\", \"gridcolor\": \"white\", \"gridwidth\": 2, \"linecolor\": \"white\", \"showbackground\": true, \"ticks\": \"\", \"zerolinecolor\": \"white\"}, \"yaxis\": {\"backgroundcolor\": \"#E5ECF6\", \"gridcolor\": \"white\", \"gridwidth\": 2, \"linecolor\": \"white\", \"showbackground\": true, \"ticks\": \"\", \"zerolinecolor\": \"white\"}, \"zaxis\": {\"backgroundcolor\": \"#E5ECF6\", \"gridcolor\": \"white\", \"gridwidth\": 2, \"linecolor\": \"white\", \"showbackground\": true, \"ticks\": \"\", \"zerolinecolor\": \"white\"}}, \"shapedefaults\": {\"line\": {\"color\": \"#2a3f5f\"}}, \"ternary\": {\"aaxis\": {\"gridcolor\": \"white\", \"linecolor\": \"white\", \"ticks\": \"\"}, \"baxis\": {\"gridcolor\": \"white\", \"linecolor\": \"white\", \"ticks\": \"\"}, \"bgcolor\": \"#E5ECF6\", \"caxis\": {\"gridcolor\": \"white\", \"linecolor\": \"white\", \"ticks\": \"\"}}, \"title\": {\"x\": 0.05}, \"xaxis\": {\"automargin\": true, \"gridcolor\": \"white\", \"linecolor\": \"white\", \"ticks\": \"\", \"title\": {\"standoff\": 15}, \"zerolinecolor\": \"white\", \"zerolinewidth\": 2}, \"yaxis\": {\"automargin\": true, \"gridcolor\": \"white\", \"linecolor\": \"white\", \"ticks\": \"\", \"title\": {\"standoff\": 15}, \"zerolinecolor\": \"white\", \"zerolinewidth\": 2}}}, \"xaxis\": {\"anchor\": \"y\", \"domain\": [0.0, 1.0], \"title\": {\"text\": \"x\"}}, \"yaxis\": {\"anchor\": \"x\", \"domain\": [0.0, 1.0], \"title\": {\"text\": \"y\"}}},                        {\"responsive\": true}                    ).then(function(){\n",
       "                            \n",
       "var gd = document.getElementById('b4505b09-0b10-469a-ae68-c785ac84bc93');\n",
       "var x = new MutationObserver(function (mutations, observer) {{\n",
       "        var display = window.getComputedStyle(gd).display;\n",
       "        if (!display || display === 'none') {{\n",
       "            console.log([gd, 'removed!']);\n",
       "            Plotly.purge(gd);\n",
       "            observer.disconnect();\n",
       "        }}\n",
       "}});\n",
       "\n",
       "// Listen for the removal of the full notebook cells\n",
       "var notebookContainer = gd.closest('#notebook-container');\n",
       "if (notebookContainer) {{\n",
       "    x.observe(notebookContainer, {childList: true});\n",
       "}}\n",
       "\n",
       "// Listen for the clearing of the current output cell\n",
       "var outputEl = gd.closest('.output');\n",
       "if (outputEl) {{\n",
       "    x.observe(outputEl, {childList: true});\n",
       "}}\n",
       "\n",
       "                        })                };                });            </script>        </div>"
      ]
     },
     "metadata": {},
     "output_type": "display_data"
    }
   ],
   "source": [
    "embedding = umap.UMAP(random_state=308605378).fit_transform(aut_queries_df)\n",
    "\n",
    "x_umap = embedding[:,0]\n",
    "y_umap = embedding[:,1]\n",
    "\n",
    "df_umap = pd.DataFrame({\n",
    "    \"x\": x_umap, \n",
    "    \"y\": y_umap, \n",
    "    \"group\": [str(values) for values in labels], \n",
    "    \"author_name\":author_names\n",
    "})\n",
    "\n",
    "fig = (\n",
    "    px\n",
    "    .scatter(df_umap, x='x', y='y', color='group',  hover_name=\"author_name\")\n",
    ")\n",
    "fig.show()"
   ]
  },
  {
   "cell_type": "code",
   "execution_count": 27,
   "metadata": {},
   "outputs": [],
   "source": [
    "df_umap.to_csv(\"../graphics/data/df_umap.csv\")"
   ]
  },
  {
   "cell_type": "markdown",
   "metadata": {},
   "source": [
    "### UMAP supervised"
   ]
  },
  {
   "cell_type": "code",
   "execution_count": 28,
   "metadata": {},
   "outputs": [
    {
     "data": {
      "application/vnd.plotly.v1+json": {
       "config": {
        "plotlyServerURL": "https://plot.ly"
       },
       "data": [
        {
         "hovertemplate": "<b>%{hovertext}</b><br><br>group=0<br>x=%{x}<br>y=%{y}<extra></extra>",
         "hovertext": [
          "ADNPolitico",
          "ActualidadRT",
          "Adela_Micha",
          "AnaPOrdorica",
          "AristeguiOnline",
          "AztecaNoticias",
          "Canal22",
          "CanalOnceTV",
          "CarlosLoret",
          "CiroGomezL",
          "DeniseDresserG",
          "E_Q_",
          "carlosramirezh"
         ],
         "legendgroup": "0",
         "marker": {
          "color": "#636efa",
          "symbol": "circle"
         },
         "mode": "markers",
         "name": "0",
         "orientation": "v",
         "showlegend": true,
         "type": "scatter",
         "x": [
          2.7913997173309326,
          3.2110562324523926,
          3.0688600540161133,
          3.2598180770874023,
          2.701399803161621,
          3.1062393188476562,
          3.231741189956665,
          3.269500970840454,
          3.022502899169922,
          3.133192539215088,
          2.8589954376220703,
          3.013875722885132,
          3.0034232139587402
         ],
         "xaxis": "x",
         "y": [
          -16.640573501586914,
          -16.571033477783203,
          -16.160478591918945,
          -16.583141326904297,
          -16.195926666259766,
          -16.712970733642578,
          -16.289813995361328,
          -16.308082580566406,
          -16.50084114074707,
          -16.502771377563477,
          -16.35210609436035,
          -14.313127517700195,
          -14.372825622558594
         ],
         "yaxis": "y"
        },
        {
         "hovertemplate": "<b>%{hovertext}</b><br><br>group=3<br>x=%{x}<br>y=%{y}<extra></extra>",
         "hovertext": [
          "Amsalazar",
          "DiegoEOsorno",
          "Imagen_Mx",
          "LeonKrauze",
          "Pizu",
          "ahope71",
          "jorgeramosnews",
          "jshm00",
          "macariomx",
          "nacholozano",
          "rivapa"
         ],
         "legendgroup": "3",
         "marker": {
          "color": "#EF553B",
          "symbol": "circle"
         },
         "mode": "markers",
         "name": "3",
         "orientation": "v",
         "showlegend": true,
         "type": "scatter",
         "x": [
          13.428175926208496,
          14.121976852416992,
          13.349715232849121,
          13.468932151794434,
          13.912909507751465,
          13.754602432250977,
          13.77623462677002,
          13.426837921142578,
          13.58300495147705,
          14.024850845336914,
          13.760270118713379
         ],
         "xaxis": "x",
         "y": [
          1.7531259059906006,
          1.265537142753601,
          1.1698753833770752,
          1.144619107246399,
          1.3313719034194946,
          1.040122389793396,
          1.204603910446167,
          1.3922805786132812,
          1.3659999370574951,
          1.2804734706878662,
          1.1531413793563843
         ],
         "yaxis": "y"
        },
        {
         "hovertemplate": "<b>%{hovertext}</b><br><br>group=1<br>x=%{x}<br>y=%{y}<extra></extra>",
         "hovertext": [
          "DeniseMaerker",
          "EfektoNoticias",
          "EjeCentral",
          "ElFinanciero_Mx",
          "El_Universal_Mx",
          "EnfoqueNoticias",
          "Excelsior",
          "ExpansionMx",
          "FedericoArreola",
          "Foro_TV",
          "JohnMAckerman",
          "JoseCardenas1",
          "LaRazon_mx",
          "LeonardoCurzio",
          "LuisCardenasMx",
          "Milenio",
          "NTelevisa_com",
          "Notimex",
          "Pajaropolitico",
          "PublimetroMX",
          "Radio_Formula",
          "Reforma",
          "Reporte_Indigo",
          "SinEmbargoMX",
          "UnoNoticias",
          "WRADIOMexico",
          "Yoinfluyo",
          "alvaro_delgado",
          "diario24horas",
          "el_pais",
          "eleconomista",
          "elsolde_mexico",
          "informador",
          "karlaiberia",
          "lacronicadehoy",
          "lajornadaonline",
          "lasillarota",
          "lopezdoriga",
          "mileniotv",
          "nexosmexico",
          "puigcarlos",
          "revistaproceso",
          "sacroprofano",
          "sdpnoticias"
         ],
         "legendgroup": "1",
         "marker": {
          "color": "#00cc96",
          "symbol": "circle"
         },
         "mode": "markers",
         "name": "1",
         "orientation": "v",
         "showlegend": true,
         "type": "scatter",
         "x": [
          15.890899658203125,
          16.2797794342041,
          16.49912452697754,
          15.8485689163208,
          16.187374114990234,
          16.438390731811523,
          16.06959342956543,
          14.572792053222656,
          16.41230583190918,
          16.076248168945312,
          15.659320831298828,
          14.907227516174316,
          14.400376319885254,
          16.112749099731445,
          16.277353286743164,
          14.657149314880371,
          15.303569793701172,
          15.712750434875488,
          15.198070526123047,
          15.795865058898926,
          15.152634620666504,
          15.396154403686523,
          15.528265953063965,
          14.812835693359375,
          15.539117813110352,
          16.33279037475586,
          16.3000545501709,
          15.561964988708496,
          14.645835876464844,
          15.305632591247559,
          16.018320083618164,
          14.79292106628418,
          15.355762481689453,
          15.757465362548828,
          14.846818923950195,
          15.117952346801758,
          15.009448051452637,
          15.534070014953613,
          16.239559173583984,
          16.42003059387207,
          14.990728378295898,
          14.998995780944824,
          16.466053009033203,
          15.093819618225098
         ],
         "xaxis": "x",
         "y": [
          9.786520004272461,
          9.643525123596191,
          9.729870796203613,
          10.336777687072754,
          10.884598731994629,
          9.472990989685059,
          10.506142616271973,
          12.03343391418457,
          9.96767807006836,
          11.032537460327148,
          12.311361312866211,
          12.412692070007324,
          11.778437614440918,
          10.131739616394043,
          10.005388259887695,
          11.965715408325195,
          12.40143871307373,
          10.97902774810791,
          12.302352905273438,
          11.292862892150879,
          10.93320369720459,
          11.493461608886719,
          12.004148483276367,
          11.997408866882324,
          10.550505638122559,
          11.084641456604004,
          10.385821342468262,
          12.298858642578125,
          11.36982536315918,
          11.131377220153809,
          11.602584838867188,
          11.63998794555664,
          11.741750717163086,
          11.945590019226074,
          11.536154747009277,
          11.46677303314209,
          11.110772132873535,
          11.3101167678833,
          9.544880867004395,
          10.728436470031738,
          12.150435447692871,
          11.789210319519043,
          10.885156631469727,
          11.824376106262207
         ],
         "yaxis": "y"
        },
        {
         "hovertemplate": "<b>%{hovertext}</b><br><br>group=2<br>x=%{x}<br>y=%{y}<extra></extra>",
         "hovertext": [
          "ElHuffPost",
          "FernandoDworak",
          "J_Fdz_Menendez",
          "JavierSolorzano",
          "MarioBeteta",
          "NoticiasMVS",
          "PPmerino",
          "PabloHiriart",
          "PaolaRojas",
          "PedroFerriz",
          "RicardoAlemanMx",
          "RoyCampos",
          "SGarciaSoto",
          "SalCamarena",
          "SanjuanaMtz",
          "SergioSarmiento",
          "TapiaFernanda",
          "VILLALVAZO13",
          "YuririaSierra",
          "aguilarcamin",
          "andreslajous",
          "arturoangel20",
          "beltrandelrio",
          "carloselizondom",
          "dmorenochavez",
          "epigmenioibarra",
          "esquivelgerardo",
          "estarc62",
          "genarolozano",
          "hdemauleon",
          "jairocalixto",
          "javieraparicio",
          "jenarovillamil",
          "jrisco",
          "julioastillero",
          "kdartigues",
          "lydiacachosi",
          "mariocampos",
          "maurimm",
          "panchogarfias",
          "politicomx",
          "sergioaguayo",
          "sopitas",
          "warkentin"
         ],
         "legendgroup": "2",
         "marker": {
          "color": "#ab63fa",
          "symbol": "circle"
         },
         "mode": "markers",
         "name": "2",
         "orientation": "v",
         "showlegend": true,
         "type": "scatter",
         "x": [
          -2.9390268325805664,
          -3.347825527191162,
          -3.4537746906280518,
          -3.628950834274292,
          -3.4575536251068115,
          -3.6830787658691406,
          -2.7325282096862793,
          -2.7988550662994385,
          -2.752338409423828,
          -3.040130615234375,
          -3.4651827812194824,
          -3.622504949569702,
          -3.2313523292541504,
          -3.276153326034546,
          -3.4542977809906006,
          -3.3783271312713623,
          -2.8325259685516357,
          -2.647158622741699,
          -2.5477747917175293,
          -2.9721696376800537,
          -2.5583436489105225,
          -3.7891123294830322,
          -2.490095615386963,
          -3.125821828842163,
          -2.832221269607544,
          -3.130155563354492,
          -2.6080117225646973,
          -3.3462538719177246,
          -2.723344087600708,
          -2.8523194789886475,
          -3.0244150161743164,
          -3.0076816082000732,
          -3.264594078063965,
          -3.1452832221984863,
          -3.1610100269317627,
          -3.0586094856262207,
          -2.812185287475586,
          -2.5701334476470947,
          -3.055511236190796,
          -3.6055939197540283,
          -3.398258686065674,
          -3.0860726833343506,
          -2.966771364212036,
          -2.5420966148376465
         ],
         "xaxis": "x",
         "y": [
          7.07021951675415,
          8.329773902893066,
          7.0163960456848145,
          7.2135090827941895,
          9.220701217651367,
          9.42818832397461,
          8.289403915405273,
          7.818353176116943,
          9.774975776672363,
          8.439403533935547,
          9.337743759155273,
          9.315567970275879,
          10.19582462310791,
          7.983881950378418,
          10.45274543762207,
          9.98733139038086,
          7.522596836090088,
          9.351094245910645,
          8.922135353088379,
          9.018917083740234,
          7.587102890014648,
          9.094730377197266,
          9.313469886779785,
          10.483502388000488,
          10.0122652053833,
          8.970888137817383,
          7.87880802154541,
          9.928921699523926,
          7.434762001037598,
          9.853296279907227,
          7.168790340423584,
          10.241411209106445,
          10.004626274108887,
          6.997982978820801,
          8.521383285522461,
          9.268627166748047,
          9.234102249145508,
          9.599453926086426,
          7.402172565460205,
          9.783916473388672,
          10.255900382995605,
          7.975881576538086,
          9.44450569152832,
          8.48927116394043
         ],
         "yaxis": "y"
        }
       ],
       "layout": {
        "autosize": true,
        "legend": {
         "title": {
          "text": "group"
         },
         "tracegroupgap": 0
        },
        "margin": {
         "t": 60
        },
        "template": {
         "data": {
          "bar": [
           {
            "error_x": {
             "color": "#2a3f5f"
            },
            "error_y": {
             "color": "#2a3f5f"
            },
            "marker": {
             "line": {
              "color": "#E5ECF6",
              "width": 0.5
             }
            },
            "type": "bar"
           }
          ],
          "barpolar": [
           {
            "marker": {
             "line": {
              "color": "#E5ECF6",
              "width": 0.5
             }
            },
            "type": "barpolar"
           }
          ],
          "carpet": [
           {
            "aaxis": {
             "endlinecolor": "#2a3f5f",
             "gridcolor": "white",
             "linecolor": "white",
             "minorgridcolor": "white",
             "startlinecolor": "#2a3f5f"
            },
            "baxis": {
             "endlinecolor": "#2a3f5f",
             "gridcolor": "white",
             "linecolor": "white",
             "minorgridcolor": "white",
             "startlinecolor": "#2a3f5f"
            },
            "type": "carpet"
           }
          ],
          "choropleth": [
           {
            "colorbar": {
             "outlinewidth": 0,
             "ticks": ""
            },
            "type": "choropleth"
           }
          ],
          "contour": [
           {
            "colorbar": {
             "outlinewidth": 0,
             "ticks": ""
            },
            "colorscale": [
             [
              0,
              "#0d0887"
             ],
             [
              0.1111111111111111,
              "#46039f"
             ],
             [
              0.2222222222222222,
              "#7201a8"
             ],
             [
              0.3333333333333333,
              "#9c179e"
             ],
             [
              0.4444444444444444,
              "#bd3786"
             ],
             [
              0.5555555555555556,
              "#d8576b"
             ],
             [
              0.6666666666666666,
              "#ed7953"
             ],
             [
              0.7777777777777778,
              "#fb9f3a"
             ],
             [
              0.8888888888888888,
              "#fdca26"
             ],
             [
              1,
              "#f0f921"
             ]
            ],
            "type": "contour"
           }
          ],
          "contourcarpet": [
           {
            "colorbar": {
             "outlinewidth": 0,
             "ticks": ""
            },
            "type": "contourcarpet"
           }
          ],
          "heatmap": [
           {
            "colorbar": {
             "outlinewidth": 0,
             "ticks": ""
            },
            "colorscale": [
             [
              0,
              "#0d0887"
             ],
             [
              0.1111111111111111,
              "#46039f"
             ],
             [
              0.2222222222222222,
              "#7201a8"
             ],
             [
              0.3333333333333333,
              "#9c179e"
             ],
             [
              0.4444444444444444,
              "#bd3786"
             ],
             [
              0.5555555555555556,
              "#d8576b"
             ],
             [
              0.6666666666666666,
              "#ed7953"
             ],
             [
              0.7777777777777778,
              "#fb9f3a"
             ],
             [
              0.8888888888888888,
              "#fdca26"
             ],
             [
              1,
              "#f0f921"
             ]
            ],
            "type": "heatmap"
           }
          ],
          "heatmapgl": [
           {
            "colorbar": {
             "outlinewidth": 0,
             "ticks": ""
            },
            "colorscale": [
             [
              0,
              "#0d0887"
             ],
             [
              0.1111111111111111,
              "#46039f"
             ],
             [
              0.2222222222222222,
              "#7201a8"
             ],
             [
              0.3333333333333333,
              "#9c179e"
             ],
             [
              0.4444444444444444,
              "#bd3786"
             ],
             [
              0.5555555555555556,
              "#d8576b"
             ],
             [
              0.6666666666666666,
              "#ed7953"
             ],
             [
              0.7777777777777778,
              "#fb9f3a"
             ],
             [
              0.8888888888888888,
              "#fdca26"
             ],
             [
              1,
              "#f0f921"
             ]
            ],
            "type": "heatmapgl"
           }
          ],
          "histogram": [
           {
            "marker": {
             "colorbar": {
              "outlinewidth": 0,
              "ticks": ""
             }
            },
            "type": "histogram"
           }
          ],
          "histogram2d": [
           {
            "colorbar": {
             "outlinewidth": 0,
             "ticks": ""
            },
            "colorscale": [
             [
              0,
              "#0d0887"
             ],
             [
              0.1111111111111111,
              "#46039f"
             ],
             [
              0.2222222222222222,
              "#7201a8"
             ],
             [
              0.3333333333333333,
              "#9c179e"
             ],
             [
              0.4444444444444444,
              "#bd3786"
             ],
             [
              0.5555555555555556,
              "#d8576b"
             ],
             [
              0.6666666666666666,
              "#ed7953"
             ],
             [
              0.7777777777777778,
              "#fb9f3a"
             ],
             [
              0.8888888888888888,
              "#fdca26"
             ],
             [
              1,
              "#f0f921"
             ]
            ],
            "type": "histogram2d"
           }
          ],
          "histogram2dcontour": [
           {
            "colorbar": {
             "outlinewidth": 0,
             "ticks": ""
            },
            "colorscale": [
             [
              0,
              "#0d0887"
             ],
             [
              0.1111111111111111,
              "#46039f"
             ],
             [
              0.2222222222222222,
              "#7201a8"
             ],
             [
              0.3333333333333333,
              "#9c179e"
             ],
             [
              0.4444444444444444,
              "#bd3786"
             ],
             [
              0.5555555555555556,
              "#d8576b"
             ],
             [
              0.6666666666666666,
              "#ed7953"
             ],
             [
              0.7777777777777778,
              "#fb9f3a"
             ],
             [
              0.8888888888888888,
              "#fdca26"
             ],
             [
              1,
              "#f0f921"
             ]
            ],
            "type": "histogram2dcontour"
           }
          ],
          "mesh3d": [
           {
            "colorbar": {
             "outlinewidth": 0,
             "ticks": ""
            },
            "type": "mesh3d"
           }
          ],
          "parcoords": [
           {
            "line": {
             "colorbar": {
              "outlinewidth": 0,
              "ticks": ""
             }
            },
            "type": "parcoords"
           }
          ],
          "pie": [
           {
            "automargin": true,
            "type": "pie"
           }
          ],
          "scatter": [
           {
            "marker": {
             "colorbar": {
              "outlinewidth": 0,
              "ticks": ""
             }
            },
            "type": "scatter"
           }
          ],
          "scatter3d": [
           {
            "line": {
             "colorbar": {
              "outlinewidth": 0,
              "ticks": ""
             }
            },
            "marker": {
             "colorbar": {
              "outlinewidth": 0,
              "ticks": ""
             }
            },
            "type": "scatter3d"
           }
          ],
          "scattercarpet": [
           {
            "marker": {
             "colorbar": {
              "outlinewidth": 0,
              "ticks": ""
             }
            },
            "type": "scattercarpet"
           }
          ],
          "scattergeo": [
           {
            "marker": {
             "colorbar": {
              "outlinewidth": 0,
              "ticks": ""
             }
            },
            "type": "scattergeo"
           }
          ],
          "scattergl": [
           {
            "marker": {
             "colorbar": {
              "outlinewidth": 0,
              "ticks": ""
             }
            },
            "type": "scattergl"
           }
          ],
          "scattermapbox": [
           {
            "marker": {
             "colorbar": {
              "outlinewidth": 0,
              "ticks": ""
             }
            },
            "type": "scattermapbox"
           }
          ],
          "scatterpolar": [
           {
            "marker": {
             "colorbar": {
              "outlinewidth": 0,
              "ticks": ""
             }
            },
            "type": "scatterpolar"
           }
          ],
          "scatterpolargl": [
           {
            "marker": {
             "colorbar": {
              "outlinewidth": 0,
              "ticks": ""
             }
            },
            "type": "scatterpolargl"
           }
          ],
          "scatterternary": [
           {
            "marker": {
             "colorbar": {
              "outlinewidth": 0,
              "ticks": ""
             }
            },
            "type": "scatterternary"
           }
          ],
          "surface": [
           {
            "colorbar": {
             "outlinewidth": 0,
             "ticks": ""
            },
            "colorscale": [
             [
              0,
              "#0d0887"
             ],
             [
              0.1111111111111111,
              "#46039f"
             ],
             [
              0.2222222222222222,
              "#7201a8"
             ],
             [
              0.3333333333333333,
              "#9c179e"
             ],
             [
              0.4444444444444444,
              "#bd3786"
             ],
             [
              0.5555555555555556,
              "#d8576b"
             ],
             [
              0.6666666666666666,
              "#ed7953"
             ],
             [
              0.7777777777777778,
              "#fb9f3a"
             ],
             [
              0.8888888888888888,
              "#fdca26"
             ],
             [
              1,
              "#f0f921"
             ]
            ],
            "type": "surface"
           }
          ],
          "table": [
           {
            "cells": {
             "fill": {
              "color": "#EBF0F8"
             },
             "line": {
              "color": "white"
             }
            },
            "header": {
             "fill": {
              "color": "#C8D4E3"
             },
             "line": {
              "color": "white"
             }
            },
            "type": "table"
           }
          ]
         },
         "layout": {
          "annotationdefaults": {
           "arrowcolor": "#2a3f5f",
           "arrowhead": 0,
           "arrowwidth": 1
          },
          "coloraxis": {
           "colorbar": {
            "outlinewidth": 0,
            "ticks": ""
           }
          },
          "colorscale": {
           "diverging": [
            [
             0,
             "#8e0152"
            ],
            [
             0.1,
             "#c51b7d"
            ],
            [
             0.2,
             "#de77ae"
            ],
            [
             0.3,
             "#f1b6da"
            ],
            [
             0.4,
             "#fde0ef"
            ],
            [
             0.5,
             "#f7f7f7"
            ],
            [
             0.6,
             "#e6f5d0"
            ],
            [
             0.7,
             "#b8e186"
            ],
            [
             0.8,
             "#7fbc41"
            ],
            [
             0.9,
             "#4d9221"
            ],
            [
             1,
             "#276419"
            ]
           ],
           "sequential": [
            [
             0,
             "#0d0887"
            ],
            [
             0.1111111111111111,
             "#46039f"
            ],
            [
             0.2222222222222222,
             "#7201a8"
            ],
            [
             0.3333333333333333,
             "#9c179e"
            ],
            [
             0.4444444444444444,
             "#bd3786"
            ],
            [
             0.5555555555555556,
             "#d8576b"
            ],
            [
             0.6666666666666666,
             "#ed7953"
            ],
            [
             0.7777777777777778,
             "#fb9f3a"
            ],
            [
             0.8888888888888888,
             "#fdca26"
            ],
            [
             1,
             "#f0f921"
            ]
           ],
           "sequentialminus": [
            [
             0,
             "#0d0887"
            ],
            [
             0.1111111111111111,
             "#46039f"
            ],
            [
             0.2222222222222222,
             "#7201a8"
            ],
            [
             0.3333333333333333,
             "#9c179e"
            ],
            [
             0.4444444444444444,
             "#bd3786"
            ],
            [
             0.5555555555555556,
             "#d8576b"
            ],
            [
             0.6666666666666666,
             "#ed7953"
            ],
            [
             0.7777777777777778,
             "#fb9f3a"
            ],
            [
             0.8888888888888888,
             "#fdca26"
            ],
            [
             1,
             "#f0f921"
            ]
           ]
          },
          "colorway": [
           "#636efa",
           "#EF553B",
           "#00cc96",
           "#ab63fa",
           "#FFA15A",
           "#19d3f3",
           "#FF6692",
           "#B6E880",
           "#FF97FF",
           "#FECB52"
          ],
          "font": {
           "color": "#2a3f5f"
          },
          "geo": {
           "bgcolor": "white",
           "lakecolor": "white",
           "landcolor": "#E5ECF6",
           "showlakes": true,
           "showland": true,
           "subunitcolor": "white"
          },
          "hoverlabel": {
           "align": "left"
          },
          "hovermode": "closest",
          "mapbox": {
           "style": "light"
          },
          "paper_bgcolor": "white",
          "plot_bgcolor": "#E5ECF6",
          "polar": {
           "angularaxis": {
            "gridcolor": "white",
            "linecolor": "white",
            "ticks": ""
           },
           "bgcolor": "#E5ECF6",
           "radialaxis": {
            "gridcolor": "white",
            "linecolor": "white",
            "ticks": ""
           }
          },
          "scene": {
           "xaxis": {
            "backgroundcolor": "#E5ECF6",
            "gridcolor": "white",
            "gridwidth": 2,
            "linecolor": "white",
            "showbackground": true,
            "ticks": "",
            "zerolinecolor": "white"
           },
           "yaxis": {
            "backgroundcolor": "#E5ECF6",
            "gridcolor": "white",
            "gridwidth": 2,
            "linecolor": "white",
            "showbackground": true,
            "ticks": "",
            "zerolinecolor": "white"
           },
           "zaxis": {
            "backgroundcolor": "#E5ECF6",
            "gridcolor": "white",
            "gridwidth": 2,
            "linecolor": "white",
            "showbackground": true,
            "ticks": "",
            "zerolinecolor": "white"
           }
          },
          "shapedefaults": {
           "line": {
            "color": "#2a3f5f"
           }
          },
          "ternary": {
           "aaxis": {
            "gridcolor": "white",
            "linecolor": "white",
            "ticks": ""
           },
           "baxis": {
            "gridcolor": "white",
            "linecolor": "white",
            "ticks": ""
           },
           "bgcolor": "#E5ECF6",
           "caxis": {
            "gridcolor": "white",
            "linecolor": "white",
            "ticks": ""
           }
          },
          "title": {
           "x": 0.05
          },
          "xaxis": {
           "automargin": true,
           "gridcolor": "white",
           "linecolor": "white",
           "ticks": "",
           "title": {
            "standoff": 15
           },
           "zerolinecolor": "white",
           "zerolinewidth": 2
          },
          "yaxis": {
           "automargin": true,
           "gridcolor": "white",
           "linecolor": "white",
           "ticks": "",
           "title": {
            "standoff": 15
           },
           "zerolinecolor": "white",
           "zerolinewidth": 2
          }
         }
        },
        "xaxis": {
         "anchor": "y",
         "autorange": true,
         "domain": [
          0,
          1
         ],
         "range": [
          -5.023992265615591,
          17.734004463110097
         ],
         "title": {
          "text": "x"
         },
         "type": "linear"
        },
        "yaxis": {
         "anchor": "x",
         "autorange": true,
         "domain": [
          0,
          1
         ],
         "range": [
          -18.778049956369138,
          14.477771292733882
         ],
         "title": {
          "text": "y"
         },
         "type": "linear"
        }
       }
      },
      "image/png": "[encoded data removed]",
      "text/html": [
       "<div>                            <div id=\"17863424-d435-440b-9997-7055a28666eb\" class=\"plotly-graph-div\" style=\"height:525px; width:100%;\"></div>            <script type=\"text/javascript\">                require([\"plotly\"], function(Plotly) {                    window.PLOTLYENV=window.PLOTLYENV || {};                                    if (document.getElementById(\"17863424-d435-440b-9997-7055a28666eb\")) {                    Plotly.newPlot(                        \"17863424-d435-440b-9997-7055a28666eb\",                        [{\"hovertemplate\": \"<b>%{hovertext}</b><br><br>group=0<br>x=%{x}<br>y=%{y}<extra></extra>\", \"hovertext\": [\"ADNPolitico\", \"ActualidadRT\", \"Adela_Micha\", \"AnaPOrdorica\", \"AristeguiOnline\", \"AztecaNoticias\", \"Canal22\", \"CanalOnceTV\", \"CarlosLoret\", \"CiroGomezL\", \"DeniseDresserG\", \"E_Q_\", \"carlosramirezh\"], \"legendgroup\": \"0\", \"marker\": {\"color\": \"#636efa\", \"symbol\": \"circle\"}, \"mode\": \"markers\", \"name\": \"0\", \"orientation\": \"v\", \"showlegend\": true, \"type\": \"scatter\", \"x\": [2.7913997173309326, 3.2110562324523926, 3.0688600540161133, 3.2598180770874023, 2.701399803161621, 3.1062393188476562, 3.231741189956665, 3.269500970840454, 3.022502899169922, 3.133192539215088, 2.8589954376220703, 3.013875722885132, 3.0034232139587402], \"xaxis\": \"x\", \"y\": [-16.640573501586914, -16.571033477783203, -16.160478591918945, -16.583141326904297, -16.195926666259766, -16.712970733642578, -16.289813995361328, -16.308082580566406, -16.50084114074707, -16.502771377563477, -16.35210609436035, -14.313127517700195, -14.372825622558594], \"yaxis\": \"y\"}, {\"hovertemplate\": \"<b>%{hovertext}</b><br><br>group=3<br>x=%{x}<br>y=%{y}<extra></extra>\", \"hovertext\": [\"Amsalazar\", \"DiegoEOsorno\", \"Imagen_Mx\", \"LeonKrauze\", \"Pizu\", \"ahope71\", \"jorgeramosnews\", \"jshm00\", \"macariomx\", \"nacholozano\", \"rivapa\"], \"legendgroup\": \"3\", \"marker\": {\"color\": \"#EF553B\", \"symbol\": \"circle\"}, \"mode\": \"markers\", \"name\": \"3\", \"orientation\": \"v\", \"showlegend\": true, \"type\": \"scatter\", \"x\": [13.428175926208496, 14.121976852416992, 13.349715232849121, 13.468932151794434, 13.912909507751465, 13.754602432250977, 13.77623462677002, 13.426837921142578, 13.58300495147705, 14.024850845336914, 13.760270118713379], \"xaxis\": \"x\", \"y\": [1.7531259059906006, 1.265537142753601, 1.1698753833770752, 1.144619107246399, 1.3313719034194946, 1.040122389793396, 1.204603910446167, 1.3922805786132812, 1.3659999370574951, 1.2804734706878662, 1.1531413793563843], \"yaxis\": \"y\"}, {\"hovertemplate\": \"<b>%{hovertext}</b><br><br>group=1<br>x=%{x}<br>y=%{y}<extra></extra>\", \"hovertext\": [\"DeniseMaerker\", \"EfektoNoticias\", \"EjeCentral\", \"ElFinanciero_Mx\", \"El_Universal_Mx\", \"EnfoqueNoticias\", \"Excelsior\", \"ExpansionMx\", \"FedericoArreola\", \"Foro_TV\", \"JohnMAckerman\", \"JoseCardenas1\", \"LaRazon_mx\", \"LeonardoCurzio\", \"LuisCardenasMx\", \"Milenio\", \"NTelevisa_com\", \"Notimex\", \"Pajaropolitico\", \"PublimetroMX\", \"Radio_Formula\", \"Reforma\", \"Reporte_Indigo\", \"SinEmbargoMX\", \"UnoNoticias\", \"WRADIOMexico\", \"Yoinfluyo\", \"alvaro_delgado\", \"diario24horas\", \"el_pais\", \"eleconomista\", \"elsolde_mexico\", \"informador\", \"karlaiberia\", \"lacronicadehoy\", \"lajornadaonline\", \"lasillarota\", \"lopezdoriga\", \"mileniotv\", \"nexosmexico\", \"puigcarlos\", \"revistaproceso\", \"sacroprofano\", \"sdpnoticias\"], \"legendgroup\": \"1\", \"marker\": {\"color\": \"#00cc96\", \"symbol\": \"circle\"}, \"mode\": \"markers\", \"name\": \"1\", \"orientation\": \"v\", \"showlegend\": true, \"type\": \"scatter\", \"x\": [15.890899658203125, 16.2797794342041, 16.49912452697754, 15.8485689163208, 16.187374114990234, 16.438390731811523, 16.06959342956543, 14.572792053222656, 16.41230583190918, 16.076248168945312, 15.659320831298828, 14.907227516174316, 14.400376319885254, 16.112749099731445, 16.277353286743164, 14.657149314880371, 15.303569793701172, 15.712750434875488, 15.198070526123047, 15.795865058898926, 15.152634620666504, 15.396154403686523, 15.528265953063965, 14.812835693359375, 15.539117813110352, 16.33279037475586, 16.3000545501709, 15.561964988708496, 14.645835876464844, 15.305632591247559, 16.018320083618164, 14.79292106628418, 15.355762481689453, 15.757465362548828, 14.846818923950195, 15.117952346801758, 15.009448051452637, 15.534070014953613, 16.239559173583984, 16.42003059387207, 14.990728378295898, 14.998995780944824, 16.466053009033203, 15.093819618225098], \"xaxis\": \"x\", \"y\": [9.786520004272461, 9.643525123596191, 9.729870796203613, 10.336777687072754, 10.884598731994629, 9.472990989685059, 10.506142616271973, 12.03343391418457, 9.96767807006836, 11.032537460327148, 12.311361312866211, 12.412692070007324, 11.778437614440918, 10.131739616394043, 10.005388259887695, 11.965715408325195, 12.40143871307373, 10.97902774810791, 12.302352905273438, 11.292862892150879, 10.93320369720459, 11.493461608886719, 12.004148483276367, 11.997408866882324, 10.550505638122559, 11.084641456604004, 10.385821342468262, 12.298858642578125, 11.36982536315918, 11.131377220153809, 11.602584838867188, 11.63998794555664, 11.741750717163086, 11.945590019226074, 11.536154747009277, 11.46677303314209, 11.110772132873535, 11.3101167678833, 9.544880867004395, 10.728436470031738, 12.150435447692871, 11.789210319519043, 10.885156631469727, 11.824376106262207], \"yaxis\": \"y\"}, {\"hovertemplate\": \"<b>%{hovertext}</b><br><br>group=2<br>x=%{x}<br>y=%{y}<extra></extra>\", \"hovertext\": [\"ElHuffPost\", \"FernandoDworak\", \"J_Fdz_Menendez\", \"JavierSolorzano\", \"MarioBeteta\", \"NoticiasMVS\", \"PPmerino\", \"PabloHiriart\", \"PaolaRojas\", \"PedroFerriz\", \"RicardoAlemanMx\", \"RoyCampos\", \"SGarciaSoto\", \"SalCamarena\", \"SanjuanaMtz\", \"SergioSarmiento\", \"TapiaFernanda\", \"VILLALVAZO13\", \"YuririaSierra\", \"aguilarcamin\", \"andreslajous\", \"arturoangel20\", \"beltrandelrio\", \"carloselizondom\", \"dmorenochavez\", \"epigmenioibarra\", \"esquivelgerardo\", \"estarc62\", \"genarolozano\", \"hdemauleon\", \"jairocalixto\", \"javieraparicio\", \"jenarovillamil\", \"jrisco\", \"julioastillero\", \"kdartigues\", \"lydiacachosi\", \"mariocampos\", \"maurimm\", \"panchogarfias\", \"politicomx\", \"sergioaguayo\", \"sopitas\", \"warkentin\"], \"legendgroup\": \"2\", \"marker\": {\"color\": \"#ab63fa\", \"symbol\": \"circle\"}, \"mode\": \"markers\", \"name\": \"2\", \"orientation\": \"v\", \"showlegend\": true, \"type\": \"scatter\", \"x\": [-2.9390268325805664, -3.347825527191162, -3.4537746906280518, -3.628950834274292, -3.4575536251068115, -3.6830787658691406, -2.7325282096862793, -2.7988550662994385, -2.752338409423828, -3.040130615234375, -3.4651827812194824, -3.622504949569702, -3.2313523292541504, -3.276153326034546, -3.4542977809906006, -3.3783271312713623, -2.8325259685516357, -2.647158622741699, -2.5477747917175293, -2.9721696376800537, -2.5583436489105225, -3.7891123294830322, -2.490095615386963, -3.125821828842163, -2.832221269607544, -3.130155563354492, -2.6080117225646973, -3.3462538719177246, -2.723344087600708, -2.8523194789886475, -3.0244150161743164, -3.0076816082000732, -3.264594078063965, -3.1452832221984863, -3.1610100269317627, -3.0586094856262207, -2.812185287475586, -2.5701334476470947, -3.055511236190796, -3.6055939197540283, -3.398258686065674, -3.0860726833343506, -2.966771364212036, -2.5420966148376465], \"xaxis\": \"x\", \"y\": [7.07021951675415, 8.329773902893066, 7.0163960456848145, 7.2135090827941895, 9.220701217651367, 9.42818832397461, 8.289403915405273, 7.818353176116943, 9.774975776672363, 8.439403533935547, 9.337743759155273, 9.315567970275879, 10.19582462310791, 7.983881950378418, 10.45274543762207, 9.98733139038086, 7.522596836090088, 9.351094245910645, 8.922135353088379, 9.018917083740234, 7.587102890014648, 9.094730377197266, 9.313469886779785, 10.483502388000488, 10.0122652053833, 8.970888137817383, 7.87880802154541, 9.928921699523926, 7.434762001037598, 9.853296279907227, 7.168790340423584, 10.241411209106445, 10.004626274108887, 6.997982978820801, 8.521383285522461, 9.268627166748047, 9.234102249145508, 9.599453926086426, 7.402172565460205, 9.783916473388672, 10.255900382995605, 7.975881576538086, 9.44450569152832, 8.48927116394043], \"yaxis\": \"y\"}],                        {\"legend\": {\"title\": {\"text\": \"group\"}, \"tracegroupgap\": 0}, \"margin\": {\"t\": 60}, \"template\": {\"data\": {\"bar\": [{\"error_x\": {\"color\": \"#2a3f5f\"}, \"error_y\": {\"color\": \"#2a3f5f\"}, \"marker\": {\"line\": {\"color\": \"#E5ECF6\", \"width\": 0.5}}, \"type\": \"bar\"}], \"barpolar\": [{\"marker\": {\"line\": {\"color\": \"#E5ECF6\", \"width\": 0.5}}, \"type\": \"barpolar\"}], \"carpet\": [{\"aaxis\": {\"endlinecolor\": \"#2a3f5f\", \"gridcolor\": \"white\", \"linecolor\": \"white\", \"minorgridcolor\": \"white\", \"startlinecolor\": \"#2a3f5f\"}, \"baxis\": {\"endlinecolor\": \"#2a3f5f\", \"gridcolor\": \"white\", \"linecolor\": \"white\", \"minorgridcolor\": \"white\", \"startlinecolor\": \"#2a3f5f\"}, \"type\": \"carpet\"}], \"choropleth\": [{\"colorbar\": {\"outlinewidth\": 0, \"ticks\": \"\"}, \"type\": \"choropleth\"}], \"contour\": [{\"colorbar\": {\"outlinewidth\": 0, \"ticks\": \"\"}, \"colorscale\": [[0.0, \"#0d0887\"], [0.1111111111111111, \"#46039f\"], [0.2222222222222222, \"#7201a8\"], [0.3333333333333333, \"#9c179e\"], [0.4444444444444444, \"#bd3786\"], [0.5555555555555556, \"#d8576b\"], [0.6666666666666666, \"#ed7953\"], [0.7777777777777778, \"#fb9f3a\"], [0.8888888888888888, \"#fdca26\"], [1.0, \"#f0f921\"]], \"type\": \"contour\"}], \"contourcarpet\": [{\"colorbar\": {\"outlinewidth\": 0, \"ticks\": \"\"}, \"type\": \"contourcarpet\"}], \"heatmap\": [{\"colorbar\": {\"outlinewidth\": 0, \"ticks\": \"\"}, \"colorscale\": [[0.0, \"#0d0887\"], [0.1111111111111111, \"#46039f\"], [0.2222222222222222, \"#7201a8\"], [0.3333333333333333, \"#9c179e\"], [0.4444444444444444, \"#bd3786\"], [0.5555555555555556, \"#d8576b\"], [0.6666666666666666, \"#ed7953\"], [0.7777777777777778, \"#fb9f3a\"], [0.8888888888888888, \"#fdca26\"], [1.0, \"#f0f921\"]], \"type\": \"heatmap\"}], \"heatmapgl\": [{\"colorbar\": {\"outlinewidth\": 0, \"ticks\": \"\"}, \"colorscale\": [[0.0, \"#0d0887\"], [0.1111111111111111, \"#46039f\"], [0.2222222222222222, \"#7201a8\"], [0.3333333333333333, \"#9c179e\"], [0.4444444444444444, \"#bd3786\"], [0.5555555555555556, \"#d8576b\"], [0.6666666666666666, \"#ed7953\"], [0.7777777777777778, \"#fb9f3a\"], [0.8888888888888888, \"#fdca26\"], [1.0, \"#f0f921\"]], \"type\": \"heatmapgl\"}], \"histogram\": [{\"marker\": {\"colorbar\": {\"outlinewidth\": 0, \"ticks\": \"\"}}, \"type\": \"histogram\"}], \"histogram2d\": [{\"colorbar\": {\"outlinewidth\": 0, \"ticks\": \"\"}, \"colorscale\": [[0.0, \"#0d0887\"], [0.1111111111111111, \"#46039f\"], [0.2222222222222222, \"#7201a8\"], [0.3333333333333333, \"#9c179e\"], [0.4444444444444444, \"#bd3786\"], [0.5555555555555556, \"#d8576b\"], [0.6666666666666666, \"#ed7953\"], [0.7777777777777778, \"#fb9f3a\"], [0.8888888888888888, \"#fdca26\"], [1.0, \"#f0f921\"]], \"type\": \"histogram2d\"}], \"histogram2dcontour\": [{\"colorbar\": {\"outlinewidth\": 0, \"ticks\": \"\"}, \"colorscale\": [[0.0, \"#0d0887\"], [0.1111111111111111, \"#46039f\"], [0.2222222222222222, \"#7201a8\"], [0.3333333333333333, \"#9c179e\"], [0.4444444444444444, \"#bd3786\"], [0.5555555555555556, \"#d8576b\"], [0.6666666666666666, \"#ed7953\"], [0.7777777777777778, \"#fb9f3a\"], [0.8888888888888888, \"#fdca26\"], [1.0, \"#f0f921\"]], \"type\": \"histogram2dcontour\"}], \"mesh3d\": [{\"colorbar\": {\"outlinewidth\": 0, \"ticks\": \"\"}, \"type\": \"mesh3d\"}], \"parcoords\": [{\"line\": {\"colorbar\": {\"outlinewidth\": 0, \"ticks\": \"\"}}, \"type\": \"parcoords\"}], \"pie\": [{\"automargin\": true, \"type\": \"pie\"}], \"scatter\": [{\"marker\": {\"colorbar\": {\"outlinewidth\": 0, \"ticks\": \"\"}}, \"type\": \"scatter\"}], \"scatter3d\": [{\"line\": {\"colorbar\": {\"outlinewidth\": 0, \"ticks\": \"\"}}, \"marker\": {\"colorbar\": {\"outlinewidth\": 0, \"ticks\": \"\"}}, \"type\": \"scatter3d\"}], \"scattercarpet\": [{\"marker\": {\"colorbar\": {\"outlinewidth\": 0, \"ticks\": \"\"}}, \"type\": \"scattercarpet\"}], \"scattergeo\": [{\"marker\": {\"colorbar\": {\"outlinewidth\": 0, \"ticks\": \"\"}}, \"type\": \"scattergeo\"}], \"scattergl\": [{\"marker\": {\"colorbar\": {\"outlinewidth\": 0, \"ticks\": \"\"}}, \"type\": \"scattergl\"}], \"scattermapbox\": [{\"marker\": {\"colorbar\": {\"outlinewidth\": 0, \"ticks\": \"\"}}, \"type\": \"scattermapbox\"}], \"scatterpolar\": [{\"marker\": {\"colorbar\": {\"outlinewidth\": 0, \"ticks\": \"\"}}, \"type\": \"scatterpolar\"}], \"scatterpolargl\": [{\"marker\": {\"colorbar\": {\"outlinewidth\": 0, \"ticks\": \"\"}}, \"type\": \"scatterpolargl\"}], \"scatterternary\": [{\"marker\": {\"colorbar\": {\"outlinewidth\": 0, \"ticks\": \"\"}}, \"type\": \"scatterternary\"}], \"surface\": [{\"colorbar\": {\"outlinewidth\": 0, \"ticks\": \"\"}, \"colorscale\": [[0.0, \"#0d0887\"], [0.1111111111111111, \"#46039f\"], [0.2222222222222222, \"#7201a8\"], [0.3333333333333333, \"#9c179e\"], [0.4444444444444444, \"#bd3786\"], [0.5555555555555556, \"#d8576b\"], [0.6666666666666666, \"#ed7953\"], [0.7777777777777778, \"#fb9f3a\"], [0.8888888888888888, \"#fdca26\"], [1.0, \"#f0f921\"]], \"type\": \"surface\"}], \"table\": [{\"cells\": {\"fill\": {\"color\": \"#EBF0F8\"}, \"line\": {\"color\": \"white\"}}, \"header\": {\"fill\": {\"color\": \"#C8D4E3\"}, \"line\": {\"color\": \"white\"}}, \"type\": \"table\"}]}, \"layout\": {\"annotationdefaults\": {\"arrowcolor\": \"#2a3f5f\", \"arrowhead\": 0, \"arrowwidth\": 1}, \"coloraxis\": {\"colorbar\": {\"outlinewidth\": 0, \"ticks\": \"\"}}, \"colorscale\": {\"diverging\": [[0, \"#8e0152\"], [0.1, \"#c51b7d\"], [0.2, \"#de77ae\"], [0.3, \"#f1b6da\"], [0.4, \"#fde0ef\"], [0.5, \"#f7f7f7\"], [0.6, \"#e6f5d0\"], [0.7, \"#b8e186\"], [0.8, \"#7fbc41\"], [0.9, \"#4d9221\"], [1, \"#276419\"]], \"sequential\": [[0.0, \"#0d0887\"], [0.1111111111111111, \"#46039f\"], [0.2222222222222222, \"#7201a8\"], [0.3333333333333333, \"#9c179e\"], [0.4444444444444444, \"#bd3786\"], [0.5555555555555556, \"#d8576b\"], [0.6666666666666666, \"#ed7953\"], [0.7777777777777778, \"#fb9f3a\"], [0.8888888888888888, \"#fdca26\"], [1.0, \"#f0f921\"]], \"sequentialminus\": [[0.0, \"#0d0887\"], [0.1111111111111111, \"#46039f\"], [0.2222222222222222, \"#7201a8\"], [0.3333333333333333, \"#9c179e\"], [0.4444444444444444, \"#bd3786\"], [0.5555555555555556, \"#d8576b\"], [0.6666666666666666, \"#ed7953\"], [0.7777777777777778, \"#fb9f3a\"], [0.8888888888888888, \"#fdca26\"], [1.0, \"#f0f921\"]]}, \"colorway\": [\"#636efa\", \"#EF553B\", \"#00cc96\", \"#ab63fa\", \"#FFA15A\", \"#19d3f3\", \"#FF6692\", \"#B6E880\", \"#FF97FF\", \"#FECB52\"], \"font\": {\"color\": \"#2a3f5f\"}, \"geo\": {\"bgcolor\": \"white\", \"lakecolor\": \"white\", \"landcolor\": \"#E5ECF6\", \"showlakes\": true, \"showland\": true, \"subunitcolor\": \"white\"}, \"hoverlabel\": {\"align\": \"left\"}, \"hovermode\": \"closest\", \"mapbox\": {\"style\": \"light\"}, \"paper_bgcolor\": \"white\", \"plot_bgcolor\": \"#E5ECF6\", \"polar\": {\"angularaxis\": {\"gridcolor\": \"white\", \"linecolor\": \"white\", \"ticks\": \"\"}, \"bgcolor\": \"#E5ECF6\", \"radialaxis\": {\"gridcolor\": \"white\", \"linecolor\": \"white\", \"ticks\": \"\"}}, \"scene\": {\"xaxis\": {\"backgroundcolor\": \"#E5ECF6\", \"gridcolor\": \"white\", \"gridwidth\": 2, \"linecolor\": \"white\", \"showbackground\": true, \"ticks\": \"\", \"zerolinecolor\": \"white\"}, \"yaxis\": {\"backgroundcolor\": \"#E5ECF6\", \"gridcolor\": \"white\", \"gridwidth\": 2, \"linecolor\": \"white\", \"showbackground\": true, \"ticks\": \"\", \"zerolinecolor\": \"white\"}, \"zaxis\": {\"backgroundcolor\": \"#E5ECF6\", \"gridcolor\": \"white\", \"gridwidth\": 2, \"linecolor\": \"white\", \"showbackground\": true, \"ticks\": \"\", \"zerolinecolor\": \"white\"}}, \"shapedefaults\": {\"line\": {\"color\": \"#2a3f5f\"}}, \"ternary\": {\"aaxis\": {\"gridcolor\": \"white\", \"linecolor\": \"white\", \"ticks\": \"\"}, \"baxis\": {\"gridcolor\": \"white\", \"linecolor\": \"white\", \"ticks\": \"\"}, \"bgcolor\": \"#E5ECF6\", \"caxis\": {\"gridcolor\": \"white\", \"linecolor\": \"white\", \"ticks\": \"\"}}, \"title\": {\"x\": 0.05}, \"xaxis\": {\"automargin\": true, \"gridcolor\": \"white\", \"linecolor\": \"white\", \"ticks\": \"\", \"title\": {\"standoff\": 15}, \"zerolinecolor\": \"white\", \"zerolinewidth\": 2}, \"yaxis\": {\"automargin\": true, \"gridcolor\": \"white\", \"linecolor\": \"white\", \"ticks\": \"\", \"title\": {\"standoff\": 15}, \"zerolinecolor\": \"white\", \"zerolinewidth\": 2}}}, \"xaxis\": {\"anchor\": \"y\", \"domain\": [0.0, 1.0], \"title\": {\"text\": \"x\"}}, \"yaxis\": {\"anchor\": \"x\", \"domain\": [0.0, 1.0], \"title\": {\"text\": \"y\"}}},                        {\"responsive\": true}                    ).then(function(){\n",
       "                            \n",
       "var gd = document.getElementById('17863424-d435-440b-9997-7055a28666eb');\n",
       "var x = new MutationObserver(function (mutations, observer) {{\n",
       "        var display = window.getComputedStyle(gd).display;\n",
       "        if (!display || display === 'none') {{\n",
       "            console.log([gd, 'removed!']);\n",
       "            Plotly.purge(gd);\n",
       "            observer.disconnect();\n",
       "        }}\n",
       "}});\n",
       "\n",
       "// Listen for the removal of the full notebook cells\n",
       "var notebookContainer = gd.closest('#notebook-container');\n",
       "if (notebookContainer) {{\n",
       "    x.observe(notebookContainer, {childList: true});\n",
       "}}\n",
       "\n",
       "// Listen for the clearing of the current output cell\n",
       "var outputEl = gd.closest('.output');\n",
       "if (outputEl) {{\n",
       "    x.observe(outputEl, {childList: true});\n",
       "}}\n",
       "\n",
       "                        })                };                });            </script>        </div>"
      ]
     },
     "metadata": {},
     "output_type": "display_data"
    }
   ],
   "source": [
    "embedding = umap.UMAP(random_state=308605378).fit_transform(aut_queries_df, y = labels)\n",
    "\n",
    "x_umap = embedding[:,0]\n",
    "y_umap = embedding[:,1]\n",
    "\n",
    "df_umap = pd.DataFrame({\n",
    "    \"x\": x_umap, \n",
    "    \"y\": y_umap, \n",
    "    \"group\": [str(values) for values in labels], \n",
    "    \"author_name\":author_names\n",
    "})\n",
    "\n",
    "fig = (\n",
    "    px\n",
    "    .scatter(df_umap, x='x', y='y', color='group',  hover_name=\"author_name\")\n",
    ")\n",
    "fig.show()"
   ]
  },
  {
   "cell_type": "code",
   "execution_count": 29,
   "metadata": {},
   "outputs": [],
   "source": [
    "df_umap.to_csv(\"../graphics/data/df_umap_supervisado.csv\")"
   ]
  }
 ],
 "metadata": {
  "kernelspec": {
   "display_name": "Python 3",
   "language": "python",
   "name": "python3"
  },
  "language_info": {
   "codemirror_mode": {
    "name": "ipython",
    "version": 3
   },
   "file_extension": ".py",
   "mimetype": "text/x-python",
   "name": "python",
   "nbconvert_exporter": "python",
   "pygments_lexer": "ipython3",
   "version": "3.8.8"
  },
  "toc-autonumbering": true
 },
 "nbformat": 4,
 "nbformat_minor": 4
}
