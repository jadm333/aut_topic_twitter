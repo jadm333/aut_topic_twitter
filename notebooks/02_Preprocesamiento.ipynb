{
 "cells": [
  {
   "cell_type": "code",
   "execution_count": 1,
   "metadata": {},
   "outputs": [],
   "source": [
    "import sys\n",
    "\n",
    "sys.path.insert(1, '/home/peps/Documents/tesis_codigo')"
   ]
  },
  {
   "cell_type": "code",
   "execution_count": 2,
   "metadata": {},
   "outputs": [],
   "source": [
    "import helpers.preprocesamiento as procs\n",
    "import spacy\n",
    "import pickle"
   ]
  },
  {
   "cell_type": "code",
   "execution_count": 3,
   "metadata": {},
   "outputs": [],
   "source": [
    "with open(\"pickles/lectura.pickle\", \"rb\") as f:\n",
    "    df, f_ini, f_fin = pickle.load(f) "
   ]
  },
  {
   "cell_type": "code",
   "execution_count": 4,
   "metadata": {
    "collapsed": false,
    "jupyter": {
     "outputs_hidden": false
    },
    "pycharm": {
     "is_executing": false,
     "name": "#%%\n"
    }
   },
   "outputs": [],
   "source": [
    "df_char_r = procs.remove_chars(df)"
   ]
  },
  {
   "cell_type": "code",
   "execution_count": 5,
   "metadata": {},
   "outputs": [],
   "source": [
    "df_ = df_char_r\n",
    "nlp = spacy.load('es_core_news_md')"
   ]
  },
  {
   "cell_type": "code",
   "execution_count": 6,
   "metadata": {},
   "outputs": [],
   "source": [
    "stop_words = [\"y\", \"a\", \"ante\", \"a\", \"bajo\", \"con\", \"de\", \"desde\", \"durante\", \"en\", \"entre\", \"excepto\", \"hacia\",\n",
    "              \"hasta\", \"mediante\", \"para\", \"por\", \"salvo\", \"según\", \"sin\", \"sobre\", \"tras\", \"y\", \"e\", \"ni\", \"o\", \"u\",\n",
    "              \"que\", \"si\", \"como\", \"donde\", \"quien\", \"cual\", \"cuyo\", \"cuanto\", \"el\", \"lalos\", \"las\"]\n",
    "\n",
    "for word in stop_words:\n",
    "    nlp.vocab[word].is_stop = True"
   ]
  },
  {
   "cell_type": "code",
   "execution_count": 7,
   "metadata": {},
   "outputs": [],
   "source": [
    "docs = list(df_['text_clean'])"
   ]
  },
  {
   "cell_type": "code",
   "execution_count": 8,
   "metadata": {},
   "outputs": [],
   "source": [
    "docs = procs.entidades(docs, nlp)"
   ]
  },
  {
   "cell_type": "code",
   "execution_count": 9,
   "metadata": {},
   "outputs": [],
   "source": [
    "docs = procs.bigramas(docs)"
   ]
  },
  {
   "cell_type": "code",
   "execution_count": 10,
   "metadata": {
    "collapsed": false,
    "jupyter": {
     "outputs_hidden": false
    },
    "pycharm": {
     "name": "#%%\n"
    }
   },
   "outputs": [],
   "source": [
    "dictionary = procs.filtrar_extremos(docs)"
   ]
  },
  {
   "cell_type": "code",
   "execution_count": 11,
   "metadata": {
    "collapsed": false,
    "jupyter": {
     "outputs_hidden": false
    },
    "pycharm": {
     "name": "#%%\n"
    }
   },
   "outputs": [],
   "source": [
    "# %%\n",
    "corpus = [dictionary.doc2bow(doc) for doc in docs]"
   ]
  },
  {
   "cell_type": "code",
   "execution_count": 12,
   "metadata": {
    "collapsed": false,
    "jupyter": {
     "outputs_hidden": false
    },
    "pycharm": {
     "name": "#%%\n"
    }
   },
   "outputs": [],
   "source": [
    "# BORRAR TWEETS VACIOS\n",
    "id_borrar = [i for i in range(0, len(corpus)) if len(corpus[i]) == 0]\n",
    "df_tweets_vacios = df.drop(index = id_borrar)\n",
    "df = df.reset_index(drop=True)\n",
    "docs = list(df['text'])\n",
    "docs = procs.entidades(docs, nlp)\n",
    "docs = procs.bigramas(docs)\n",
    "corpus = [dictionary.doc2bow(doc) for doc in docs]"
   ]
  },
  {
   "cell_type": "code",
   "execution_count": 13,
   "metadata": {
    "collapsed": false,
    "jupyter": {
     "outputs_hidden": false
    },
    "pycharm": {
     "name": "#%%\n"
    }
   },
   "outputs": [],
   "source": [
    "# AUTHOR2DOC\n",
    "author2doc = {}\n",
    "for aut in df.screen_name.unique():\n",
    "    author2doc[aut] = []\n",
    "\n",
    "for index, row in df.iterrows():\n",
    "    author2doc[row['screen_name']].append(index)"
   ]
  },
  {
   "cell_type": "code",
   "execution_count": 14,
   "metadata": {},
   "outputs": [],
   "source": [
    "with open(\"pickles/preprocesamiento.pickle\", \"wb\") as f:\n",
    "    pickle.dump((corpus, dictionary, author2doc) , f)"
   ]
  },
  {
   "cell_type": "code",
   "execution_count": null,
   "metadata": {},
   "outputs": [],
   "source": []
  },
  {
   "cell_type": "code",
   "execution_count": null,
   "metadata": {},
   "outputs": [],
   "source": []
  }
 ],
 "metadata": {
  "kernelspec": {
   "display_name": "Python 3.8.3 64-bit ('tesis_codigo': conda)",
   "language": "python",
   "name": "python38364bittesiscodigoconda5ec553dd049c46c58bb67c17b1fcf6ac"
  },
  "language_info": {
   "codemirror_mode": {
    "name": "ipython",
    "version": 3
   },
   "file_extension": ".py",
   "mimetype": "text/x-python",
   "name": "python",
   "nbconvert_exporter": "python",
   "pygments_lexer": "ipython3",
   "version": "3.8.3"
  }
 },
 "nbformat": 4,
 "nbformat_minor": 4
}
