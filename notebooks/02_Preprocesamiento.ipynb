{
 "cells": [
  {
   "cell_type": "code",
   "execution_count": 1,
   "metadata": {},
   "outputs": [],
   "source": [
    "import sys\n",
    "sys.path.insert(1, '../')"
   ]
  },
  {
   "cell_type": "code",
   "execution_count": 2,
   "metadata": {},
   "outputs": [],
   "source": [
    "import helpers.preprocesamiento as procs\n",
    "import spacy\n",
    "import pickle\n",
    "import numpy as np"
   ]
  },
  {
   "cell_type": "code",
   "execution_count": 4,
   "metadata": {},
   "outputs": [],
   "source": [
    "with open(\"pickles/lectura_sample.pickle\", \"rb\") as f:\n",
    "    df, f_ini, f_fin = pickle.load(f) "
   ]
  },
  {
   "cell_type": "code",
   "execution_count": null,
   "metadata": {},
   "outputs": [],
   "source": []
  },
  {
   "cell_type": "code",
   "execution_count": 7,
   "metadata": {},
   "outputs": [
    {
     "data": {
      "text/plain": [
       "112"
      ]
     },
     "execution_count": 7,
     "metadata": {},
     "output_type": "execute_result"
    }
   ],
   "source": [
    "len(df.screen_name.unique())"
   ]
  },
  {
   "cell_type": "code",
   "execution_count": 8,
   "metadata": {},
   "outputs": [
    {
     "data": {
      "text/plain": [
       "33600"
      ]
     },
     "execution_count": 8,
     "metadata": {},
     "output_type": "execute_result"
    }
   ],
   "source": [
    "len(df)"
   ]
  },
  {
   "cell_type": "code",
   "execution_count": null,
   "metadata": {},
   "outputs": [],
   "source": []
  },
  {
   "cell_type": "markdown",
   "metadata": {},
   "source": [
    "# TODO: Revisar acentos"
   ]
  },
  {
   "cell_type": "code",
   "execution_count": 4,
   "metadata": {
    "collapsed": false,
    "jupyter": {
     "outputs_hidden": false
    },
    "pycharm": {
     "name": "#%%\n"
    }
   },
   "outputs": [],
   "source": [
    "df_char_r = procs.remove_chars(df)\n",
    "nlp = spacy.load('es_core_news_lg')\n",
    "stop_words = [\"y\", \"a\", \"ante\", \"a\", \"bajo\", \"con\", \"de\", \"desde\", \"durante\", \"en\", \"entre\", \"excepto\", \"hacia\",\n",
    "              \"hasta\", \"mediante\", \"para\", \"por\", \"salvo\", \"según\", \"sin\", \"sobre\", \"tras\", \"y\", \"e\", \"ni\", \"o\", \"u\",\n",
    "              \"que\", \"si\", \"como\", \"donde\", \"quien\", \"cual\", \"cuyo\", \"cuanto\", \"el\", \"lalos\", \"las\"]\n",
    "for word in stop_words:\n",
    "    nlp.vocab[word].is_stop = True\n",
    "docs = list(df_char_r['text_clean'])\n",
    "docs = procs.entidades(docs, nlp)\n",
    "docs = procs.bigramas(docs)\n",
    "dictionary = procs.filtrar_extremos(docs)"
   ]
  },
  {
   "cell_type": "code",
   "execution_count": 5,
   "metadata": {
    "collapsed": false,
    "jupyter": {
     "outputs_hidden": false
    },
    "pycharm": {
     "name": "#%%\n"
    }
   },
   "outputs": [],
   "source": [
    "corpus = [dictionary.doc2bow(doc) for doc in docs]"
   ]
  },
  {
   "cell_type": "markdown",
   "metadata": {},
   "source": [
    "Borramos tweets que:\n",
    "- Tengan menos de dos palabras"
   ]
  },
  {
   "cell_type": "code",
   "execution_count": 6,
   "metadata": {},
   "outputs": [],
   "source": [
    "id_borrar =[i for i in range(0, len(corpus)) if len(corpus[i]) <= 2]"
   ]
  },
  {
   "cell_type": "markdown",
   "metadata": {},
   "source": [
    "# Split Test Train"
   ]
  },
  {
   "cell_type": "markdown",
   "metadata": {},
   "source": [
    "Se repocesan de nuevo todo para:\n",
    "1. Separamos datos en prueba y entrenamiento."
   ]
  },
  {
   "cell_type": "code",
   "execution_count": 9,
   "metadata": {
    "collapsed": false,
    "jupyter": {
     "outputs_hidden": false
    },
    "pycharm": {
     "name": "#%%\n"
    }
   },
   "outputs": [],
   "source": [
    "df_tweets_vacios = (df_char_r\n",
    "                    .drop(index = id_borrar)\n",
    "                    .reset_index(drop=True)\n",
    "                   )"
   ]
  },
  {
   "cell_type": "markdown",
   "metadata": {},
   "source": [
    "Lo separamos a nivel autor"
   ]
  },
  {
   "cell_type": "code",
   "execution_count": 10,
   "metadata": {},
   "outputs": [],
   "source": [
    "sample = (df_tweets_vacios\n",
    "          .assign(id_ = np.arange(len(df_tweets_vacios)))\n",
    "          .groupby(\"screen_name\")\n",
    "          .apply(lambda df: df.sample(frac=0.8, random_state=811))\n",
    "         )"
   ]
  },
  {
   "cell_type": "code",
   "execution_count": 11,
   "metadata": {},
   "outputs": [],
   "source": [
    "train_set = df_tweets_vacios.copy().iloc[sample[\"id_\"],]\n",
    "test_set = df_tweets_vacios.copy().drop(index =train_set.index)"
   ]
  },
  {
   "cell_type": "markdown",
   "metadata": {},
   "source": [
    "2. Eliminar del corpus tweets vacios."
   ]
  },
  {
   "cell_type": "code",
   "execution_count": 12,
   "metadata": {},
   "outputs": [],
   "source": [
    "docs_tweets_vacios = list(df_tweets_vacios['text_clean'])\n",
    "docs_tweets_vacios = procs.entidades(docs_tweets_vacios, nlp)\n",
    "docs_tweets_vacios = procs.bigramas(docs_tweets_vacios)"
   ]
  },
  {
   "cell_type": "code",
   "execution_count": 13,
   "metadata": {},
   "outputs": [],
   "source": [
    "dictionary_docs_tweets_vacios = procs.filtrar_extremos(docs_tweets_vacios)"
   ]
  },
  {
   "cell_type": "code",
   "execution_count": 14,
   "metadata": {},
   "outputs": [],
   "source": [
    "corpus_train = [dictionary_docs_tweets_vacios.doc2bow(docs_tweets_vacios[doc_id]) for doc_id in train_set.index]\n",
    "corpus_test = [dictionary_docs_tweets_vacios.doc2bow(docs_tweets_vacios[doc_id]) for doc_id in test_set.index]"
   ]
  },
  {
   "cell_type": "code",
   "execution_count": 15,
   "metadata": {
    "collapsed": false,
    "jupyter": {
     "outputs_hidden": false
    },
    "pycharm": {
     "name": "#%%\n"
    }
   },
   "outputs": [],
   "source": [
    "author2doc_train = {aut: [] for aut in train_set[\"screen_name\"].unique()}\n",
    "\n",
    "for index, row in train_set.reset_index(drop=True).iterrows():\n",
    "    author2doc_train[row['screen_name']].append(index)"
   ]
  },
  {
   "cell_type": "code",
   "execution_count": 16,
   "metadata": {},
   "outputs": [],
   "source": [
    "author2doc_test = {aut: [] for aut in test_set[\"screen_name\"].unique()}\n",
    "\n",
    "for index, row in test_set.reset_index(drop=True).iterrows():\n",
    "    author2doc_test[row['screen_name']].append(index)"
   ]
  },
  {
   "cell_type": "markdown",
   "metadata": {},
   "source": [
    "# Guardar"
   ]
  },
  {
   "cell_type": "code",
   "execution_count": 17,
   "metadata": {},
   "outputs": [],
   "source": [
    "with open(\"pickles/preprocesamiento.pickle\", \"wb\") as f:\n",
    "    pickle.dump((\n",
    "        dictionary_docs_tweets_vacios,\n",
    "        corpus_train,\n",
    "        corpus_test,\n",
    "        author2doc_train,\n",
    "        author2doc_test,\n",
    "        train_set,\n",
    "        test_set\n",
    "    ) , f)"
   ]
  }
 ],
 "metadata": {
  "kernelspec": {
   "display_name": "Python [conda env:root] *",
   "language": "python",
   "name": "conda-root-py"
  },
  "language_info": {
   "codemirror_mode": {
    "name": "ipython",
    "version": 3
   },
   "file_extension": ".py",
   "mimetype": "text/x-python",
   "name": "python",
   "nbconvert_exporter": "python",
   "pygments_lexer": "ipython3",
   "version": "3.8.6"
  }
 },
 "nbformat": 4,
 "nbformat_minor": 4
}
