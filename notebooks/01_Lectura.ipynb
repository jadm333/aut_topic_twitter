{
 "cells": [
  {
   "cell_type": "code",
   "execution_count": 1,
   "metadata": {},
   "outputs": [],
   "source": [
    "import sys\n",
    "import pandas as pd\n",
    "sys.path.insert(1, '../')"
   ]
  },
  {
   "cell_type": "code",
   "execution_count": 2,
   "metadata": {
    "pycharm": {
     "is_executing": false
    }
   },
   "outputs": [],
   "source": [
    "from helpers.reading import read_filter_df\n",
    "import pickle"
   ]
  },
  {
   "cell_type": "code",
   "execution_count": 3,
   "metadata": {},
   "outputs": [],
   "source": [
    "f_fin = \"2017-09-05\"\n",
    "f_ini = \"2017-01-01\""
   ]
  },
  {
   "cell_type": "code",
   "execution_count": 4,
   "metadata": {
    "collapsed": false,
    "jupyter": {
     "outputs_hidden": false
    },
    "pycharm": {
     "is_executing": false,
     "name": "#%%\n"
    }
   },
   "outputs": [],
   "source": [
    "df, f_ini, f_fin = read_filter_df(f_ini=f_ini, f_fin=f_fin, path=\"../data/twitter_accounts/\")"
   ]
  },
  {
   "cell_type": "code",
   "execution_count": 6,
   "metadata": {},
   "outputs": [
    {
     "data": {
      "text/html": [
       "<div>\n",
       "<style scoped>\n",
       "    .dataframe tbody tr th:only-of-type {\n",
       "        vertical-align: middle;\n",
       "    }\n",
       "\n",
       "    .dataframe tbody tr th {\n",
       "        vertical-align: top;\n",
       "    }\n",
       "\n",
       "    .dataframe thead th {\n",
       "        text-align: right;\n",
       "    }\n",
       "</style>\n",
       "<table border=\"1\" class=\"dataframe\">\n",
       "  <thead>\n",
       "    <tr style=\"text-align: right;\">\n",
       "      <th></th>\n",
       "      <th>created_at_datetime</th>\n",
       "      <th>text</th>\n",
       "      <th>screen_name</th>\n",
       "    </tr>\n",
       "  </thead>\n",
       "  <tbody>\n",
       "    <tr>\n",
       "      <th>0</th>\n",
       "      <td>2017-02-27 23:05:00</td>\n",
       "      <td>Nadie ha retratado la comida poblana como lo h...</td>\n",
       "      <td>Canal22</td>\n",
       "    </tr>\n",
       "    <tr>\n",
       "      <th>1</th>\n",
       "      <td>2017-02-27 22:50:00</td>\n",
       "      <td>‘La música no sólo son 12 notas, es necesaria ...</td>\n",
       "      <td>Canal22</td>\n",
       "    </tr>\n",
       "    <tr>\n",
       "      <th>2</th>\n",
       "      <td>2017-02-27 22:30:00</td>\n",
       "      <td>Mujeres empoderadas en el mundo de la música… ...</td>\n",
       "      <td>Canal22</td>\n",
       "    </tr>\n",
       "    <tr>\n",
       "      <th>3</th>\n",
       "      <td>2017-02-27 22:05:01</td>\n",
       "      <td>Graciela Iturbide: Arte, documentación y Méxic...</td>\n",
       "      <td>Canal22</td>\n",
       "    </tr>\n",
       "    <tr>\n",
       "      <th>4</th>\n",
       "      <td>2017-02-27 21:50:01</td>\n",
       "      <td>Se dice que, de tanto leer y poco dormir se le...</td>\n",
       "      <td>Canal22</td>\n",
       "    </tr>\n",
       "    <tr>\n",
       "      <th>...</th>\n",
       "      <td>...</td>\n",
       "      <td>...</td>\n",
       "      <td>...</td>\n",
       "    </tr>\n",
       "    <tr>\n",
       "      <th>1229466</th>\n",
       "      <td>2017-09-04 14:40:00</td>\n",
       "      <td>Hoy en @LaJornada | El pachuquismo sobrevive e...</td>\n",
       "      <td>lajornadaonline</td>\n",
       "    </tr>\n",
       "    <tr>\n",
       "      <th>1229467</th>\n",
       "      <td>2017-09-04 14:35:01</td>\n",
       "      <td>#DIVISAS ???? | #Dólar inicia la semana en $17...</td>\n",
       "      <td>lajornadaonline</td>\n",
       "    </tr>\n",
       "    <tr>\n",
       "      <th>1229468</th>\n",
       "      <td>2017-09-04 14:30:02</td>\n",
       "      <td>Hoy en la Contraportada de @LaJornada: Inventa...</td>\n",
       "      <td>lajornadaonline</td>\n",
       "    </tr>\n",
       "    <tr>\n",
       "      <th>1229469</th>\n",
       "      <td>2017-09-04 14:20:01</td>\n",
       "      <td>Hoy en la portada de @LaJornada: “Un tsunami”,...</td>\n",
       "      <td>lajornadaonline</td>\n",
       "    </tr>\n",
       "    <tr>\n",
       "      <th>1229470</th>\n",
       "      <td>2017-09-04 14:11:07</td>\n",
       "      <td>#CLIMA ????️ | Remanentes de #Lidia y zona de ...</td>\n",
       "      <td>lajornadaonline</td>\n",
       "    </tr>\n",
       "  </tbody>\n",
       "</table>\n",
       "<p>1229471 rows × 3 columns</p>\n",
       "</div>"
      ],
      "text/plain": [
       "         created_at_datetime  \\\n",
       "0        2017-02-27 23:05:00   \n",
       "1        2017-02-27 22:50:00   \n",
       "2        2017-02-27 22:30:00   \n",
       "3        2017-02-27 22:05:01   \n",
       "4        2017-02-27 21:50:01   \n",
       "...                      ...   \n",
       "1229466  2017-09-04 14:40:00   \n",
       "1229467  2017-09-04 14:35:01   \n",
       "1229468  2017-09-04 14:30:02   \n",
       "1229469  2017-09-04 14:20:01   \n",
       "1229470  2017-09-04 14:11:07   \n",
       "\n",
       "                                                      text      screen_name  \n",
       "0        Nadie ha retratado la comida poblana como lo h...          Canal22  \n",
       "1        ‘La música no sólo son 12 notas, es necesaria ...          Canal22  \n",
       "2        Mujeres empoderadas en el mundo de la música… ...          Canal22  \n",
       "3        Graciela Iturbide: Arte, documentación y Méxic...          Canal22  \n",
       "4        Se dice que, de tanto leer y poco dormir se le...          Canal22  \n",
       "...                                                    ...              ...  \n",
       "1229466  Hoy en @LaJornada | El pachuquismo sobrevive e...  lajornadaonline  \n",
       "1229467  #DIVISAS ???? | #Dólar inicia la semana en $17...  lajornadaonline  \n",
       "1229468  Hoy en la Contraportada de @LaJornada: Inventa...  lajornadaonline  \n",
       "1229469  Hoy en la portada de @LaJornada: “Un tsunami”,...  lajornadaonline  \n",
       "1229470  #CLIMA ????️ | Remanentes de #Lidia y zona de ...  lajornadaonline  \n",
       "\n",
       "[1229471 rows x 3 columns]"
      ]
     },
     "execution_count": 6,
     "metadata": {},
     "output_type": "execute_result"
    }
   ],
   "source": [
    "df"
   ]
  },
  {
   "cell_type": "markdown",
   "metadata": {},
   "source": [
    "# Muestrear"
   ]
  },
  {
   "cell_type": "code",
   "execution_count": 39,
   "metadata": {},
   "outputs": [],
   "source": [
    "pd.set_option('display.max_rows', 115)\n",
    "tws_counts = (\n",
    "    df\n",
    "    .groupby(\"screen_name\")\n",
    "    .count()\n",
    "    .sort_values(\"text\")\n",
    "    .reset_index()\n",
    ")"
   ]
  },
  {
   "cell_type": "code",
   "execution_count": 40,
   "metadata": {},
   "outputs": [],
   "source": [
    "tws_counts[\"prc\"] = tws_counts[\"text\"].div(tws_counts[\"text\"].sum())\n",
    "tws_counts[\"n_sample\"] = tws_counts[\"prc\"] * tws_counts[\"text\"]\n",
    "tws_counts[\"n_tweets\"] = tws_counts[\"text\"]"
   ]
  },
  {
   "cell_type": "code",
   "execution_count": 49,
   "metadata": {},
   "outputs": [],
   "source": [
    "n_tweets_sample = 300"
   ]
  },
  {
   "cell_type": "code",
   "execution_count": 60,
   "metadata": {},
   "outputs": [],
   "source": [
    "df_sampled = (\n",
    "    df\n",
    "    .merge(tws_counts[[\"screen_name\", \"prc\", \"n_sample\", \"n_tweets\"]], on=\"screen_name\")\n",
    "    .query(f\"n_tweets >= {n_tweets_sample}\")\n",
    "    .groupby([\"screen_name\"])\n",
    "    .apply(lambda df: df.sample(n_tweets_sample, random_state=8117))\n",
    "    .reset_index(drop=True)\n",
    ")"
   ]
  },
  {
   "cell_type": "markdown",
   "metadata": {},
   "source": [
    "# Guardar"
   ]
  },
  {
   "cell_type": "code",
   "execution_count": 63,
   "metadata": {},
   "outputs": [],
   "source": [
    "with open(\"pickles/lectura_sample.pickle\", \"wb\") as f:\n",
    "    pickle.dump((df_sampled, f_ini, f_fin) , f)"
   ]
  },
  {
   "cell_type": "code",
   "execution_count": 64,
   "metadata": {},
   "outputs": [],
   "source": [
    "with open(\"pickles/lectura_full.pickle\", \"wb\") as f:\n",
    "    pickle.dump((df, f_ini, f_fin) , f)"
   ]
  }
 ],
 "metadata": {
  "kernelspec": {
   "display_name": "Python [conda env:root] *",
   "language": "python",
   "name": "conda-root-py"
  },
  "language_info": {
   "codemirror_mode": {
    "name": "ipython",
    "version": 3
   },
   "file_extension": ".py",
   "mimetype": "text/x-python",
   "name": "python",
   "nbconvert_exporter": "python",
   "pygments_lexer": "ipython3",
   "version": "3.8.6"
  },
  "pycharm": {
   "stem_cell": {
    "cell_type": "raw",
    "metadata": {
     "collapsed": false
    },
    "source": []
   }
  }
 },
 "nbformat": 4,
 "nbformat_minor": 4
}
