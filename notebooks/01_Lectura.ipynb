{
 "cells": [
  {
   "cell_type": "code",
   "execution_count": 2,
   "metadata": {},
   "outputs": [],
   "source": [
    "import sys\n",
    "\n",
    "sys.path.insert(1, '/home/pepe/Documents/tesis_codigo')"
   ]
  },
  {
   "cell_type": "code",
   "execution_count": 3,
   "metadata": {
    "pycharm": {
     "is_executing": false
    }
   },
   "outputs": [],
   "source": [
    "from helpers.reading import read_filter_df\n",
    "import pickle"
   ]
  },
  {
   "cell_type": "code",
   "execution_count": 4,
   "metadata": {},
   "outputs": [],
   "source": [
    "f_fin = \"2017-09-11\"\n",
    "f_ini = \"2017-09-04\""
   ]
  },
  {
   "cell_type": "code",
   "execution_count": 5,
   "metadata": {
    "collapsed": false,
    "jupyter": {
     "outputs_hidden": false
    },
    "pycharm": {
     "is_executing": false,
     "name": "#%%\n"
    }
   },
   "outputs": [
    {
     "name": "stdout",
     "output_type": "stream",
     "text": [
      "Descartando: ../data/twitter_accounts/panchogarfias.csv por tener <10 tweets\n",
      "Descartando: ../data/twitter_accounts/E_Q_.csv por tener <10 tweets\n",
      "Descartando: ../data/twitter_accounts/caudillomx.csv por tener <10 tweets\n",
      "Descartando: ../data/twitter_accounts/Adela_Micha.csv por tener <10 tweets\n",
      "Descartando: ../data/twitter_accounts/DiegoEOsorno.csv por tener <10 tweets\n",
      "Descartando: ../data/twitter_accounts/soyfdelrincon.csv por tener <10 tweets\n"
     ]
    }
   ],
   "source": [
    "df, f_ini, f_fin = read_filter_df(f_ini=f_ini, f_fin=f_fin, path=\"../data/twitter_accounts/\")"
   ]
  },
  {
   "cell_type": "code",
   "execution_count": 6,
   "metadata": {},
   "outputs": [],
   "source": [
    "with open(\"pickles/lectura.pickle\", \"wb\") as f:\n",
    "    pickle.dump((df, f_ini, f_fin) , f)"
   ]
  }
 ],
 "metadata": {
  "kernelspec": {
   "display_name": "Python [conda env:tesis]",
   "language": "python",
   "name": "conda-env-tesis-py"
  },
  "language_info": {
   "codemirror_mode": {
    "name": "ipython",
    "version": 3
   },
   "file_extension": ".py",
   "mimetype": "text/x-python",
   "name": "python",
   "nbconvert_exporter": "python",
   "pygments_lexer": "ipython3",
   "version": "3.8.5"
  },
  "pycharm": {
   "stem_cell": {
    "cell_type": "raw",
    "metadata": {
     "collapsed": false
    },
    "source": []
   }
  }
 },
 "nbformat": 4,
 "nbformat_minor": 4
}
